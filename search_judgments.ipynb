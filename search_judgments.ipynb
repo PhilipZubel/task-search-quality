{
 "cells": [
  {
   "cell_type": "code",
   "execution_count": 17,
   "metadata": {},
   "outputs": [],
   "source": [
    "import sys\n",
    "import os\n",
    "import json\n",
    "from google.protobuf.json_format import Parse\n",
    "sys.path.insert(0, 'compiled_protobufs')\n",
    "from taskmap_pb2 import TaskMap\n",
    "from pyserini.search import LuceneSearcher\n"
   ]
  },
  {
   "cell_type": "code",
   "execution_count": 5,
   "metadata": {},
   "outputs": [],
   "source": [
    "searcher_config = {\n",
    "    'BM25': {'b': 0.4, 'k1': 0.9},\n",
    "    # 'BM25+RM3':{\n",
    "    #     'BM25': {'b': 0.4, 'k1': 0.9},\n",
    "    #     'RM3': {'fb_terms': 10, 'fb_docs': 10, 'original_query_weight': 0.5},\n",
    "    # }\n",
    "}"
   ]
  },
  {
   "cell_type": "code",
   "execution_count": 18,
   "metadata": {},
   "outputs": [],
   "source": [
    "taskmap_cooking_index_path = os.path.join(os.getcwd(), \"indexes\", \"food\", \"system_index_sparse\")\n",
    "\n",
    "def get_pyserini_docs(searcher, query, k, query_id):\n",
    "    \"\"\" Print pyserini results based on specific query, searcher, and k. \"\"\"\n",
    "    results = []\n",
    "    for hit in searcher.search(q=query, k=k):\n",
    "        doc_string = hit.raw\n",
    "        doc_json = json.loads(doc_string)\n",
    "        taskmap_json = doc_json['recipe_document_json']\n",
    "        taskmap = Parse(json.dumps(taskmap_json), TaskMap())\n",
    "        result = {\n",
    "            \"doc-id\" : taskmap.taskmap_id, \n",
    "            \"doc-title\" : taskmap.title, \n",
    "            \"doc-url\" : taskmap.source_url, \n",
    "            \"score\": round(float(hit.score),3),\n",
    "            \"query-id\": query_id,\n",
    "            \"query\": query\n",
    "        }\n",
    "        results.append(result)\n",
    "    return results"
   ]
  },
  {
   "cell_type": "code",
   "execution_count": 21,
   "metadata": {},
   "outputs": [
    {
     "data": {
      "text/plain": [
       "[{'doc-id': 'cooking+recipe1m+aab5020cbe47ca5d272477f1386ea628',\n",
       "  'doc-title': 'Roast Tenderloin of Beef',\n",
       "  'doc-url': 'https://recipeland.com/recipe/v/roast-tenderloin-of-beef-39217',\n",
       "  'score': 2.534,\n",
       "  'query-id': 1,\n",
       "  'query': 'meat'},\n",
       " {'doc-id': 'cooking+recipe1m+aab5020cbe47ca5d272477f1386ea628',\n",
       "  'doc-title': 'Roast Tenderloin of Beef',\n",
       "  'doc-url': 'https://recipeland.com/recipe/v/roast-tenderloin-of-beef-39217',\n",
       "  'score': 2.534,\n",
       "  'query-id': 1,\n",
       "  'query': 'meat'},\n",
       " {'doc-id': 'cooking+recipe1m+aab5020cbe47ca5d272477f1386ea628',\n",
       "  'doc-title': 'Roast Tenderloin of Beef',\n",
       "  'doc-url': 'https://recipeland.com/recipe/v/roast-tenderloin-of-beef-39217',\n",
       "  'score': 2.534,\n",
       "  'query-id': 1,\n",
       "  'query': 'meat'},\n",
       " {'doc-id': 'cooking+recipe1m+aab5020cbe47ca5d272477f1386ea628',\n",
       "  'doc-title': 'Roast Tenderloin of Beef',\n",
       "  'doc-url': 'https://recipeland.com/recipe/v/roast-tenderloin-of-beef-39217',\n",
       "  'score': 2.534,\n",
       "  'query-id': 1,\n",
       "  'query': 'meat'},\n",
       " {'doc-id': 'cooking+recipe1m+2b6d4de4fe43ef9da39fc8e70cd9e1ba',\n",
       "  'doc-title': 'Brealbg Copycat Greenville Maid Rite',\n",
       "  'doc-url': 'http://www.food.com/recipe/brealbg-copycat-greenville-maid-rite-507119',\n",
       "  'score': 2.493,\n",
       "  'query-id': 1,\n",
       "  'query': 'meat'}]"
      ]
     },
     "execution_count": 21,
     "metadata": {},
     "output_type": "execute_result"
    }
   ],
   "source": [
    "query = \"meat\"\n",
    "searcher = LuceneSearcher(index_dir=taskmap_cooking_index_path)\n",
    "searcher.set_bm25(b=0.4,k1=0.9)\n",
    "get_pyserini_docs(searcher, query, k=5, query_id=1)"
   ]
  },
  {
   "cell_type": "code",
   "execution_count": null,
   "metadata": {},
   "outputs": [],
   "source": []
  }
 ],
 "metadata": {
  "kernelspec": {
   "display_name": "env",
   "language": "python",
   "name": "python3"
  },
  "language_info": {
   "codemirror_mode": {
    "name": "ipython",
    "version": 3
   },
   "file_extension": ".py",
   "mimetype": "text/x-python",
   "name": "python",
   "nbconvert_exporter": "python",
   "pygments_lexer": "ipython3",
   "version": "3.9.2"
  },
  "orig_nbformat": 4,
  "vscode": {
   "interpreter": {
    "hash": "5fc5ba0db375a557a527168d68cfbe4f022bc62df7af9d8f86e24130294f8f8e"
   }
  }
 },
 "nbformat": 4,
 "nbformat_minor": 2
}
