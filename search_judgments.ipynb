{
 "cells": [
  {
   "cell_type": "code",
   "execution_count": 39,
   "metadata": {},
   "outputs": [],
   "source": [
    "import sys\n",
    "import os\n",
    "import json\n",
    "from google.protobuf.json_format import Parse\n",
    "sys.path.insert(0, 'compiled_protobufs')\n",
    "from taskmap_pb2 import TaskMap\n",
    "from pyserini.search import LuceneSearcher\n",
    "import csv"
   ]
  },
  {
   "cell_type": "code",
   "execution_count": 7,
   "metadata": {},
   "outputs": [],
   "source": [
    "searcher_config = {\n",
    "    'BM25': {'b': 0.4, 'k1': 0.9},\n",
    "    # 'BM25+RM3':{\n",
    "    #     'BM25': {'b': 0.4, 'k1': 0.9},\n",
    "    #     'RM3': {'fb_terms': 10, 'fb_docs': 10, 'original_query_weight': 0.5},\n",
    "    # }\n",
    "}"
   ]
  },
  {
   "cell_type": "code",
   "execution_count": 40,
   "metadata": {},
   "outputs": [],
   "source": [
    "taskmap_cooking_index_path = os.path.join(os.getcwd(), \"indexes\", \"food\", \"system_index_sparse\")\n",
    "annotations_path = os.path.join(os.getcwd(), \"datasets\", \"judgments\", \"cooking-annotations.csv\")\n",
    "\n",
    "def get_pyserini_docs(searcher, query, k, query_id):\n",
    "    \"\"\" Print pyserini results based on specific query, searcher, and k. \"\"\"\n",
    "    results = []\n",
    "    for hit in searcher.search(q=query, k=k):\n",
    "        doc_string = hit.raw\n",
    "        doc_json = json.loads(doc_string)\n",
    "        taskmap_json = doc_json['recipe_document_json']\n",
    "        taskmap = Parse(json.dumps(taskmap_json), TaskMap())\n",
    "        result = {\n",
    "            \"doc-id\" : taskmap.taskmap_id, \n",
    "            \"doc-title\" : taskmap.title, \n",
    "            \"doc-url\" : taskmap.source_url, \n",
    "            \"score\": round(float(hit.score),3),\n",
    "            \"query-id\": query_id,\n",
    "            \"query\": query\n",
    "        }\n",
    "        results.append(result)\n",
    "    return results"
   ]
  },
  {
   "cell_type": "code",
   "execution_count": 42,
   "metadata": {},
   "outputs": [
    {
     "name": "stdout",
     "output_type": "stream",
     "text": [
      "risotto without mushrooms\n",
      "salty vegan cheesecake\n",
      "fluffy chocolate cake famous cook\n",
      "pumpkin soup without blender\n",
      " Robuchon tomato soup\n",
      "lime lemonade without lemons\n",
      " uncle roger egg fried rice\n",
      "pescatarian friendly meatballs\n",
      "light greek dinner\n",
      "pre workout banana smoothie\n"
     ]
    }
   ],
   "source": [
    "query = \"Roast Tenderloin of Beef\"\n",
    "searcher = LuceneSearcher(index_dir=taskmap_cooking_index_path)\n",
    "searcher.set_bm25(b=0.4,k1=0.9)\n",
    "\n",
    "new_judgments = []\n",
    "for idx, query in cooking_queries.iterrows():\n",
    "    print(query[\"target query\"])\n",
    "    new_judgments += get_pyserini_docs(searcher, query[\"target query\"], k=5, query_id=idx)\n",
    "    \n",
    "\n",
    "with open(annotations_path, 'w') as csvfile:\n",
    "    fieldnames = ['first_name', 'last_name']\n",
    "    writer = csv.DictWriter(csvfile, fieldnames=new_judgments[0].keys())\n",
    "    writer.writeheader()\n",
    "    writer.writerows(new_judgments)\n"
   ]
  },
  {
   "cell_type": "code",
   "execution_count": null,
   "metadata": {},
   "outputs": [],
   "source": []
  }
 ],
 "metadata": {
  "kernelspec": {
   "display_name": "env",
   "language": "python",
   "name": "python3"
  },
  "language_info": {
   "codemirror_mode": {
    "name": "ipython",
    "version": 3
   },
   "file_extension": ".py",
   "mimetype": "text/x-python",
   "name": "python",
   "nbconvert_exporter": "python",
   "pygments_lexer": "ipython3",
   "version": "3.9.2"
  },
  "orig_nbformat": 4,
  "vscode": {
   "interpreter": {
    "hash": "5fc5ba0db375a557a527168d68cfbe4f022bc62df7af9d8f86e24130294f8f8e"
   }
  }
 },
 "nbformat": 4,
 "nbformat_minor": 2
}
