{
 "cells": [
  {
   "cell_type": "code",
   "execution_count": 5,
   "metadata": {},
   "outputs": [],
   "source": [
    "import json\n",
    "\n",
    "with open('../datasets/recipe1mln.json') as f:\n",
    "    recipe_dataset = json.load(f)"
   ]
  },
  {
   "cell_type": "code",
   "execution_count": 6,
   "metadata": {},
   "outputs": [],
   "source": [
    "## convert recipe_1m_convertor json to taskgraphs\n",
    "from recipe_1m_convertor import Recipe1MConvertor\n",
    "\n",
    "taskmap_protos = []\n",
    "for recipe in recipe_dataset:\n",
    "    convertor = Recipe1MConvertor()\n",
    "    taskgraph = convertor.document_to_task_graph((recipe, []))\n",
    "    taskmap_protos.append(taskgraph.to_proto())"
   ]
  },
  {
   "cell_type": "code",
   "execution_count": 7,
   "metadata": {},
   "outputs": [],
   "source": [
    "import stream\n",
    "import os\n",
    "\n",
    "def write_protobuf_list_to_file(path, protobuf_list, buffer_size=1000):\n",
    "    \"\"\" Write list of Documents messages to binary file. \"\"\"\n",
    "    stream.dump(path, *protobuf_list, buffer_size=buffer_size)\n",
    "\n",
    "# taskmap_protos_filepath = os.path.join(os.getcwd(), os.pardir,'bin','recipe1mln','taskmap')\n",
    "taskmap_protos_filepath = os.path.join(os.getcwd(),'bin','taskmaps.bin')\n",
    "\n",
    "write_protobuf_list_to_file(taskmap_protos_filepath, taskmap_protos)"
   ]
  },
  {
   "cell_type": "code",
   "execution_count": null,
   "metadata": {},
   "outputs": [],
   "source": []
  }
 ],
 "metadata": {
  "kernelspec": {
   "display_name": "Python 3.9.2 ('env': venv)",
   "language": "python",
   "name": "python3"
  },
  "language_info": {
   "codemirror_mode": {
    "name": "ipython",
    "version": 3
   },
   "file_extension": ".py",
   "mimetype": "text/x-python",
   "name": "python",
   "nbconvert_exporter": "python",
   "pygments_lexer": "ipython3",
   "version": "3.9.2"
  },
  "orig_nbformat": 4,
  "vscode": {
   "interpreter": {
    "hash": "5fc5ba0db375a557a527168d68cfbe4f022bc62df7af9d8f86e24130294f8f8e"
   }
  }
 },
 "nbformat": 4,
 "nbformat_minor": 2
}
