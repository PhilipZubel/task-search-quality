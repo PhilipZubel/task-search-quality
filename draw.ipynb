{
 "cells": [
  {
   "cell_type": "code",
   "execution_count": 1,
   "metadata": {},
   "outputs": [],
   "source": [
    "# pip install pydot\n",
    "# sudo apt-get install graphviz"
   ]
  },
  {
   "cell_type": "code",
   "execution_count": 1,
   "metadata": {},
   "outputs": [
    {
     "ename": "NameError",
     "evalue": "name 'taskgraph' is not defined",
     "output_type": "error",
     "traceback": [
      "\u001b[0;31m---------------------------------------------------------------------------\u001b[0m",
      "\u001b[0;31mNameError\u001b[0m                                 Traceback (most recent call last)",
      "Cell \u001b[0;32mIn[1], line 12\u001b[0m\n\u001b[1;32m      7\u001b[0m \u001b[39mfrom\u001b[39;00m \u001b[39mdraw_helper\u001b[39;00m \u001b[39mimport\u001b[39;00m parse_taskgraph, read_protobuf_list_from_file, get_task_visualization\n\u001b[1;32m      9\u001b[0m task \u001b[39m=\u001b[39m read_protobuf_list_from_file(\u001b[39m\"\u001b[39m\u001b[39mcreamy_zucchini_pasta.proto\u001b[39m\u001b[39m\"\u001b[39m, TaskMap)\n\u001b[0;32m---> 12\u001b[0m get_task_visualization(taskgraph, jupyter_notebook\u001b[39m=\u001b[39m\u001b[39mTrue\u001b[39;00m, png_filename\u001b[39m=\u001b[39m\u001b[39m\"\u001b[39m\u001b[39mtask_visualization\u001b[39m\u001b[39m\"\u001b[39m)\n",
      "\u001b[0;31mNameError\u001b[0m: name 'taskgraph' is not defined"
     ]
    }
   ],
   "source": [
    "# task = get_taskgraph()\n",
    "import sys\n",
    "sys.path.insert(0, 'compiled_protobufs')\n",
    "from taskmap_pb2 import TaskMap\n",
    "import os\n",
    "\n",
    "from draw_helper import parse_taskgraph, read_protobuf_list_from_file, get_task_visualization\n",
    "\n",
    "task = read_protobuf_list_from_file(\"creamy_zucchini_pasta.proto\", TaskMap)\n",
    "\n",
    "\n",
    "get_task_visualization(task, jupyter_notebook=True, png_filename=\"task_visualization\")\n",
    "\n"
   ]
  },
  {
   "cell_type": "code",
   "execution_count": 3,
   "metadata": {},
   "outputs": [],
   "source": [
    "# # help(pydot.Node(-1, label=\"hallo\"))\n",
    "# task = read_protobuf_list_from_file(\"creamy_zucchini_pasta.proto\", TaskMap)\n",
    "# print(task)"
   ]
  }
 ],
 "metadata": {
  "kernelspec": {
   "display_name": "env",
   "language": "python",
   "name": "env"
  },
  "language_info": {
   "codemirror_mode": {
    "name": "ipython",
    "version": 3
   },
   "file_extension": ".py",
   "mimetype": "text/x-python",
   "name": "python",
   "nbconvert_exporter": "python",
   "pygments_lexer": "ipython3",
   "version": "3.10.6"
  },
  "orig_nbformat": 4,
  "vscode": {
   "interpreter": {
    "hash": "5fc5ba0db375a557a527168d68cfbe4f022bc62df7af9d8f86e24130294f8f8e"
   }
  }
 },
 "nbformat": 4,
 "nbformat_minor": 2
}
