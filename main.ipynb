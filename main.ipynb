{
 "cells": [
  {
   "cell_type": "code",
   "execution_count": 1,
   "metadata": {},
   "outputs": [],
   "source": [
    "import os\n",
    "import sys\n",
    "\n",
    "sys.path.insert(0, './compiled_protobufs')\n",
    "\n",
    "from index_builder.pyserini_index_builder import PyseriniIndexBuilder\n",
    "from index_builder.abstract_index_builder import AbstractIndexBuilder\n",
    "from index_builder.marqo_index_builder import MarqoIndexBuilder\n"
   ]
  },
  {
   "cell_type": "code",
   "execution_count": 2,
   "metadata": {},
   "outputs": [],
   "source": [
    "dataset_names = [\"seriouseats\", \"wikihow\"]\n",
    "dataset_paths = [os.path.join(os.getcwd(), \"bin\", dataset,\"taskmap\") for dataset in dataset_names]\n",
    "\n",
    "\n",
    "output_temp_dir = os.path.join(os.getcwd(), \"temp\", \"system_index\")\n",
    "output_temp_dir_dense = os.path.join(os.getcwd(), \"temp\", \"system_index_dense\")\n",
    "output_index_dir = os.path.join(os.getcwd(), \"indexes\", \"system_index\")\n",
    "output_index_dir_dense = os.path.join(os.getcwd(), \"indexes\", \"system_index_dense\")"
   ]
  },
  {
   "cell_type": "markdown",
   "metadata": {},
   "source": [
    "## Marqo Index Builder"
   ]
  },
  {
   "cell_type": "code",
   "execution_count": 3,
   "metadata": {},
   "outputs": [
    {
     "name": "stdout",
     "output_type": "stream",
     "text": [
      "{'_id': 'diy+wikihow-offline+5448d4e195f69b73fc30412f611480a2', 'Title': 'How to Stick a Pencil to the Ceiling', 'Description': 'How to Stick a Pencil to the Ceiling. Pencil School glue stick Arts and Entertainment Fun Activities Tricks Tricks with Objects Pencil Tricks Ever seen a pencil hanging from the ceiling of a classroom? Ever wondered how it got there? Maybe you want to impress your friends with this simple, but fun trick.Stab the flat end of the pencil (or end with eraser) into a school glue stick, about 1–2 centimeter (0.4–0.8 in) in (up to three quarters of an inch) Take it out and see if there is a \"glob\" of glue on the end. Move the glue onto the end of the pencil, make sure it is on tight and won\\'t come off too easily. Holding the sharpened end with the glue downwards, (preferably just below the height of a desk) check for a teacher, the best time to do this is when a teacher has left the room. Fling the pencil up. Just a quick flick will do. Look for it moving on the ceiling. If it is moving, it may come back down. Another simpler version to complete this task is to sharpen your pencil, and flick it at the ceiling so that it goes in like an arrow. '}\n"
     ]
    }
   ],
   "source": [
    "MarqoBuilder = MarqoIndexBuilder()\n",
    "for taskmap_dir, dataset_name in zip(dataset_paths, dataset_names):\n",
    "    MarqoBuilder.build_json_docs(input_dir=taskmap_dir,\n",
    "                                    output_dir=output_temp_dir,\n",
    "                                    dataset_name=dataset_name)\n",
    "\n",
    "MarqoBuilder.build_index(input_dir=output_temp_dir,\n",
    "                                    output_dir=output_index_dir)"
   ]
  },
  {
   "cell_type": "markdown",
   "metadata": {},
   "source": [
    "### Relevance judgements"
   ]
  },
  {
   "cell_type": "code",
   "execution_count": 48,
   "metadata": {},
   "outputs": [],
   "source": [
    "import pandas as pd\n",
    "import jsonlines"
   ]
  },
  {
   "cell_type": "code",
   "execution_count": 49,
   "metadata": {},
   "outputs": [],
   "source": [
    "queries = [\n",
    "    \"I want pizza pepperoni.\",\n",
    "    \"I would like to make spaghetti bolognese.\",\n",
    "    \"I want to prepare smoked salmon.\"\n",
    "]     "
   ]
  },
  {
   "cell_type": "code",
   "execution_count": 58,
   "metadata": {},
   "outputs": [
    {
     "data": {
      "text/plain": [
       "3645"
      ]
     },
     "execution_count": 58,
     "metadata": {},
     "output_type": "execute_result"
    }
   ],
   "source": [
    "run = []\n",
    "for queryid, query in enumerate(queries):\n",
    "    results = MarqoBuilder.query_index(query)\n",
    "    for rank, doc in enumerate(results[\"hits\"]):\n",
    "        d = {}\n",
    "        d[\"query_id\"] = f'query-{queryid}'\n",
    "        d[\"doc_id\"] = doc[\"_id\"]\n",
    "        d[\"score\"] = doc[\"_score\"]\n",
    "        d[\"rank\"] = rank + 1\n",
    "        run.append(d)\n",
    "        \n",
    "jsonlines.Writer(open('qrels/run.jsonl', 'w')).write_all(run)\n",
    "\n"
   ]
  },
  {
   "cell_type": "code",
   "execution_count": 59,
   "metadata": {},
   "outputs": [
    {
     "data": {
      "text/html": [
       "<div>\n",
       "<style scoped>\n",
       "    .dataframe tbody tr th:only-of-type {\n",
       "        vertical-align: middle;\n",
       "    }\n",
       "\n",
       "    .dataframe tbody tr th {\n",
       "        vertical-align: top;\n",
       "    }\n",
       "\n",
       "    .dataframe thead th {\n",
       "        text-align: right;\n",
       "    }\n",
       "</style>\n",
       "<table border=\"1\" class=\"dataframe\">\n",
       "  <thead>\n",
       "    <tr style=\"text-align: right;\">\n",
       "      <th></th>\n",
       "      <th>query_id</th>\n",
       "      <th>doc_id</th>\n",
       "      <th>relevance</th>\n",
       "    </tr>\n",
       "  </thead>\n",
       "  <tbody>\n",
       "    <tr>\n",
       "      <th>0</th>\n",
       "      <td>query-0</td>\n",
       "      <td>diy+wikihow-offline+c6f1772195d95ee11afbcccfbe...</td>\n",
       "      <td>3</td>\n",
       "    </tr>\n",
       "    <tr>\n",
       "      <th>1</th>\n",
       "      <td>query-0</td>\n",
       "      <td>diy+wikihow-offline+082d97e066faeafec4b59a0b82...</td>\n",
       "      <td>2</td>\n",
       "    </tr>\n",
       "    <tr>\n",
       "      <th>2</th>\n",
       "      <td>query-0</td>\n",
       "      <td>diy+wikihow-offline+a2152cc0e88dfb5b5dfd68bd07...</td>\n",
       "      <td>3</td>\n",
       "    </tr>\n",
       "    <tr>\n",
       "      <th>3</th>\n",
       "      <td>query-0</td>\n",
       "      <td>diy+wikihow-offline+209aa9b1b821408f20391a1539...</td>\n",
       "      <td>2</td>\n",
       "    </tr>\n",
       "    <tr>\n",
       "      <th>4</th>\n",
       "      <td>query-0</td>\n",
       "      <td>diy+wikihow-offline+1c6369f2c076520113779e80d2...</td>\n",
       "      <td>1</td>\n",
       "    </tr>\n",
       "  </tbody>\n",
       "</table>\n",
       "</div>"
      ],
      "text/plain": [
       "  query_id                                             doc_id  relevance\n",
       "0  query-0  diy+wikihow-offline+c6f1772195d95ee11afbcccfbe...          3\n",
       "1  query-0  diy+wikihow-offline+082d97e066faeafec4b59a0b82...          2\n",
       "2  query-0  diy+wikihow-offline+a2152cc0e88dfb5b5dfd68bd07...          3\n",
       "3  query-0  diy+wikihow-offline+209aa9b1b821408f20391a1539...          2\n",
       "4  query-0  diy+wikihow-offline+1c6369f2c076520113779e80d2...          1"
      ]
     },
     "execution_count": 59,
     "metadata": {},
     "output_type": "execute_result"
    }
   ],
   "source": [
    "qrel_reader = jsonlines.Reader(open(\"qrels/qrels.jsonl\", \"r\"))\n",
    "qrels = pd.DataFrame([line for line in qrel_reader])\n",
    "qrels.head()"
   ]
  },
  {
   "cell_type": "code",
   "execution_count": 52,
   "metadata": {},
   "outputs": [],
   "source": [
    "# import ir_measures\n",
    "# from ir_measures import *\n",
    "# import pandas as pd"
   ]
  },
  {
   "cell_type": "code",
   "execution_count": 42,
   "metadata": {},
   "outputs": [],
   "source": [
    "# import ast\n",
    "# import json\n",
    "\n",
    "# with open ('qrels/qrels.jsonl', \"r\") as f:\n",
    "#     qrels = []\n",
    "#     for line in f:\n",
    "#         qrel = ast.literal_eval(line)\n",
    "#         qrel[\"features\"] = qrel[\"features\"][0][1]\n",
    "#         # features = json.loads(qrel[\"features\"])\n",
    "#         # print(features)\n",
    "#         qrels.append(qrel)\n",
    "# pd_qrels = pd.DataFrame(qrels)\n",
    "# # pd_qrels[\"features\"].iloc[0]\n",
    "# pd_qrels.head()"
   ]
  },
  {
   "cell_type": "code",
   "execution_count": 69,
   "metadata": {},
   "outputs": [
    {
     "ename": "ValueError",
     "evalue": "too many values to unpack (expected 4)",
     "output_type": "error",
     "traceback": [
      "\u001b[0;31m---------------------------------------------------------------------------\u001b[0m",
      "\u001b[0;31mValueError\u001b[0m                                Traceback (most recent call last)",
      "Cell \u001b[0;32mIn [69], line 7\u001b[0m\n\u001b[1;32m      5\u001b[0m run \u001b[39m=\u001b[39m ir_measures\u001b[39m.\u001b[39mread_trec_run(\u001b[39m'\u001b[39m\u001b[39mqrels/run.jsonl\u001b[39m\u001b[39m'\u001b[39m)\n\u001b[1;32m      6\u001b[0m \u001b[39m# ir_measures.calc_aggregate([nDCG@3, Recall@5], qrels, run)\u001b[39;00m\n\u001b[0;32m----> 7\u001b[0m \u001b[39mfor\u001b[39;00m m \u001b[39min\u001b[39;00m ir_measures\u001b[39m.\u001b[39;49miter_calc([AP, nDCG, RR, nDCG\u001b[39m@\u001b[39;49m\u001b[39m10\u001b[39;49m, P(rel\u001b[39m=\u001b[39;49m\u001b[39m2\u001b[39;49m)\u001b[39m@\u001b[39;49m\u001b[39m10\u001b[39;49m], qrels, run):\n\u001b[1;32m      8\u001b[0m     \u001b[39mprint\u001b[39m(m)\n",
      "File \u001b[0;32m~/task-search-quality/.env/lib/python3.9/site-packages/ir_measures/providers/base.py:70\u001b[0m, in \u001b[0;36mProvider.iter_calc\u001b[0;34m(self, measures, qrels, run)\u001b[0m\n\u001b[1;32m     68\u001b[0m \u001b[39mdef\u001b[39;00m \u001b[39miter_calc\u001b[39m(\u001b[39mself\u001b[39m, measures, qrels, run):\n\u001b[1;32m     69\u001b[0m     \u001b[39mif\u001b[39;00m \u001b[39mself\u001b[39m\u001b[39m.\u001b[39mis_available():\n\u001b[0;32m---> 70\u001b[0m         \u001b[39mreturn\u001b[39;00m \u001b[39mself\u001b[39;49m\u001b[39m.\u001b[39;49m_iter_calc(measures, qrels, run)\n\u001b[1;32m     71\u001b[0m     \u001b[39melse\u001b[39;00m:\n\u001b[1;32m     72\u001b[0m         \u001b[39mraise\u001b[39;00m \u001b[39mRuntimeError\u001b[39;00m(\u001b[39m'\u001b[39m\u001b[39mprovider \u001b[39m\u001b[39m%s\u001b[39;00m\u001b[39m not available\u001b[39m\u001b[39m'\u001b[39m \u001b[39m%\u001b[39m \u001b[39mself\u001b[39m\u001b[39m.\u001b[39mNAME)\n",
      "File \u001b[0;32m~/task-search-quality/.env/lib/python3.9/site-packages/ir_measures/providers/base.py:78\u001b[0m, in \u001b[0;36mProvider._iter_calc\u001b[0;34m(self, measures, qrels, run)\u001b[0m\n\u001b[1;32m     77\u001b[0m \u001b[39mdef\u001b[39;00m \u001b[39m_iter_calc\u001b[39m(\u001b[39mself\u001b[39m, measures, qrels, run):\n\u001b[0;32m---> 78\u001b[0m     \u001b[39mreturn\u001b[39;00m \u001b[39mself\u001b[39;49m\u001b[39m.\u001b[39;49m_evaluator(measures, qrels)\u001b[39m.\u001b[39miter_calc(run)\n",
      "File \u001b[0;32m~/task-search-quality/.env/lib/python3.9/site-packages/ir_measures/providers/fallback_provider.py:31\u001b[0m, in \u001b[0;36mFallbackProvider._evaluator\u001b[0;34m(self, measures, qrels)\u001b[0m\n\u001b[1;32m     28\u001b[0m     \u001b[39mraise\u001b[39;00m \u001b[39mValueError\u001b[39;00m(\u001b[39mf\u001b[39m\u001b[39m'\u001b[39m\u001b[39munsupported measures \u001b[39m\u001b[39m{\u001b[39;00mmeasures\u001b[39m}\u001b[39;00m\u001b[39m'\u001b[39m)\n\u001b[1;32m     30\u001b[0m evaluators \u001b[39m=\u001b[39m []\n\u001b[0;32m---> 31\u001b[0m qrels_teed \u001b[39m=\u001b[39m QrelsConverter(qrels)\u001b[39m.\u001b[39;49mtee(\u001b[39mlen\u001b[39;49m(provider_measure_pairs))\n\u001b[1;32m     32\u001b[0m \u001b[39mfor\u001b[39;00m (provider, provider_measures), qrels \u001b[39min\u001b[39;00m \u001b[39mzip\u001b[39m(provider_measure_pairs, qrels_teed):\n\u001b[1;32m     33\u001b[0m     evaluators\u001b[39m.\u001b[39mappend(provider\u001b[39m.\u001b[39mevaluator(provider_measures, qrels\u001b[39m.\u001b[39mqrels))\n",
      "File \u001b[0;32m~/task-search-quality/.env/lib/python3.9/site-packages/ir_measures/util.py:51\u001b[0m, in \u001b[0;36mQrelsConverter.tee\u001b[0;34m(self, count)\u001b[0m\n\u001b[1;32m     50\u001b[0m \u001b[39mdef\u001b[39;00m \u001b[39mtee\u001b[39m(\u001b[39mself\u001b[39m, count):\n\u001b[0;32m---> 51\u001b[0m     t, err \u001b[39m=\u001b[39m \u001b[39mself\u001b[39;49m\u001b[39m.\u001b[39;49mpredict_type()\n\u001b[1;32m     52\u001b[0m     \u001b[39mif\u001b[39;00m t \u001b[39m==\u001b[39m \u001b[39m'\u001b[39m\u001b[39mnamedtuple_iter\u001b[39m\u001b[39m'\u001b[39m:\n\u001b[1;32m     53\u001b[0m         teed_qrels \u001b[39m=\u001b[39m itertools\u001b[39m.\u001b[39mtee(\u001b[39mself\u001b[39m\u001b[39m.\u001b[39mqrels, count)\n",
      "File \u001b[0;32m~/task-search-quality/.env/lib/python3.9/site-packages/ir_measures/util.py:76\u001b[0m, in \u001b[0;36mQrelsConverter.predict_type\u001b[0;34m(self)\u001b[0m\n\u001b[1;32m     74\u001b[0m \u001b[39mself\u001b[39m\u001b[39m.\u001b[39mqrels, peek_qrels \u001b[39m=\u001b[39m itertools\u001b[39m.\u001b[39mtee(\u001b[39mself\u001b[39m\u001b[39m.\u001b[39mqrels, \u001b[39m2\u001b[39m)\n\u001b[1;32m     75\u001b[0m sentinal \u001b[39m=\u001b[39m \u001b[39mobject\u001b[39m()\n\u001b[0;32m---> 76\u001b[0m item \u001b[39m=\u001b[39m \u001b[39mnext\u001b[39;49m(peek_qrels, sentinal)\n\u001b[1;32m     77\u001b[0m \u001b[39mif\u001b[39;00m \u001b[39misinstance\u001b[39m(item, \u001b[39mtuple\u001b[39m) \u001b[39mand\u001b[39;00m \u001b[39mhasattr\u001b[39m(item, \u001b[39m'\u001b[39m\u001b[39m_fields\u001b[39m\u001b[39m'\u001b[39m):\n\u001b[1;32m     78\u001b[0m     fields \u001b[39m=\u001b[39m item\u001b[39m.\u001b[39m_fields\n",
      "File \u001b[0;32m~/task-search-quality/.env/lib/python3.9/site-packages/ir_measures/util.py:279\u001b[0m, in \u001b[0;36mread_trec_qrels\u001b[0;34m(file)\u001b[0m\n\u001b[1;32m    277\u001b[0m reader \u001b[39m=\u001b[39m gzip\u001b[39m.\u001b[39mopen \u001b[39mif\u001b[39;00m file\u001b[39m.\u001b[39mendswith(\u001b[39m'\u001b[39m\u001b[39m.gz\u001b[39m\u001b[39m'\u001b[39m) \u001b[39melse\u001b[39;00m \u001b[39mopen\u001b[39m\n\u001b[1;32m    278\u001b[0m \u001b[39mwith\u001b[39;00m reader(file, \u001b[39m'\u001b[39m\u001b[39mrt\u001b[39m\u001b[39m'\u001b[39m) \u001b[39mas\u001b[39;00m f:\n\u001b[0;32m--> 279\u001b[0m     \u001b[39myield from\u001b[39;00m read_trec_qrels(f)\n",
      "File \u001b[0;32m~/task-search-quality/.env/lib/python3.9/site-packages/ir_measures/util.py:271\u001b[0m, in \u001b[0;36mread_trec_qrels\u001b[0;34m(file)\u001b[0m\n\u001b[1;32m    269\u001b[0m     \u001b[39mfor\u001b[39;00m line \u001b[39min\u001b[39;00m file:\n\u001b[1;32m    270\u001b[0m         \u001b[39mif\u001b[39;00m line\u001b[39m.\u001b[39mstrip():\n\u001b[0;32m--> 271\u001b[0m             query_id, iteration, doc_id, relevance \u001b[39m=\u001b[39m line\u001b[39m.\u001b[39msplit()\n\u001b[1;32m    272\u001b[0m             \u001b[39myield\u001b[39;00m Qrel(query_id\u001b[39m=\u001b[39mquery_id, doc_id\u001b[39m=\u001b[39mdoc_id, relevance\u001b[39m=\u001b[39m\u001b[39mint\u001b[39m(relevance), iteration\u001b[39m=\u001b[39miteration)\n\u001b[1;32m    273\u001b[0m \u001b[39melif\u001b[39;00m \u001b[39misinstance\u001b[39m(file, \u001b[39mstr\u001b[39m):\n",
      "\u001b[0;31mValueError\u001b[0m: too many values to unpack (expected 4)"
     ]
    }
   ],
   "source": [
    "import ir_measures\n",
    "from ir_measures import *\n",
    "\n",
    "qrels = ir_measures.read_trec_qrels('qrels/qrels.jsonl')\n",
    "run = ir_measures.read_trec_run('qrels/run.jsonl')\n",
    "# ir_measures.calc_aggregate([nDCG@3, Recall@5], qrels, run)\n",
    "for m in ir_measures.iter_calc([nDCG@10, P(rel=2)@10], qrels, run):\n",
    "    print(m)"
   ]
  },
  {
   "cell_type": "markdown",
   "metadata": {},
   "source": [
    "## Pyserini Index Builder"
   ]
  },
  {
   "cell_type": "code",
   "execution_count": 10,
   "metadata": {},
   "outputs": [],
   "source": [
    "PyseriniBuilder = PyseriniIndexBuilder()\n",
    "for taskmap_dir, dataset_name in zip(dataset_paths, dataset_names):\n",
    "    PyseriniBuilder.build_json_docs(input_dir=taskmap_dir,\n",
    "                                    output_dir=output_temp_dir,\n",
    "                                    dataset_name=dataset_name)\n",
    "\n",
    "    PyseriniBuilder.build_json_docs_dense(input_dir=taskmap_dir,\n",
    "                                        output_dir=output_temp_dir_dense,\n",
    "                                        dataset_name=dataset_name) "
   ]
  },
  {
   "cell_type": "code",
   "execution_count": 11,
   "metadata": {},
   "outputs": [
    {
     "name": "stdout",
     "output_type": "stream",
     "text": [
      "pyserini.index is deprecated, please use pyserini.index.lucene.\n",
      "WARNING: sun.reflect.Reflection.getCallerClass is not supported. This will impact performance.\n",
      "2022-11-19 11:39:14,767 INFO  [main] index.IndexCollection (IndexCollection.java:643) - Setting log level to INFO\n",
      "2022-11-19 11:39:14,770 INFO  [main] index.IndexCollection (IndexCollection.java:646) - Starting indexer...\n",
      "2022-11-19 11:39:14,771 INFO  [main] index.IndexCollection (IndexCollection.java:647) - ============ Loading Parameters ============\n",
      "2022-11-19 11:39:14,772 INFO  [main] index.IndexCollection (IndexCollection.java:648) - DocumentCollection path: /home/philip/task-search-quality/temp/system_index\n",
      "2022-11-19 11:39:14,772 INFO  [main] index.IndexCollection (IndexCollection.java:649) - CollectionClass: JsonCollection\n",
      "2022-11-19 11:39:14,773 INFO  [main] index.IndexCollection (IndexCollection.java:650) - Generator: DefaultLuceneDocumentGenerator\n",
      "2022-11-19 11:39:14,773 INFO  [main] index.IndexCollection (IndexCollection.java:651) - Threads: 8\n",
      "2022-11-19 11:39:14,774 INFO  [main] index.IndexCollection (IndexCollection.java:652) - Language: en\n",
      "2022-11-19 11:39:14,774 INFO  [main] index.IndexCollection (IndexCollection.java:653) - Stemmer: porter\n",
      "2022-11-19 11:39:14,775 INFO  [main] index.IndexCollection (IndexCollection.java:654) - Keep stopwords? false\n",
      "2022-11-19 11:39:14,775 INFO  [main] index.IndexCollection (IndexCollection.java:655) - Stopwords: null\n",
      "2022-11-19 11:39:14,776 INFO  [main] index.IndexCollection (IndexCollection.java:656) - Store positions? true\n",
      "2022-11-19 11:39:14,776 INFO  [main] index.IndexCollection (IndexCollection.java:657) - Store docvectors? true\n",
      "2022-11-19 11:39:14,777 INFO  [main] index.IndexCollection (IndexCollection.java:658) - Store document \"contents\" field? true\n",
      "2022-11-19 11:39:14,777 INFO  [main] index.IndexCollection (IndexCollection.java:659) - Store document \"raw\" field? true\n",
      "2022-11-19 11:39:14,778 INFO  [main] index.IndexCollection (IndexCollection.java:660) - Optimize (merge segments)? false\n",
      "2022-11-19 11:39:14,778 INFO  [main] index.IndexCollection (IndexCollection.java:661) - Whitelist: null\n",
      "2022-11-19 11:39:14,779 INFO  [main] index.IndexCollection (IndexCollection.java:662) - Pretokenized?: false\n",
      "2022-11-19 11:39:14,779 INFO  [main] index.IndexCollection (IndexCollection.java:682) - Directly building Lucene indexes...\n",
      "2022-11-19 11:39:14,779 INFO  [main] index.IndexCollection (IndexCollection.java:683) - Index path: /home/philip/task-search-quality/indexes/system_index\n",
      "2022-11-19 11:39:14,783 INFO  [main] index.IndexCollection (IndexCollection.java:738) - ============ Indexing Collection ============\n",
      "2022-11-19 11:39:15,049 INFO  [main] index.IndexCollection (IndexCollection.java:839) - Thread pool with 8 threads initialized.\n",
      "2022-11-19 11:39:15,051 INFO  [main] index.IndexCollection (IndexCollection.java:841) - Initializing collection in /home/philip/task-search-quality/temp/system_index\n",
      "2022-11-19 11:39:15,056 INFO  [main] index.IndexCollection (IndexCollection.java:850) - 2 files found\n",
      "2022-11-19 11:39:15,057 INFO  [main] index.IndexCollection (IndexCollection.java:851) - Starting to index...\n",
      "2022-11-19 11:39:15,803 DEBUG [pool-2-thread-1] index.IndexCollection$LocalIndexerThread (IndexCollection.java:248) - system_index/wikihow-taskmaps_0.jsonl: 65 docs added.\n",
      "2022-11-19 11:39:16,144 DEBUG [pool-2-thread-2] index.IndexCollection$LocalIndexerThread (IndexCollection.java:248) - system_index/seriouseats-taskmaps_0.jsonl: 134 docs added.\n",
      "2022-11-19 11:39:16,487 INFO  [main] index.IndexCollection (IndexCollection.java:935) - Indexing Complete! 199 documents indexed\n",
      "2022-11-19 11:39:16,487 INFO  [main] index.IndexCollection (IndexCollection.java:936) - ============ Final Counter Values ============\n",
      "2022-11-19 11:39:16,487 INFO  [main] index.IndexCollection (IndexCollection.java:937) - indexed:              199\n",
      "2022-11-19 11:39:16,488 INFO  [main] index.IndexCollection (IndexCollection.java:938) - unindexable:            0\n",
      "2022-11-19 11:39:16,488 INFO  [main] index.IndexCollection (IndexCollection.java:939) - empty:                  0\n",
      "2022-11-19 11:39:16,488 INFO  [main] index.IndexCollection (IndexCollection.java:940) - skipped:                0\n",
      "2022-11-19 11:39:16,488 INFO  [main] index.IndexCollection (IndexCollection.java:941) - errors:                 0\n",
      "2022-11-19 11:39:16,499 INFO  [main] index.IndexCollection (IndexCollection.java:944) - Total 199 documents indexed in 00:00:01\n"
     ]
    },
    {
     "name": "stderr",
     "output_type": "stream",
     "text": [
      "65it [00:00, 128175.72it/s]\n",
      "134it [00:00, 181068.54it/s]\n",
      "100%|██████████| 13/13 [00:07<00:00,  1.73it/s]\n"
     ]
    }
   ],
   "source": [
    "# Generate index.\n",
    "PyseriniBuilder.build_index(input_dir=output_temp_dir,\n",
    "                                    output_dir=output_index_dir)\n",
    "# Generate Dense index.\n",
    "PyseriniBuilder.build_index_dense(input_dir=output_temp_dir_dense,\n",
    "                                output_dir=output_index_dir_dense)"
   ]
  },
  {
   "cell_type": "code",
   "execution_count": 12,
   "metadata": {},
   "outputs": [],
   "source": [
    "from pyserini.search.lucene import LuceneSearcher    \n",
    "import json"
   ]
  },
  {
   "cell_type": "code",
   "execution_count": 13,
   "metadata": {},
   "outputs": [
    {
     "name": "stdout",
     "output_type": "stream",
     "text": [
      "{\n",
      "  \"id\" : \"cooking+seriouseats+398b23d824dea22cdfa4dea584788ac2\",\n",
      "  \"contents\" : \"The Best Pesto alla Genovese (Classic Basil Pesto Sauce) Recipe. 2 medium cloves garlic 2 tablespoons (30g) pine nuts 3 ounces basil leaves (from about a 4-ounce bunch), washed with water still clinging to the leaves Coarse sea salt, as needed 3/4 ounce (about 2 tablespoons) grated Parmigiano Reggiano 3/4 ounce (about 2 tablespoons) Pecorino Fiore Sardo (see note) 3/4 cup (175ml) mildly flavored extra-virgin olive oil Marble mortar and wooden pestle [Italian, Pesto, Vegetarian Mains, Basil, Nuts & Seeds] After many rounds of testing, we found this method and ratio of ingredients produces the absolute best classic pesto sauce.Why It Works  Using a marble mortar with a wooden pestle creates a luxurious sauce with a rich, deep flavor and a beautiful, silky texture that's superior to what a food processor can do.Pecorino Fiore Sardo is a slightly milder sheep's-milk cheese than Pecorino Romano, and it creates a more balanced, less harsh pesto sauce.Mild olive oil results in a more balanced, less aggressively spicy sauce.   Pesto is, on the surface, a very simple sauce. It requires no cooking and has few ingredients. And yet, read just about any authoritative source on pesto, and you're confronted with a laundry list of dos and don'ts.    This pesto sauce, through rounds and rounds of testing, has been honed to the perfect ratio, ingredients, and method. And, while a mortar and pestle requires a bit of work, the superior sauce it produces compared to a food processor can't be argued with. This is the true, best pesto.    To explore the rules of pesto-making, I've been running countless recipe tests, and in the process, I've realized an important thing: It's really easy to get sick of pesto. Now, don't get me wrong, because I love pesto, and I get excited for it when summer rolls around and basil crops up at the farmers market. But man, if I'm to be completely honest, I tire of it.    That’s because, for all its simplicity, pesto is a pungent sauce. Don't believe me? Just think of what's packed into it: heaps of fresh, aromatic basil (an assertive herb all by itself); raw garlic; aged cheeses; and rich nuts, plus a good glug of spicy olive oil to hold it all together. There's nothing mild about it. I make this point for a reason: It helps in understanding what the secrets are to a good pesto.    What I've come to realize is that the best pesto leans toward milder, sweeter, rounder flavors, but even if you don't achieve that goal, it's still really hard to mess it up—because all those flavors, even at their mildest, are still plenty strong. The good news is that this means you actually have a wider margin of error than most experts will admit.    Still, we want the best pesto, right? So how do we get there? Let's take a closer look.      What Is Pesto Sauce?    This may sound like a stupid question—of course we know what pesto sauce is. It's that green, herbal stuff, with nuts and basil and olive oil. But that's not quite right.    Pesto is a more generic Italian term that describes a wide variety of puréed sauces, traditionally made using a mortar and pestle. The most famous, and the one we're talking about here, is pesto alla genovese, from the Ligurian city of Genoa and its environs. While people get creative with it today, using different herbs and nuts and who knows what else, traditional pesto alla genovese contains only these ingredients: basil, olive oil, nuts (usually pine nuts), cheese, and salt. That's it.    There are other pesto sauces worth knowing about, though, including Sicily’s blushing-red pesto alla trapanese, which is rich with tomatoes; southern France's pistou (a version without nuts); and many, many more.      The Pesto Pantheon: Essential Pesto Ingredients    Despite its simplicity, there are several variables to explore when making pesto alla genovese. Read those who are dogmatic about proper pesto, and you'll usually encounter the following criteria around the ingredients and process:    First, there's the basil itself. If you do it the most traditional way, that basil should be freshly picked from the Ligurian hillsides, when the leaves are small and the basil plants are flowering. Obviously, that's out of the question for most of us. Next, there's the olive oil, which should be buttery and mild, freshly pressed from Ligurian Taggiasca olives. Most of us can find this oil, but it tends to be expensive. Then there's the cheese: Parmigiano-Reggiano and/or Pecorino Fiore Sardo, and preferably not the sharper, saltier, and tangier (and much more widely available) Pecorino Romano that many recipes in the United States call for. The nuts are typically pine nuts, though some recipes will substitute walnuts. Most recipes call for them to be untoasted. Last, there's the method: Should you use a mortar and pestle, as tradition dictates, or go the easy route and whip it up in a food processor?    I also found, on an Italian website, some necessary \\\"attitudes\\\" for making pesto:    EnthusiasmA little common senseSome elbow grease    I decided to run some taste tests in the SE test kitchen to see which of these rules really matter (and whether that website was right about the attitudes). Care to hazard a guess as to which made the most difference?      The Best Equipment for Making Pesto Sauce: Mortar and Pestle or Food Processor?    If there's one shortcut most people take with pesto sauce, it's using a food processor, which turns a somewhat laborious process into one of the quickest and easiest of sauces to put together.    But just look at the name: pesto. It's related to the Italian verb \\\"pestare,\\\" which means to crush or mash. A mortar and pestle can crush and mash (look at that word \\\"pestle,\\\" too!), but a food processor chops and minces. Is this an acceptable shortcut? Two side-by-side batches would reveal all.    For my food processor batch, I used a mini processor, because I was working with a half batch of pesto. I also made sure to stir the olive oil in at the end, since blending olive oil at high speeds can sometimes give it bitter flavors, which seemed like an unfair way to disadvantage the food processor batch in this test.    I started by blitzing the garlic and pine nuts together. Then I added the basil and pulsed it until it was finely minced.             Serious Eats / Vicky Wasik    I added the olive oil in a thin stream, stirring it in.             Serious Eats / Vicky Wasik    Looks good!    Next, I made the same recipe, using the exact same ratio, with the mortar and pestle.    I started by pounding the garlic into a rough paste. Then I added the pine nuts, smacking them down into crumbled bits before grinding them with the garlic into a sticky beige paste.    After that, I added the basil in handfuls, crushing the leaves against the side of the mortar until they were reduced to little bits before adding the next handful. Small pinches of coarse sea salt are helpful here, acting as an abrasive that helps break down the basil.    Working the basil into a paste is the most laborious part of the job, and the best way to do it is to both lightly bash at it with the pestle and also use a circular motion to grind it to bits. Your goal is to form a creamy paste. I found through experimentation that if you wash the basil leaves just before and leave the water clinging to them, it helps to build up this creamy emulsion.             Serious Eats / Vicky Wasik    Finally, the cheese gets worked in, followed by the olive oil. It's best to add the olive oil in small increments, working it in with the pestle to maintain that creamy emulsion before adding the next handful. Eventually, you end up with a beautiful light-green paste that's creamy, almost like guacamole.    The mortar and pestle pesto was looking even better than the food processor one. The proof, though, was in tasting them.    Looking at them side by side, some differences emerge. The mortar and pestle pesto had pieces of basil of different sizes, and their texture was soft, silken, and tender, totally yielding. The food processor pesto, meanwhile, had lots of uniform little bits, but in the mouth you could feel them all—they felt almost like grit compared with the pieces in the mortar one.             The mortar and pestle version (top) was silkier and more luxurious in texture. Serious Eats / Vicky Wasik    The flavor was different, too. The mortar and pestle pesto was more clearly infused with the flavors of all the ingredients than the food processor one was.             Serious Eats / Vicky Wasik    On pasta, the differences really become clear. The mortar and pestle pesto coated the noodles beautifully, bathing them in a gorgeous green-tinted sauce. The food processor pesto just stuck to the pasta in little bits, like glitter, and the oil had absorbed little of the basil's color.    The best pesto, as its name has insisted all along, should be made under the pressure of a pestle.     Does It Matter What Kind of Mortar and Pestle You Use for Pesto?             Serious Eats / Vicky Wasik    For years, I used a large* ceramic one with a narrow ceramic pestle, and the results were good, but it was a lot of work, and the sauce never fully emulsified the way I wanted it to.    *The large size, I should add, does matter. Most mortars and pestles sold in the United States are very small—useful for grinding spices, and nice as a decorative element to signal to guests that you like to cook—but of limited use for much else. And many of the mortars and pestles sold as \\\"large\\\" are, at best, medium-sized. What you want is a mortar and pestle that can hold at least one quart (one liter), if not two. For most mortar and pestle tasks, bigger is better.    I eventually decided to test it, comparing the large ceramic one I'd always used against two others: a Thai granite mortar and pestle that we've often recommended, and a special Italian set featuring a marble mortar and a large olivewood pestle. The latter is the kind most traditionally used in Italy to make pesto.    Was there a difference? Yes, of course. But what shocked me was the degree of difference. Pitted against the Thai granite set and the Italian one, the shortcomings of my ceramic one were stark. It didn't just not do a good job; it did an unacceptable job.    Chasing the ingredients around the mortar with the narrow ceramic pestle was like playing whack-a-mole, an endless game of chasing stray bits of garlic and pine nuts as they shot around the bowl with each strike. In a way, the long, narrow pestle acted more like a pool cue than a tool designed to crush, deflecting the food just as often as it crushed it.             While it's difficult to see in this photo, the Thai granite mortar and pestle produced a pesto that had longer stringy strands of fiber from the basil leaves, and required more work to complete the task, though it still did the job in the end and was much better than my old ceramic model. The Italian marble mortar with a wooden pestle by far produced the best, creamiest pesto. Serious Eats / Vicky Wasik    The Thai granite mortar and pestle did a much better job, and in a pinch it can work. But it still didn't come close to the effectiveness of the Italian marble mortar with the large wooden pestle. That large pestle head was perfect for efficiently smashing the garlic to paste, and the pine nuts, too. The basil yielded under it in a fraction of the time and broke down more fully, the result of excellent shearing forces under the broad wooden pestle head.    (To be clear, in other tests, I found that the Thai granite mortar and pestle was better than the Italian one for making a Thai curry paste, which contains much tougher and more fibrous ingredients; the granite pestle did a much better job of pulverizing those compared with the wooden one. Perhaps unsurprisingly, these tools are optimized for the foods they are intended to make in their countries of origin.)             The Italian marble mortar with a wooden pestle made the best pesto. Serious Eats / Vicky Wasik    If you want to make the very best pesto, get yourself a mortar and pestle from the Mediterranean. It's not cheap, but it'll remain in your family for generations, possibly centuries.      Testing Pesto Sauce Ingredients     A Note About the Basil             Serious Eats / Vicky Wasik    I omitted one big factor in my tests: the basil. As essential as basil is to Genovese-style pesto, I concluded that most of us have a limited set of options for it. Unless you're reading this from Liguria itself, you probably don't have access to the prized basil of that region.    If you happen to grow your own, lucky you. If you have access to a good farmers market that carries beautiful tufts of fragrant basil at the height of summer, definitely go for it. If you have to settle for supermarket clamshells of hydroponic herb, well, then, that's what it's going to be. And, frankly, some of that stuff isn't bad. Basically, get the best fresh basil you can, and that's all there is to it.     How Much of Each Ingredient Should Go Into Pesto Sauce?    Without a doubt, in a sauce as simple as pesto, the ratio of ingredients is of paramount importance. Because I've made a lot of pesto in my life, and because I’ve consulted dozens of recipes in books and online, I started out with a pretty good general sense of how much of each ingredient to use.    To arrive at what I think is a great ratio of ingredients in my recipe here, I dialed in the quantities during the process of testing the other components, gradually adjusting and tweaking through each successive batch until my colleagues and I agreed that I'd nailed the sweet spot. Still, it's a matter of personal taste, so if you want your pesto with more garlic, or less cheese, just go ahead and adjust it to your own liking.     What Is the Best Olive Oil for Pesto Sauce?             Serious Eats / Vicky Wasik    The first ingredient test I wanted to do was of the olive oil. I went into this thinking this would be one of the most important factors in the final sauce. Because there are so many thousands of brands of olive oil on the market, there was no way to try all of them, so I kept it simple here to test a basic premise: Does good Ligurian olive oil matter?    To find out, I pitted a bottle of pricey Ligurian oil against a months-old jumbo tin of cheapo, all-purpose olive oil that we use in the test kitchen for everyday tasks. I made two equal batches of pesto, with the only difference being the oil.    Nearly every taster in the office (there were about four or five in most cases, who, I should note, never knew which variable I was testing) preferred the pesto made with the Ligurian oil—just one gravitated to the pesto with the cheaper oil. But, while the Ligurian oil came out on top, being more buttery and rounded in flavor, we all agreed that the differences were incredibly subtle. In fact, few realized the oil was different, and many assumed I had changed the garlic or some other ingredient.    Going back to the pungency of pesto, this makes some sense: When it's loaded with basil, garlic, aged cheeses, and nuts, the nuances of a good oil become much harder to taste. That doesn't mean it makes no difference, but the differences aren't as stark as one might think.    If you use an absolutely awful, rancid oil, or a very, very spicy, aggressive one, those differences will be more apparent. But as long as you're using a decent, somewhat mild olive oil, your pesto is going to be good; if you feel like using an even higher-quality, not-too-spicy oil, whether Ligurian or not, it may be subtly better.     What Cheese Should Be Used in Pesto Sauce?             From left: Pecorino Fiore Sardo, Pecorino Romano, and Parmigiano-Reggiano. Serious Eats / Vicky Wasik    Historically, the cheeses of true Ligurian pesto were Parmigiano-Reggiano and Pecorino Sardo (or Fiore Sardo), a Sardinian sheep's-milk cheese. When pesto first became popular in the United States, however, Fiore Sardo was pretty much unavailable here, so recipe writers substituted the next best available thing: Pecorino Romano. But Pecorino Romano is saltier, sharper, and tangier than Fiore Sardo.    So my question was: Does it really matter? To test this, I made two batches of pesto. The first had equal parts Parmigiano-Reggiano and Pecorino Fiore Sardo, which tends to be the ratio of those two cheeses called for by most recipes I looked at. In the other, I used Parmigiano-Reggiano and Pecorino Romano, but here I used 50% more of the Parmesan and 50% less of the Pecorino Romano—using more of the Parm and less of the Romano seems to be the solution most recipes recommend to account for Romano's more assertive flavor.    Tasters preferred the batch with Fiore Sardo, with its ever-so-slightly sweeter, fruitier, less harsh flavor. And yet here, too, the differences were very minor. So, once again, if you can find the Fiore Sardo, it will make a marginally better pesto sauce, but Pecorino Romano makes a darned good one, too (and, frankly, Parmigiano-Reggiano alone makes a great one as well).     What Nuts Go Into Pesto Sauce, and Should You Toast Them?             Serious Eats / Vicky Wasik    Most recipes for pesto sauce call for pine nuts, but walnuts are not unheard of. In all the recipes I looked at, the pine nuts were tossed directly into the sauce, but I wondered whether there was any benefit to toasting them first, which would enhance their nutty flavor.    Side by side, though, the two batches I made were nearly indistinguishable from each other: Not one taster could tell the difference. Because I had made them and knew what flavor I was looking for, I could faintly detect the roasted-nut flavor in the lingering aftertaste of the sauce, and I honestly didn't think it did the sauce any favors—it detracted from the sweet roundness that makes a good pesto taste good. But if they weren’t looking for it, I'm not sure most people would even notice.    The verdict: Toasting is not worth it.     Should You Add Butter to Pesto Sauce?    In a couple of recipes, including Marcella Hazan's in The Essentials of Classic Italian Cooking at Amazon, a small amount of butter is worked into the pesto in addition to the olive oil. I made a batch with butter, but no one could figure out if or how it was different. It may marginally help to bind and emulsify the sauce when you toss it with pasta, but it turned out to not be an essential addition.    Because pesto is such a strong sauce, anything you do to reduce its pungency just a little and steer it toward a sweeter, rounder-flavored sauce will help. That includes selecting a good, mild olive oil; using Pecorino Sardo cheese instead of Romano; and not toasting the pine nuts. Not following the rules above won't ruin your pesto, though.    Staying true to tradition and using a mortar and pestle makes a much more noticeable difference. If there isn't a chance in hell that you'd ever use a mortar and pestle, then yes, you can still make pesto in a food processor and it will be fine, but it will be just fine. It won't be special. It won't be magical and beautiful. Because that requires some special attitudes: enthusiasm, common sense, and definitely some elbow grease.             Serious Eats / Vicky Wasik      This article has been updated since it was originally published to include new insights into the mortar and pestle used, and to revise the technique slightly in light of the improved equipment recommendation.       6:22    How to Make the Best Pesto (the Traditional Way)     July 16, 2014Using a mortar and pestle, pound the garlic to a paste. Add pine nuts and continue to crush with pestle, smashing and grinding them, until a sticky, only slightly chunky, beige paste forms. Add basil leaves, a handful at a time, and pound and grind against the walls of the mortar. Add pinch of salt with each handful to act as an abrasive. Continue until all basil leaves have been crushed to fine bits. Add both cheeses, then slowly drizzle in olive oil, working it into the pesto with the pestle until a fairly smooth, creamy, emulsified, sauce forms. Add more oil, if desired. Pesto can be served with pasta right away, or transferred to a jar or container, covered with a small layer of olive oil, sealed, and refrigerated overnight. \",\n",
      "  \"recipe_document_json\" : {\n",
      "    \"taskmapId\" : \"cooking+seriouseats+398b23d824dea22cdfa4dea584788ac2\",\n",
      "    \"title\" : \"The Best Pesto alla Genovese (Classic Basil Pesto Sauce) Recipe\",\n",
      "    \"sourceUrl\" : \"https://www.seriouseats.com/best-pesto-recipe\",\n",
      "    \"description\" : \"After many rounds of testing, we found this method and ratio of ingredients produces the absolute best classic pesto sauce.Why It Works  Using a marble mortar with a wooden pestle creates a luxurious sauce with a rich, deep flavor and a beautiful, silky texture that's superior to what a food processor can do.Pecorino Fiore Sardo is a slightly milder sheep's-milk cheese than Pecorino Romano, and it creates a more balanced, less harsh pesto sauce.Mild olive oil results in a more balanced, less aggressively spicy sauce.   Pesto is, on the surface, a very simple sauce. It requires no cooking and has few ingredients. And yet, read just about any authoritative source on pesto, and you're confronted with a laundry list of dos and don'ts.    This pesto sauce, through rounds and rounds of testing, has been honed to the perfect ratio, ingredients, and method. And, while a mortar and pestle requires a bit of work, the superior sauce it produces compared to a food processor can't be argued with. This is the true, best pesto.    To explore the rules of pesto-making, I've been running countless recipe tests, and in the process, I've realized an important thing: It's really easy to get sick of pesto. Now, don't get me wrong, because I love pesto, and I get excited for it when summer rolls around and basil crops up at the farmers market. But man, if I'm to be completely honest, I tire of it.    That’s because, for all its simplicity, pesto is a pungent sauce. Don't believe me? Just think of what's packed into it: heaps of fresh, aromatic basil (an assertive herb all by itself); raw garlic; aged cheeses; and rich nuts, plus a good glug of spicy olive oil to hold it all together. There's nothing mild about it. I make this point for a reason: It helps in understanding what the secrets are to a good pesto.    What I've come to realize is that the best pesto leans toward milder, sweeter, rounder flavors, but even if you don't achieve that goal, it's still really hard to mess it up—because all those flavors, even at their mildest, are still plenty strong. The good news is that this means you actually have a wider margin of error than most experts will admit.    Still, we want the best pesto, right? So how do we get there? Let's take a closer look.      What Is Pesto Sauce?    This may sound like a stupid question—of course we know what pesto sauce is. It's that green, herbal stuff, with nuts and basil and olive oil. But that's not quite right.    Pesto is a more generic Italian term that describes a wide variety of puréed sauces, traditionally made using a mortar and pestle. The most famous, and the one we're talking about here, is pesto alla genovese, from the Ligurian city of Genoa and its environs. While people get creative with it today, using different herbs and nuts and who knows what else, traditional pesto alla genovese contains only these ingredients: basil, olive oil, nuts (usually pine nuts), cheese, and salt. That's it.    There are other pesto sauces worth knowing about, though, including Sicily’s blushing-red pesto alla trapanese, which is rich with tomatoes; southern France's pistou (a version without nuts); and many, many more.      The Pesto Pantheon: Essential Pesto Ingredients    Despite its simplicity, there are several variables to explore when making pesto alla genovese. Read those who are dogmatic about proper pesto, and you'll usually encounter the following criteria around the ingredients and process:    First, there's the basil itself. If you do it the most traditional way, that basil should be freshly picked from the Ligurian hillsides, when the leaves are small and the basil plants are flowering. Obviously, that's out of the question for most of us. Next, there's the olive oil, which should be buttery and mild, freshly pressed from Ligurian Taggiasca olives. Most of us can find this oil, but it tends to be expensive. Then there's the cheese: Parmigiano-Reggiano and/or Pecorino Fiore Sardo, and preferably not the sharper, saltier, and tangier (and much more widely available) Pecorino Romano that many recipes in the United States call for. The nuts are typically pine nuts, though some recipes will substitute walnuts. Most recipes call for them to be untoasted. Last, there's the method: Should you use a mortar and pestle, as tradition dictates, or go the easy route and whip it up in a food processor?    I also found, on an Italian website, some necessary \\\"attitudes\\\" for making pesto:    EnthusiasmA little common senseSome elbow grease    I decided to run some taste tests in the SE test kitchen to see which of these rules really matter (and whether that website was right about the attitudes). Care to hazard a guess as to which made the most difference?      The Best Equipment for Making Pesto Sauce: Mortar and Pestle or Food Processor?    If there's one shortcut most people take with pesto sauce, it's using a food processor, which turns a somewhat laborious process into one of the quickest and easiest of sauces to put together.    But just look at the name: pesto. It's related to the Italian verb \\\"pestare,\\\" which means to crush or mash. A mortar and pestle can crush and mash (look at that word \\\"pestle,\\\" too!), but a food processor chops and minces. Is this an acceptable shortcut? Two side-by-side batches would reveal all.    For my food processor batch, I used a mini processor, because I was working with a half batch of pesto. I also made sure to stir the olive oil in at the end, since blending olive oil at high speeds can sometimes give it bitter flavors, which seemed like an unfair way to disadvantage the food processor batch in this test.    I started by blitzing the garlic and pine nuts together. Then I added the basil and pulsed it until it was finely minced.             Serious Eats / Vicky Wasik    I added the olive oil in a thin stream, stirring it in.             Serious Eats / Vicky Wasik    Looks good!    Next, I made the same recipe, using the exact same ratio, with the mortar and pestle.    I started by pounding the garlic into a rough paste. Then I added the pine nuts, smacking them down into crumbled bits before grinding them with the garlic into a sticky beige paste.    After that, I added the basil in handfuls, crushing the leaves against the side of the mortar until they were reduced to little bits before adding the next handful. Small pinches of coarse sea salt are helpful here, acting as an abrasive that helps break down the basil.    Working the basil into a paste is the most laborious part of the job, and the best way to do it is to both lightly bash at it with the pestle and also use a circular motion to grind it to bits. Your goal is to form a creamy paste. I found through experimentation that if you wash the basil leaves just before and leave the water clinging to them, it helps to build up this creamy emulsion.             Serious Eats / Vicky Wasik    Finally, the cheese gets worked in, followed by the olive oil. It's best to add the olive oil in small increments, working it in with the pestle to maintain that creamy emulsion before adding the next handful. Eventually, you end up with a beautiful light-green paste that's creamy, almost like guacamole.    The mortar and pestle pesto was looking even better than the food processor one. The proof, though, was in tasting them.    Looking at them side by side, some differences emerge. The mortar and pestle pesto had pieces of basil of different sizes, and their texture was soft, silken, and tender, totally yielding. The food processor pesto, meanwhile, had lots of uniform little bits, but in the mouth you could feel them all—they felt almost like grit compared with the pieces in the mortar one.             The mortar and pestle version (top) was silkier and more luxurious in texture. Serious Eats / Vicky Wasik    The flavor was different, too. The mortar and pestle pesto was more clearly infused with the flavors of all the ingredients than the food processor one was.             Serious Eats / Vicky Wasik    On pasta, the differences really become clear. The mortar and pestle pesto coated the noodles beautifully, bathing them in a gorgeous green-tinted sauce. The food processor pesto just stuck to the pasta in little bits, like glitter, and the oil had absorbed little of the basil's color.    The best pesto, as its name has insisted all along, should be made under the pressure of a pestle.     Does It Matter What Kind of Mortar and Pestle You Use for Pesto?             Serious Eats / Vicky Wasik    For years, I used a large* ceramic one with a narrow ceramic pestle, and the results were good, but it was a lot of work, and the sauce never fully emulsified the way I wanted it to.    *The large size, I should add, does matter. Most mortars and pestles sold in the United States are very small—useful for grinding spices, and nice as a decorative element to signal to guests that you like to cook—but of limited use for much else. And many of the mortars and pestles sold as \\\"large\\\" are, at best, medium-sized. What you want is a mortar and pestle that can hold at least one quart (one liter), if not two. For most mortar and pestle tasks, bigger is better.    I eventually decided to test it, comparing the large ceramic one I'd always used against two others: a Thai granite mortar and pestle that we've often recommended, and a special Italian set featuring a marble mortar and a large olivewood pestle. The latter is the kind most traditionally used in Italy to make pesto.    Was there a difference? Yes, of course. But what shocked me was the degree of difference. Pitted against the Thai granite set and the Italian one, the shortcomings of my ceramic one were stark. It didn't just not do a good job; it did an unacceptable job.    Chasing the ingredients around the mortar with the narrow ceramic pestle was like playing whack-a-mole, an endless game of chasing stray bits of garlic and pine nuts as they shot around the bowl with each strike. In a way, the long, narrow pestle acted more like a pool cue than a tool designed to crush, deflecting the food just as often as it crushed it.             While it's difficult to see in this photo, the Thai granite mortar and pestle produced a pesto that had longer stringy strands of fiber from the basil leaves, and required more work to complete the task, though it still did the job in the end and was much better than my old ceramic model. The Italian marble mortar with a wooden pestle by far produced the best, creamiest pesto. Serious Eats / Vicky Wasik    The Thai granite mortar and pestle did a much better job, and in a pinch it can work. But it still didn't come close to the effectiveness of the Italian marble mortar with the large wooden pestle. That large pestle head was perfect for efficiently smashing the garlic to paste, and the pine nuts, too. The basil yielded under it in a fraction of the time and broke down more fully, the result of excellent shearing forces under the broad wooden pestle head.    (To be clear, in other tests, I found that the Thai granite mortar and pestle was better than the Italian one for making a Thai curry paste, which contains much tougher and more fibrous ingredients; the granite pestle did a much better job of pulverizing those compared with the wooden one. Perhaps unsurprisingly, these tools are optimized for the foods they are intended to make in their countries of origin.)             The Italian marble mortar with a wooden pestle made the best pesto. Serious Eats / Vicky Wasik    If you want to make the very best pesto, get yourself a mortar and pestle from the Mediterranean. It's not cheap, but it'll remain in your family for generations, possibly centuries.      Testing Pesto Sauce Ingredients     A Note About the Basil             Serious Eats / Vicky Wasik    I omitted one big factor in my tests: the basil. As essential as basil is to Genovese-style pesto, I concluded that most of us have a limited set of options for it. Unless you're reading this from Liguria itself, you probably don't have access to the prized basil of that region.    If you happen to grow your own, lucky you. If you have access to a good farmers market that carries beautiful tufts of fragrant basil at the height of summer, definitely go for it. If you have to settle for supermarket clamshells of hydroponic herb, well, then, that's what it's going to be. And, frankly, some of that stuff isn't bad. Basically, get the best fresh basil you can, and that's all there is to it.     How Much of Each Ingredient Should Go Into Pesto Sauce?    Without a doubt, in a sauce as simple as pesto, the ratio of ingredients is of paramount importance. Because I've made a lot of pesto in my life, and because I’ve consulted dozens of recipes in books and online, I started out with a pretty good general sense of how much of each ingredient to use.    To arrive at what I think is a great ratio of ingredients in my recipe here, I dialed in the quantities during the process of testing the other components, gradually adjusting and tweaking through each successive batch until my colleagues and I agreed that I'd nailed the sweet spot. Still, it's a matter of personal taste, so if you want your pesto with more garlic, or less cheese, just go ahead and adjust it to your own liking.     What Is the Best Olive Oil for Pesto Sauce?             Serious Eats / Vicky Wasik    The first ingredient test I wanted to do was of the olive oil. I went into this thinking this would be one of the most important factors in the final sauce. Because there are so many thousands of brands of olive oil on the market, there was no way to try all of them, so I kept it simple here to test a basic premise: Does good Ligurian olive oil matter?    To find out, I pitted a bottle of pricey Ligurian oil against a months-old jumbo tin of cheapo, all-purpose olive oil that we use in the test kitchen for everyday tasks. I made two equal batches of pesto, with the only difference being the oil.    Nearly every taster in the office (there were about four or five in most cases, who, I should note, never knew which variable I was testing) preferred the pesto made with the Ligurian oil—just one gravitated to the pesto with the cheaper oil. But, while the Ligurian oil came out on top, being more buttery and rounded in flavor, we all agreed that the differences were incredibly subtle. In fact, few realized the oil was different, and many assumed I had changed the garlic or some other ingredient.    Going back to the pungency of pesto, this makes some sense: When it's loaded with basil, garlic, aged cheeses, and nuts, the nuances of a good oil become much harder to taste. That doesn't mean it makes no difference, but the differences aren't as stark as one might think.    If you use an absolutely awful, rancid oil, or a very, very spicy, aggressive one, those differences will be more apparent. But as long as you're using a decent, somewhat mild olive oil, your pesto is going to be good; if you feel like using an even higher-quality, not-too-spicy oil, whether Ligurian or not, it may be subtly better.     What Cheese Should Be Used in Pesto Sauce?             From left: Pecorino Fiore Sardo, Pecorino Romano, and Parmigiano-Reggiano. Serious Eats / Vicky Wasik    Historically, the cheeses of true Ligurian pesto were Parmigiano-Reggiano and Pecorino Sardo (or Fiore Sardo), a Sardinian sheep's-milk cheese. When pesto first became popular in the United States, however, Fiore Sardo was pretty much unavailable here, so recipe writers substituted the next best available thing: Pecorino Romano. But Pecorino Romano is saltier, sharper, and tangier than Fiore Sardo.    So my question was: Does it really matter? To test this, I made two batches of pesto. The first had equal parts Parmigiano-Reggiano and Pecorino Fiore Sardo, which tends to be the ratio of those two cheeses called for by most recipes I looked at. In the other, I used Parmigiano-Reggiano and Pecorino Romano, but here I used 50% more of the Parmesan and 50% less of the Pecorino Romano—using more of the Parm and less of the Romano seems to be the solution most recipes recommend to account for Romano's more assertive flavor.    Tasters preferred the batch with Fiore Sardo, with its ever-so-slightly sweeter, fruitier, less harsh flavor. And yet here, too, the differences were very minor. So, once again, if you can find the Fiore Sardo, it will make a marginally better pesto sauce, but Pecorino Romano makes a darned good one, too (and, frankly, Parmigiano-Reggiano alone makes a great one as well).     What Nuts Go Into Pesto Sauce, and Should You Toast Them?             Serious Eats / Vicky Wasik    Most recipes for pesto sauce call for pine nuts, but walnuts are not unheard of. In all the recipes I looked at, the pine nuts were tossed directly into the sauce, but I wondered whether there was any benefit to toasting them first, which would enhance their nutty flavor.    Side by side, though, the two batches I made were nearly indistinguishable from each other: Not one taster could tell the difference. Because I had made them and knew what flavor I was looking for, I could faintly detect the roasted-nut flavor in the lingering aftertaste of the sauce, and I honestly didn't think it did the sauce any favors—it detracted from the sweet roundness that makes a good pesto taste good. But if they weren’t looking for it, I'm not sure most people would even notice.    The verdict: Toasting is not worth it.     Should You Add Butter to Pesto Sauce?    In a couple of recipes, including Marcella Hazan's in The Essentials of Classic Italian Cooking at Amazon, a small amount of butter is worked into the pesto in addition to the olive oil. I made a batch with butter, but no one could figure out if or how it was different. It may marginally help to bind and emulsify the sauce when you toss it with pasta, but it turned out to not be an essential addition.    Because pesto is such a strong sauce, anything you do to reduce its pungency just a little and steer it toward a sweeter, rounder-flavored sauce will help. That includes selecting a good, mild olive oil; using Pecorino Sardo cheese instead of Romano; and not toasting the pine nuts. Not following the rules above won't ruin your pesto, though.    Staying true to tradition and using a mortar and pestle makes a much more noticeable difference. If there isn't a chance in hell that you'd ever use a mortar and pestle, then yes, you can still make pesto in a food processor and it will be fine, but it will be just fine. It won't be special. It won't be magical and beautiful. Because that requires some special attitudes: enthusiasm, common sense, and definitely some elbow grease.             Serious Eats / Vicky Wasik      This article has been updated since it was originally published to include new insights into the mortar and pestle used, and to revise the technique slightly in light of the improved equipment recommendation.       6:22    How to Make the Best Pesto (the Traditional Way)     July 16, 2014\",\n",
      "    \"thumbnailUrl\" : \"https://www.seriouseats.com/thmb/wdo6tWCza_qtNADSigZIA3hB-lU=/880x0/filters:no_upscale():max_bytes(150000):strip_icc()/__opt__aboutcom__coeus__resources__content_migration__serious_eats__seriouseats.com__2018__08__20180731-pesto-reshoot-vicky-wasik-10--6b70d2d122ac48df874c280077d433b9.jpg\",\n",
      "    \"tags\" : [ \"[Italian, Pesto, Vegetarian Mains, Basil, Nuts & Seeds]\" ],\n",
      "    \"requirementList\" : [ {\n",
      "      \"uniqueId\" : \"952c0189-4eab-41d0-a2bc-1e4e38c27a8d\",\n",
      "      \"type\" : \"HARDWARE\",\n",
      "      \"name\" : \"2 medium cloves garlic\"\n",
      "    }, {\n",
      "      \"uniqueId\" : \"23e14e47-64b6-4c9a-95d6-b89c28cebfe9\",\n",
      "      \"type\" : \"HARDWARE\",\n",
      "      \"name\" : \"2 tablespoons (30g) pine nuts\"\n",
      "    }, {\n",
      "      \"uniqueId\" : \"3612bc24-e683-434e-97ca-5e43e30bf096\",\n",
      "      \"type\" : \"HARDWARE\",\n",
      "      \"name\" : \"3 ounces basil leaves (from about a 4-ounce bunch), washed with water still clinging to the leaves\"\n",
      "    }, {\n",
      "      \"uniqueId\" : \"83842a4f-5845-478b-bd2c-c9043fe02f34\",\n",
      "      \"type\" : \"HARDWARE\",\n",
      "      \"name\" : \"Coarse sea salt, as needed\"\n",
      "    }, {\n",
      "      \"uniqueId\" : \"5b719e30-4bd2-43da-b2be-81189e1cc274\",\n",
      "      \"type\" : \"HARDWARE\",\n",
      "      \"name\" : \"3/4 ounce (about 2 tablespoons) grated Parmigiano Reggiano\"\n",
      "    }, {\n",
      "      \"uniqueId\" : \"8d271bab-393e-4dc4-a45a-8a9fcb0868c0\",\n",
      "      \"type\" : \"HARDWARE\",\n",
      "      \"name\" : \"3/4 ounce (about 2 tablespoons) Pecorino Fiore Sardo (see note)\"\n",
      "    }, {\n",
      "      \"uniqueId\" : \"5d8dc256-66de-483f-874e-0a02e9b434fa\",\n",
      "      \"type\" : \"HARDWARE\",\n",
      "      \"name\" : \"3/4 cup (175ml) mildly flavored extra-virgin olive oil\"\n",
      "    }, {\n",
      "      \"uniqueId\" : \"4991c2ae-1da7-4773-930c-7526641d25b2\",\n",
      "      \"type\" : \"HARDWARE\",\n",
      "      \"name\" : \"Marble mortar and wooden pestle\"\n",
      "    } ],\n",
      "    \"steps\" : [ {\n",
      "      \"uniqueId\" : \"76c81cf8-295d-4a06-a915-4d86f0805adb\",\n",
      "      \"response\" : {\n",
      "        \"speechText\" : \"Using a mortar and pestle, pound the garlic to a paste.\",\n",
      "        \"screen\" : {\n",
      "          \"format\" : \"TEXT_IMAGE\",\n",
      "          \"headline\" : \"Step %d out of %d\",\n",
      "          \"paragraphs\" : [ \"Using a mortar and pestle, pound the garlic to a paste.\" ],\n",
      "          \"imageList\" : [ {\n",
      "            \"path\" : \"https://www.seriouseats.com/thmb/cYo23EoIDBqb7p3vhFFRUeq-Xy8=/1500x1125/filters:no_upscale():max_bytes(150000):strip_icc()/__opt__aboutcom__coeus__resources__content_migration__serious_eats__seriouseats.com__2018__08__20180731-pesto-reshoot-vicky-wasik-1--d9531beee56443eab31ee8fad4a33ddb.jpg\"\n",
      "          } ]\n",
      "        }\n",
      "      },\n",
      "      \"activeDurationMinutes\" : 1,\n",
      "      \"totalDurationMinutes\" : 1\n",
      "    }, {\n",
      "      \"uniqueId\" : \"9d67a5af-50d9-425d-a211-79943d667137\",\n",
      "      \"response\" : {\n",
      "        \"speechText\" : \"Add pine nuts and continue to crush with pestle, smashing and grinding them, until a sticky, only slightly chunky, beige paste forms.\",\n",
      "        \"screen\" : {\n",
      "          \"format\" : \"TEXT_IMAGE\",\n",
      "          \"headline\" : \"Step %d out of %d\",\n",
      "          \"paragraphs\" : [ \"Add pine nuts and continue to crush with pestle, smashing and grinding them, until a sticky, only slightly chunky, beige paste forms.\" ],\n",
      "          \"imageList\" : [ {\n",
      "            \"path\" : \"https://www.seriouseats.com/thmb/EMwhb-LEp7DOHK38zWcDlMLgHNU=/1500x1125/filters:no_upscale():max_bytes(150000):strip_icc()/__opt__aboutcom__coeus__resources__content_migration__serious_eats__seriouseats.com__2018__08__20180706-pesto-vicky-wasik-garlic-pinenuts-2ba4788353884b96ba08615e6dccf57a.jpg\"\n",
      "          } ]\n",
      "        }\n",
      "      },\n",
      "      \"activeDurationMinutes\" : 1,\n",
      "      \"totalDurationMinutes\" : 1\n",
      "    }, {\n",
      "      \"uniqueId\" : \"b644d77e-1882-4eef-a9d4-5174d4484a46\",\n",
      "      \"response\" : {\n",
      "        \"speechText\" : \"Add basil leaves, a handful at a time, and pound and grind against the walls of the mortar. Add pinch of salt with each handful to act as an abrasive. Continue until all basil leaves have been crushed to fine bits.\",\n",
      "        \"screen\" : {\n",
      "          \"format\" : \"TEXT_IMAGE\",\n",
      "          \"headline\" : \"Step %d out of %d\",\n",
      "          \"paragraphs\" : [ \"Add basil leaves, a handful at a time, and pound and grind against the walls of the mortar. Add pinch of salt with each handful to act as an abrasive. Continue until all basil leaves have been crushed to fine bits.\" ],\n",
      "          \"imageList\" : [ {\n",
      "            \"path\" : \"https://www.seriouseats.com/thmb/-CrbF0wRqs5nm50SrgRDLAwVoVc=/1500x1125/filters:no_upscale():max_bytes(150000):strip_icc()/__opt__aboutcom__coeus__resources__content_migration__serious_eats__seriouseats.com__2018__08__20180706-pesto-vicky-wasik-adding-basil-307007a563144bfea367bca436f4fc45.jpg\"\n",
      "          } ]\n",
      "        }\n",
      "      },\n",
      "      \"activeDurationMinutes\" : 1,\n",
      "      \"totalDurationMinutes\" : 1\n",
      "    }, {\n",
      "      \"uniqueId\" : \"24be9579-ad13-40b6-b1be-532844656781\",\n",
      "      \"response\" : {\n",
      "        \"speechText\" : \"Add both cheeses, then slowly drizzle in olive oil, working it into the pesto with the pestle until a fairly smooth, creamy, emulsified, sauce forms. Add more oil, if desired.\",\n",
      "        \"screen\" : {\n",
      "          \"format\" : \"TEXT_IMAGE\",\n",
      "          \"headline\" : \"Step %d out of %d\",\n",
      "          \"paragraphs\" : [ \"Add both cheeses, then slowly drizzle in olive oil, working it into the pesto with the pestle until a fairly smooth, creamy, emulsified, sauce forms. Add more oil, if desired.\" ],\n",
      "          \"imageList\" : [ {\n",
      "            \"path\" : \"https://www.seriouseats.com/thmb/pRAqihOf84_16uhcLy7RQb7Qaxk=/1500x1125/filters:no_upscale():max_bytes(150000):strip_icc()/__opt__aboutcom__coeus__resources__content_migration__serious_eats__seriouseats.com__2018__08__20180731-pesto-reshoot-vicky-wasik-9--ba813f48407b4e58bf446d2f62415d7e.jpg\"\n",
      "          } ]\n",
      "        }\n",
      "      },\n",
      "      \"activeDurationMinutes\" : 1,\n",
      "      \"totalDurationMinutes\" : 1\n",
      "    }, {\n",
      "      \"uniqueId\" : \"9eebc869-be7d-45c3-a37c-20fd0339cedf\",\n",
      "      \"response\" : {\n",
      "        \"speechText\" : \"Pesto can be served with pasta right away, or transferred to a jar or container, covered with a small layer of olive oil, sealed, and refrigerated overnight.\",\n",
      "        \"screen\" : {\n",
      "          \"format\" : \"TEXT_IMAGE\",\n",
      "          \"headline\" : \"Step %d out of %d\",\n",
      "          \"paragraphs\" : [ \"Pesto can be served with pasta right away, or transferred to a jar or container, covered with a small layer of olive oil, sealed, and refrigerated overnight.\" ],\n",
      "          \"imageList\" : [ {\n",
      "            \"path\" : \"https://www.seriouseats.com/thmb/LNBuPpRRfxUVTSo51pU8D6MBLSA=/1500x1125/filters:no_upscale():max_bytes(150000):strip_icc()/__opt__aboutcom__coeus__resources__content_migration__serious_eats__seriouseats.com__2018__08__20180731-pesto-reshoot-vicky-wasik-11--1500x1125-da04608777e94d9c8d0c137bcb96b233.jpg\"\n",
      "          } ]\n",
      "        }\n",
      "      },\n",
      "      \"activeDurationMinutes\" : 1,\n",
      "      \"totalDurationMinutes\" : 1\n",
      "    } ],\n",
      "    \"connectionList\" : [ {\n",
      "      \"idFrom\" : \"9d67a5af-50d9-425d-a211-79943d667137\",\n",
      "      \"idTo\" : \"b644d77e-1882-4eef-a9d4-5174d4484a46\"\n",
      "    }, {\n",
      "      \"idFrom\" : \"3612bc24-e683-434e-97ca-5e43e30bf096\",\n",
      "      \"idTo\" : \"b644d77e-1882-4eef-a9d4-5174d4484a46\"\n",
      "    }, {\n",
      "      \"idFrom\" : \"5d8dc256-66de-483f-874e-0a02e9b434fa\",\n",
      "      \"idTo\" : \"24be9579-ad13-40b6-b1be-532844656781\"\n",
      "    }, {\n",
      "      \"idFrom\" : \"4991c2ae-1da7-4773-930c-7526641d25b2\",\n",
      "      \"idTo\" : \"76c81cf8-295d-4a06-a915-4d86f0805adb\"\n",
      "    }, {\n",
      "      \"idFrom\" : \"4991c2ae-1da7-4773-930c-7526641d25b2\",\n",
      "      \"idTo\" : \"24be9579-ad13-40b6-b1be-532844656781\"\n",
      "    }, {\n",
      "      \"idFrom\" : \"b644d77e-1882-4eef-a9d4-5174d4484a46\",\n",
      "      \"idTo\" : \"24be9579-ad13-40b6-b1be-532844656781\"\n",
      "    }, {\n",
      "      \"idFrom\" : \"83842a4f-5845-478b-bd2c-c9043fe02f34\",\n",
      "      \"idTo\" : \"b644d77e-1882-4eef-a9d4-5174d4484a46\"\n",
      "    }, {\n",
      "      \"idFrom\" : \"5d8dc256-66de-483f-874e-0a02e9b434fa\",\n",
      "      \"idTo\" : \"9eebc869-be7d-45c3-a37c-20fd0339cedf\"\n",
      "    }, {\n",
      "      \"idFrom\" : \"4991c2ae-1da7-4773-930c-7526641d25b2\",\n",
      "      \"idTo\" : \"9d67a5af-50d9-425d-a211-79943d667137\"\n",
      "    }, {\n",
      "      \"idFrom\" : \"76c81cf8-295d-4a06-a915-4d86f0805adb\",\n",
      "      \"idTo\" : \"9d67a5af-50d9-425d-a211-79943d667137\"\n",
      "    }, {\n",
      "      \"idFrom\" : \"4991c2ae-1da7-4773-930c-7526641d25b2\",\n",
      "      \"idTo\" : \"b644d77e-1882-4eef-a9d4-5174d4484a46\"\n",
      "    }, {\n",
      "      \"idFrom\" : \"24be9579-ad13-40b6-b1be-532844656781\",\n",
      "      \"idTo\" : \"9eebc869-be7d-45c3-a37c-20fd0339cedf\"\n",
      "    }, {\n",
      "      \"idFrom\" : \"23e14e47-64b6-4c9a-95d6-b89c28cebfe9\",\n",
      "      \"idTo\" : \"9d67a5af-50d9-425d-a211-79943d667137\"\n",
      "    } ],\n",
      "    \"dataset\" : \"seriouseats\",\n",
      "    \"author\" : \"Daniel Gritzer\",\n",
      "    \"ratingCount\" : 80,\n",
      "    \"domainName\" : \"seriouseats\"\n",
      "  }\n",
      "}\n"
     ]
    }
   ],
   "source": [
    "searcher = LuceneSearcher(index_dir=output_index_dir)\n",
    "\n",
    "last_utterance = \"I want pasta.\"\n",
    "top_k = 5\n",
    "\n",
    "hits = searcher.search(q=last_utterance, k=top_k)\n",
    "\n",
    "docs = []\n",
    "for hit in hits:\n",
    "    doc = searcher.doc(docid=hit.docid)\n",
    "    docs.append(doc.raw())\n",
    "\n",
    "for doc_string in docs:\n",
    "    doc_json = json.loads(doc_string)\n",
    "    taskmap_json = doc_json['recipe_document_json']\n",
    "\n",
    "print(docs[0])"
   ]
  }
 ],
 "metadata": {
  "kernelspec": {
   "display_name": "Python 3.9.2 ('.env': venv)",
   "language": "python",
   "name": "python3"
  },
  "language_info": {
   "codemirror_mode": {
    "name": "ipython",
    "version": 3
   },
   "file_extension": ".py",
   "mimetype": "text/x-python",
   "name": "python",
   "nbconvert_exporter": "python",
   "pygments_lexer": "ipython3",
   "version": "3.9.2"
  },
  "orig_nbformat": 4,
  "vscode": {
   "interpreter": {
    "hash": "53d625987a2fbc3bc4ff245e55c8a1927d7625fc99dd10be2af133dc79dbc2ca"
   }
  }
 },
 "nbformat": 4,
 "nbformat_minor": 2
}
