{
 "cells": [
  {
   "cell_type": "code",
   "execution_count": 1,
   "metadata": {},
   "outputs": [],
   "source": [
    "import sys\n",
    "\n",
    "sys.path.insert(0, 'compiled_protobufs')"
   ]
  },
  {
   "cell_type": "code",
   "execution_count": 3,
   "metadata": {},
   "outputs": [
    {
     "name": "stdout",
     "output_type": "stream",
     "text": [
      "Dataset Model: COOKING\n",
      "Taskgraphs already converted. Call overwrite=True in convert_to_taskgraphs() to overwrite the preprocessed taskgraphs.\n",
      "Dataset Model: DIY\n",
      "Taskgraphs already converted. Call overwrite=True in convert_to_taskgraphs() to overwrite the preprocessed taskgraphs.\n"
     ]
    }
   ],
   "source": [
    "\"\"\" Generate Taskgraphs from datasets \"\"\"\n",
    "\n",
    "from models_datasets.recipe_1m_model import AbstractModelDataset\n",
    "from models_datasets.recipe_1m_model import Recipe1MModel\n",
    "from models_datasets.wikihow_model import WikihowModel\n",
    "\n",
    "dataset_models = {\n",
    "    \"COOKING\" : Recipe1MModel,\n",
    "    \"DIY\": WikihowModel,\n",
    "}\n",
    "\n",
    "for model_name, model in dataset_models.items():\n",
    "    dataset_model: AbstractModelDataset = model()\n",
    "    print(f\"Dataset Model: {model_name}\")\n",
    "    dataset_model.convert_to_taskgraphs()"
   ]
  },
  {
   "cell_type": "code",
   "execution_count": 3,
   "metadata": {},
   "outputs": [],
   "source": [
    "# from models_indexes.marqo_model import MarqoModel\n",
    "# marqo_diy = MarqoModel(domain = \"DIY\")\n",
    "# marqo_diy.build_index()\n",
    "# marqo_diy.search(\"cleaning\")\n",
    "# marqo_diy.search(\"cleaning\")"
   ]
  },
  {
   "cell_type": "code",
   "execution_count": 3,
   "metadata": {},
   "outputs": [
    {
     "data": {
      "text/plain": [
       "{'hits': [{'Steps': '',\n",
       "   'Description': \"Hamsters can make great pets. They are easy to care for and can be good company. In order to keep your hamster healthy and happy, you will want to provide her with a comfortable living space. Make sure to keep your hamster's cage clean. You'll want to do a thorough cleaning about once a week.\",\n",
       "   'Difficulty': '',\n",
       "   'Title': \"How to Disinfect a Hamster's Cage\",\n",
       "   'Domain': 'wikihow',\n",
       "   'Date': 'September 1, 2019',\n",
       "   'Tags': 'Home and Garden Housekeeping Cleaning',\n",
       "   'Requirements': '',\n",
       "   '_id': 'diy+wikihow-offline+4ba9c24a18ef9de067d46d2d5ad6a7c6',\n",
       "   '_highlights': {'Tags': 'Home and Garden Housekeeping Cleaning'},\n",
       "   '_score': 0.85323274},\n",
       "  {'Steps': '',\n",
       "   'Description': 'Cleaning your deep freezer is easy. You will need to plan ahead as the entire process will take about a day, depending on the type and size of freezer you have. After you remove all the food from the freezer, you will begin the process of defrosting the deep freezer. Once all the ice has melted, you will clean the interior and exterior of the freezer. Finally, you will let the freezer run for around six hours before returning frozen items to the freezer.',\n",
       "   'Difficulty': '',\n",
       "   'Title': 'How to Clean a Deep Freezer',\n",
       "   'Domain': 'wikihow',\n",
       "   'Date': 'September 5, 2019',\n",
       "   'Tags': 'Home and Garden Housekeeping Cleaning House Cleaning',\n",
       "   'Requirements': '',\n",
       "   '_id': 'diy+wikihow-offline+beb65524898368b76bf1f8973b3f78cd',\n",
       "   '_highlights': {'Tags': 'Home and Garden Housekeeping Cleaning House Cleaning'},\n",
       "   '_score': 0.8321253},\n",
       "  {'Steps': '',\n",
       "   'Description': 'Cleaning a kitchen floor is simple with the right supplies. Pick the right cleaner for your floor type. Then, vacuum the floor and apply the cleaner. Let your floor dry and make sure to clean it regularly in the future.',\n",
       "   'Difficulty': '',\n",
       "   'Title': 'How to Clean Your Kitchen Floor',\n",
       "   'Domain': 'wikihow',\n",
       "   'Date': 'April 24, 2019',\n",
       "   'Tags': 'Home and Garden Housekeeping Cleaning House Cleaning',\n",
       "   'Requirements': '',\n",
       "   '_id': 'diy+wikihow-offline+44a89f9d2b776b322a143fadf721a95b',\n",
       "   '_highlights': {'Tags': 'Home and Garden Housekeeping Cleaning House Cleaning'},\n",
       "   '_score': 0.8321253},\n",
       "  {'Steps': '',\n",
       "   'Description': 'Black stove tops can create a sleek, modern look for your kitchen, and show dirt and stains less than white appliances. However, cleaning a black stove top sometimes requires extra care in order to avoid making visible scratches or streaks on the surface. Clean your stove with natural, non-abrasive cleaners like vinegar and baking soda, use scrapers or scouring pads designed for stove tops, and buff the surface with a microfiber cloth after cleaning.',\n",
       "   'Difficulty': '',\n",
       "   'Title': 'How to Clean a Black Stove Top',\n",
       "   'Domain': 'wikihow',\n",
       "   'Date': 'October 12, 2019',\n",
       "   'Tags': 'Home and Garden Housekeeping Cleaning House Cleaning',\n",
       "   'Requirements': '',\n",
       "   '_id': 'diy+wikihow-offline+3c66efe00a5227518140362d2bfed416',\n",
       "   '_highlights': {'Tags': 'Home and Garden Housekeeping Cleaning House Cleaning'},\n",
       "   '_score': 0.8321253},\n",
       "  {'Steps': '',\n",
       "   'Description': 'Residential ice machines, or ice makers, can become contaminated if they are not cleaned regularly. Contaminated ice machines can be fouled with bacteria, fungus, and viruses.  People have actually died as a direct result of ingesting contaminated ice. However, aside from the obvious health risks that fouled ice machines present, the slimy build-up inside of ice machines can cause poor taste and odor in the beverages, and can interrupt ice production, even leading to equipment failure.',\n",
       "   'Difficulty': '',\n",
       "   'Title': 'How to Clean a Residential Ice Machine',\n",
       "   'Domain': 'wikihow',\n",
       "   'Date': 'June 18, 2018',\n",
       "   'Tags': 'Home and Garden Housekeeping Cleaning House Cleaning',\n",
       "   'Requirements': '',\n",
       "   '_id': 'diy+wikihow-offline+e52d56a1beb9cb65e7d84dcada8b57e6',\n",
       "   '_highlights': {'Tags': 'Home and Garden Housekeeping Cleaning House Cleaning'},\n",
       "   '_score': 0.8321253},\n",
       "  {'Steps': '',\n",
       "   'Description': \"Laptop screens tend to collect dust, food particles and other debris that starts to look unattractive after a while. It's important to use very gentle supplies to clean your laptop screen, since the LCD surface is easily damaged. Using a microfiber cloth and a simple solution of water and vinegar will do the trick if you don't want to purchase a special screen cleaner.\",\n",
       "   'Difficulty': '',\n",
       "   'Title': 'How to Clean a Laptop Screen with Household Products',\n",
       "   'Domain': 'wikihow',\n",
       "   'Date': 'March 20, 2020',\n",
       "   'Tags': 'Computers and Electronics Computers Computer Maintenance Cleaning Your Computer',\n",
       "   'Requirements': '',\n",
       "   '_id': 'diy+wikihow-offline+b99f415ff87135cf36c944dd3722abaf',\n",
       "   '_highlights': {'Tags': 'Computers and Electronics Computers Computer Maintenance Cleaning Your Computer'},\n",
       "   '_score': 0.81058323},\n",
       "  {'Steps': '',\n",
       "   'Description': 'People use tape for different purposes on glass such labeling food containers or hanging up signs. It’s usually easy to remove tape from glass. But in some cases, it may be difficult to get tape or its residue off of glass. This is especially true if a tape, such as duct tape, has a strong adhesive or has been on the glass for a long time. You can get stubborn tape or its residue off of glass by using chemical solvents or using items around your house.',\n",
       "   'Difficulty': '',\n",
       "   'Title': 'How to Get Tape off of Glass',\n",
       "   'Domain': 'wikihow',\n",
       "   'Date': 'September 24, 2019',\n",
       "   'Tags': 'Home and Garden Housekeeping Cleaning Cleaning Glass',\n",
       "   'Requirements': '',\n",
       "   '_id': 'diy+wikihow-offline+30c36bf989f423faf14c0c8f5791fe76',\n",
       "   '_highlights': {'Tags': 'Home and Garden Housekeeping Cleaning Cleaning Glass'},\n",
       "   '_score': 0.80676556},\n",
       "  {'Steps': '',\n",
       "   'Description': 'Paving stones, also called pavers, add a decorative element to any setting. Whether your pavers are used as a walkway through your garden, a patio, or driveway, your pavers are bound to lose their luster over time. Luckily, you can restore your pavers with a mild cleaning solution, stiff bristled broom, replacement sand, and sealer.',\n",
       "   'Difficulty': '',\n",
       "   'Title': 'How to Clean Pavers',\n",
       "   'Domain': 'wikihow',\n",
       "   'Date': 'April 4, 2019',\n",
       "   'Tags': 'Home and Garden Yard and Outdoors Paths and Paving',\n",
       "   'Requirements': '',\n",
       "   '_id': 'diy+wikihow-offline+4e74eb4e01e26effd01ec514cab19e6c',\n",
       "   '_highlights': {'Title': 'How to Clean Pavers'},\n",
       "   '_score': 0.76077914},\n",
       "  {'Steps': '',\n",
       "   'Description': 'The class, style and softness a white rug can add to a room is unparalleled, but as the owner of a white rug, you may only see a big white accident waiting to be cleaned up. It’s like the crisp, summer look of white pants, until morning coffee gets spilled on them. Fortunately, cleaning a white rug is not as hard as it may seem. With regular maintenance, spot cleaning and tackling stains immediately, your rug can always look bright white.',\n",
       "   'Difficulty': '',\n",
       "   'Title': 'How to Clean a White Rug',\n",
       "   'Domain': 'wikihow',\n",
       "   'Date': 'March 29, 2019',\n",
       "   'Tags': 'Home and Garden Home Maintenance Floors and Stairs Carpets and Rugs Cleaning Rugs',\n",
       "   'Requirements': '',\n",
       "   '_id': 'diy+wikihow-offline+8fcbc40d3c4b62846e6fb60bfe84a471',\n",
       "   '_highlights': {'Title': 'How to Clean a White Rug'},\n",
       "   '_score': 0.76028836},\n",
       "  {'Steps': '',\n",
       "   'Description': \"The kitchen is often one of the most popular rooms in a house, so it's important to keep this room clean and safe for friends and family. The best way to keep your kitchen clean is to make a habit of cleaning up as you work, and taking care of a few chores each day so that messes don't pile up. Keeping your kitchen safe involves many different things, including practicing good hygiene and proper food handling practices, and being safe while cooking and using kitchen tools.\",\n",
       "   'Difficulty': '',\n",
       "   'Title': 'How to Keep Your Kitchen Clean and Safe',\n",
       "   'Domain': 'wikihow',\n",
       "   'Date': 'November 4, 2019',\n",
       "   'Tags': 'Home and Garden Home Maintenance Kitchens',\n",
       "   'Requirements': '',\n",
       "   '_id': 'diy+wikihow-offline+f6690c7642b69896bceb2cc6aa1e58d9',\n",
       "   '_highlights': {'Title': 'How to Keep Your Kitchen Clean and Safe'},\n",
       "   '_score': 0.7592039}],\n",
       " 'processingTimeMs': 261,\n",
       " 'query': 'cleaning',\n",
       " 'limit': 10}"
      ]
     },
     "execution_count": 3,
     "metadata": {},
     "output_type": "execute_result"
    }
   ],
   "source": [
    "\n",
    "# pd_cooking_queries = pd.read_csv(\"queries/cooking.csv\")\n",
    "# ids = [f'query-{i}' for i in range(0, len(pd_cooking_queries))]\n",
    "# pd_cooking_queries.insert(0, 'id', ids)\n",
    "# pd_cooking_queries.head()\n",
    "# pd_cooking_queries.to_csv(\"queries/cooking2.csv\",index=False)\n"
   ]
  },
  {
   "cell_type": "code",
   "execution_count": 3,
   "metadata": {},
   "outputs": [
    {
     "name": "stderr",
     "output_type": "stream",
     "text": [
      "2022-12-27 21:24:04.706716: I tensorflow/stream_executor/platform/default/dso_loader.cc:53] Successfully opened dynamic library libcudart.so.11.0\n"
     ]
    },
    {
     "name": "stdout",
     "output_type": "stream",
     "text": [
      "Build documents...\n",
      "Saving documents to /home/philip/task-search-quality/indexes/temp/diy/system_index_marqo...\n",
      "Write doc file\n",
      "Taskmap: 0/112499\n",
      "Taskmap: 100000/112499\n",
      "Generate index...\n"
     ]
    }
   ],
   "source": [
    "\"\"\" Build indexes from datasets \"\"\"\n",
    "\n",
    "# from models_indexes.bm25_model import BM25Model\n",
    "\n",
    "# bm25_food = BM25Model(domain = \"COOKING\", t5=True)\n",
    "# bm25_food.build_index()\n",
    "\n",
    "# from models_indexes.ance_model import AnceModel\n",
    "# ance_diy: AnceModel = AnceModel(domain = \"DIY\")\n",
    "\n",
    "# bm25_cooking = BM25Model(domain = \"DIY\", t5=True)\n",
    "# bm25_cooking.build_index()\n",
    "\n",
    "from models_indexes.colbert_model import ColbertModel\n",
    "colbert_diy: ColbertModel = ColbertModel(domain = \"DIY\")\n",
    "colbert_diy.build_index()\n",
    "colbert_diy.search(\"cleaning\")\n",
    "# ance_diy: AnceModel = AnceModel(domain = \"DIY\")\n",
    "\n"
   ]
  },
  {
   "cell_type": "code",
   "execution_count": 8,
   "metadata": {},
   "outputs": [
    {
     "data": {
      "text/plain": [
       "{'numberOfDocuments': 10}"
      ]
     },
     "execution_count": 8,
     "metadata": {},
     "output_type": "execute_result"
    }
   ],
   "source": [
    "marqo_cooking = MarqoModel(domain = \"COOKING\")\n",
    "marqo_cooking.build_index()\n",
    "marqo_cooking.search(\"fish\")\n",
    "\n",
    "# queries_path = os.path.join(os.getcwd(), \"queries\", \"cooking.csv\")\n",
    "\n",
    "# pd_cooking_queries = pd.read_csv(queries_path).iloc[:10]\n",
    "# bm25_food.convert_search_results_to_run(pd_cooking_queries)\n",
    "# bm25_food.create_empty_judgments(pd_cooking_queries, 5)\n",
    "# queries_path = os.path.join(os.getcwd(), \"queries\", \"diy.csv\")\n",
    "# pd_diy_queries = pd.read_csv(queries_path).iloc[:10]\n",
    "# ance_diy.build_index()\n",
    "# ance_diy.convert_search_results_to_run(pd_diy_queries)"
   ]
  },
  {
   "cell_type": "code",
   "execution_count": 4,
   "metadata": {},
   "outputs": [
    {
     "name": "stdout",
     "output_type": "stream",
     "text": [
      "Ance dense index already built. Call overwrite=True in build_index() to rebuild the index again.\n"
     ]
    }
   ],
   "source": [
    "# ance_cooking = AnceModel(domain = \"COOKING\")\n",
    "# ance_cooking.build_index()"
   ]
  },
  {
   "cell_type": "code",
   "execution_count": 250,
   "metadata": {},
   "outputs": [
    {
     "name": "stdout",
     "output_type": "stream",
     "text": [
      "Judgment: grow grapes https://www.wikihow.com/Grow-Grapes-from-Seeds\n",
      "Judgment: grow grapes https://www.wikihow.com/Propagate-a-Grapevine-from-Store-Bought-Grapes\n",
      "Judgment: grow grapes https://www.wikihow.com/Train-Grape-Vines\n",
      "Judgment: grow grapes https://www.wikihow.com/Grow-Grape-Vines\n",
      "Judgment: grow grapes https://www.wikihow.com/Prune-Grape-Vines\n",
      "Judgment: grow grapes https://www.wikihow.com/Protect-Grapes-from-Birds\n",
      "Judgment: grow grapes https://www.wikihow.com/Prune-Grape-Vines-for-Winter\n",
      "Judgment: grow grapes https://www.wikihow.com/Protect-Grapes-from-Insects\n",
      "Judgment: grow grapes https://www.wikihow.com/Start-a-Vineyard\n",
      "Judgment: grow grapes https://www.wikihow.com/Make-Raisins-Using-a-Food-Dehydrator\n"
     ]
    }
   ],
   "source": [
    "from models_indexes.bm25_model import BM25Model\n",
    "bm25_cooking = BM25Model(domain = \"DIY\")\n",
    "# bm25_cooking.build_index()\n",
    "\n",
    "# queries_path = os.path.join(os.getcwd(), \"queries\", \"cooking.csv\")\n",
    "# pd_cooking_queries = pd.read_csv(queries_path).iloc[:10]\n",
    "query = \"grow grapes\"\n",
    "bm25_cooking.search(query)"
   ]
  },
  {
   "cell_type": "code",
   "execution_count": null,
   "metadata": {},
   "outputs": [],
   "source": []
  }
 ],
 "metadata": {
  "kernelspec": {
   "display_name": "env",
   "language": "python",
   "name": "python3"
  },
  "language_info": {
   "codemirror_mode": {
    "name": "ipython",
    "version": 3
   },
   "file_extension": ".py",
   "mimetype": "text/x-python",
   "name": "python",
   "nbconvert_exporter": "python",
   "pygments_lexer": "ipython3",
   "version": "3.9.2"
  },
  "orig_nbformat": 4,
  "vscode": {
   "interpreter": {
    "hash": "5fc5ba0db375a557a527168d68cfbe4f022bc62df7af9d8f86e24130294f8f8e"
   }
  }
 },
 "nbformat": 4,
 "nbformat_minor": 2
}
