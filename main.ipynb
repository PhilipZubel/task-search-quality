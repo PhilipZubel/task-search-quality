{
 "cells": [
  {
   "cell_type": "code",
   "execution_count": 1,
   "metadata": {},
   "outputs": [],
   "source": [
    "import sys\n",
    "\n",
    "sys.path.insert(0, 'compiled_protobufs')"
   ]
  },
  {
   "cell_type": "code",
   "execution_count": 2,
   "metadata": {},
   "outputs": [
    {
     "name": "stdout",
     "output_type": "stream",
     "text": [
      "Dataset Model: COOKING\n",
      "Taskgraphs already converted. Call overwrite=True in convert_to_taskgraphs() to overwrite the preprocessed taskgraphs.\n",
      "Dataset Model: DIY\n",
      "Taskgraphs already converted. Call overwrite=True in convert_to_taskgraphs() to overwrite the preprocessed taskgraphs.\n"
     ]
    }
   ],
   "source": [
    "\"\"\" Generate Taskgraphs from datasets \"\"\"\n",
    "\n",
    "from models_datasets.recipe_1m_model import AbstractModelDataset\n",
    "from models_datasets.recipe_1m_model import Recipe1MModel\n",
    "from models_datasets.wikihow_model import WikihowModel\n",
    "\n",
    "dataset_models = {\n",
    "    \"COOKING\" : Recipe1MModel,\n",
    "    \"DIY\": WikihowModel,\n",
    "}\n",
    "\n",
    "for model_name, model in dataset_models.items():\n",
    "    dataset_model: AbstractModelDataset = model()\n",
    "    print(f\"Dataset Model: {model_name}\")\n",
    "    dataset_model.convert_to_taskgraphs()"
   ]
  },
  {
   "cell_type": "code",
   "execution_count": 3,
   "metadata": {},
   "outputs": [],
   "source": [
    "# pd_cooking_queries = pd.read_csv(\"queries/cooking.csv\")\n",
    "# ids = [f'query-{i}' for i in range(0, len(pd_cooking_queries))]\n",
    "# pd_cooking_queries.insert(0, 'id', ids)\n",
    "# pd_cooking_queries.head()\n",
    "# pd_cooking_queries.to_csv(\"queries/cooking2.csv\",index=False)\n"
   ]
  },
  {
   "cell_type": "code",
   "execution_count": 2,
   "metadata": {},
   "outputs": [
    {
     "name": "stderr",
     "output_type": "stream",
     "text": [
      "2022-12-22 08:34:02.330074: I tensorflow/stream_executor/platform/default/dso_loader.cc:53] Successfully opened dynamic library libcudart.so.11.0\n"
     ]
    }
   ],
   "source": [
    "\"\"\" Build indexes from datasets \"\"\"\n",
    "\n",
    "# from models_indexes.bm25_model import BM25Model\n",
    "\n",
    "# bm25_food = BM25Model(domain = \"COOKING\", t5=True)\n",
    "# bm25_food.build_index()\n",
    "\n",
    "from models_indexes.ance_model import AnceModel\n",
    "ance_diy: AnceModel = AnceModel(domain = \"DIY\")\n",
    "\n",
    "# bm25_cooking = BM25Model(domain = \"DIY\", t5=True)\n",
    "# bm25_cooking.build_index()"
   ]
  },
  {
   "cell_type": "code",
   "execution_count": 3,
   "metadata": {},
   "outputs": [
    {
     "name": "stdout",
     "output_type": "stream",
     "text": [
      "Ance dense index already built. Call overwrite=True in build_index() to rebuild the index again.\n",
      "Run file saved at /home/philip/task-search-quality/measurements/diy/run_files/ance.run\n"
     ]
    }
   ],
   "source": [
    "\"\"\" Load queries \"\"\"\n",
    "import pandas as pd\n",
    "\n",
    "import os\n",
    "# queries_path = os.path.join(os.getcwd(), \"queries\", \"cooking.csv\")\n",
    "\n",
    "# pd_cooking_queries = pd.read_csv(queries_path).iloc[:10]\n",
    "# bm25_food.convert_search_results_to_run(pd_cooking_queries)\n",
    "# bm25_food.create_empty_judgments(pd_cooking_queries, 5)\n",
    "# queries_path = os.path.join(os.getcwd(), \"queries\", \"diy.csv\")\n",
    "# pd_diy_queries = pd.read_csv(queries_path).iloc[:10]\n",
    "# ance_diy.build_index()\n",
    "# ance_diy.convert_search_results_to_run(pd_diy_queries)"
   ]
  },
  {
   "cell_type": "code",
   "execution_count": 4,
   "metadata": {},
   "outputs": [
    {
     "name": "stdout",
     "output_type": "stream",
     "text": [
      "Ance dense index already built. Call overwrite=True in build_index() to rebuild the index again.\n"
     ]
    }
   ],
   "source": [
    "# ance_cooking = AnceModel(domain = \"COOKING\")\n",
    "# ance_cooking.build_index()"
   ]
  },
  {
   "cell_type": "code",
   "execution_count": 7,
   "metadata": {},
   "outputs": [
    {
     "name": "stdout",
     "output_type": "stream",
     "text": [
      "Judgment: spatchcock big turkey http://www.food.com/recipe/birds-birds-birds-139688\n",
      "Judgment: spatchcock big turkey http://www.food.com/recipe/spicy-roast-spatchcocks-341031\n",
      "Judgment: spatchcock big turkey http://www.food.com/recipe/braised-spatchcocks-with-spinach-336566\n",
      "Judgment: spatchcock big turkey http://www.food.com/recipe/spatchcocks-with-a-herb-butter-and-sage-and-bacon-sauce-271632\n",
      "Judgment: spatchcock big turkey http://www.food.com/recipe/spatchcocked-turkey-aka-butterflied-469154\n",
      "Judgment: spatchcock big turkey http://www.kraftrecipes.com/recipes/grilled-spatchcock-turkey-cranberry-barbecue-sauce-120326.aspx\n",
      "Judgment: spatchcock big turkey http://www.foodnetwork.com/recipes/nigella-lawson/spatchcocked-birds-recipe.html\n",
      "Judgment: spatchcock big turkey http://www.food.com/recipe/spatchcocked-chicken-with-walnut-dill-pesto-254121\n",
      "Judgment: spatchcock big turkey http://www.chowhound.com/recipes/butterflied-roasted-turkey-with-butternut-squash-stuffing-30874\n",
      "Judgment: spatchcock big turkey http://tastykitchen.com/recipes/main-courses/spatchcock-chicken/\n"
     ]
    }
   ],
   "source": [
    "from models_indexes.bm25_model import BM25Model\n",
    "bm25_cooking = BM25Model(domain = \"COOKING\")\n",
    "# bm25_cooking.build_index()\n",
    "\n",
    "# queries_path = os.path.join(os.getcwd(), \"queries\", \"cooking.csv\")\n",
    "# pd_cooking_queries = pd.read_csv(queries_path).iloc[:10]\n",
    "query = \"spatchcock turkey\"\n",
    "bm25_cooking.search(query)"
   ]
  },
  {
   "cell_type": "code",
   "execution_count": null,
   "metadata": {},
   "outputs": [],
   "source": []
  }
 ],
 "metadata": {
  "kernelspec": {
   "display_name": "env",
   "language": "python",
   "name": "python3"
  },
  "language_info": {
   "codemirror_mode": {
    "name": "ipython",
    "version": 3
   },
   "file_extension": ".py",
   "mimetype": "text/x-python",
   "name": "python",
   "nbconvert_exporter": "python",
   "pygments_lexer": "ipython3",
   "version": "3.9.2"
  },
  "orig_nbformat": 4,
  "vscode": {
   "interpreter": {
    "hash": "5fc5ba0db375a557a527168d68cfbe4f022bc62df7af9d8f86e24130294f8f8e"
   }
  }
 },
 "nbformat": 4,
 "nbformat_minor": 2
}
