{
 "cells": [
  {
   "cell_type": "code",
   "execution_count": null,
   "metadata": {},
   "outputs": [],
   "source": [
    "import sys\n",
    "\n",
    "sys.path.insert(0, 'compiled_protobufs')"
   ]
  },
  {
   "cell_type": "code",
   "execution_count": null,
   "metadata": {},
   "outputs": [],
   "source": [
    "# import IPython\n",
    "# import sys\n",
    "# from pygaggle.rerank.transformer import MonoT5\n",
    "# !{sys.executable} -m pip install -r pygaggle/requirements.txt\n",
    "# IPython.Application.instance().kernel.do_shutdown(True)  "
   ]
  },
  {
   "cell_type": "code",
   "execution_count": null,
   "metadata": {},
   "outputs": [],
   "source": [
    "# \"\"\" Generate Taskgraphs from datasets \"\"\"\n",
    "\n",
    "# from models_datasets.recipe_1m_model import AbstractModelDataset\n",
    "# from models_datasets.recipe_1m_model import Recipe1MModel\n",
    "# from models_datasets.wikihow_model import WikihowModel\n",
    "\n",
    "# dataset_models = {\n",
    "#     \"COOKING\" : Recipe1MModel,\n",
    "#     \"DIY\": WikihowModel,\n",
    "# }\n",
    "\n",
    "# for model_name, model in dataset_models.items():\n",
    "#     dataset_model: AbstractModelDataset = model()\n",
    "#     print(f\"Dataset Model: {model_name}\")\n",
    "#     dataset_model.convert_to_taskgraphs()"
   ]
  },
  {
   "cell_type": "code",
   "execution_count": null,
   "metadata": {},
   "outputs": [],
   "source": [
    "import pandas as pd\n",
    "\n",
    "\"\"\" Preprocess and load queries \"\"\"\n",
    "\n",
    "# from query_pipeline import query_pipeline\n",
    "# query_pipeline.preprocess_queries()\n",
    "\n",
    "queries = {\n",
    "    \"COOKING\" : pd.read_csv('queries/cooking.csv'),\n",
    "    \"DIY\": pd.read_csv('queries/diy.csv'),\n",
    "}\n",
    "\n",
    "queries[\"COOKING\"].head()"
   ]
  },
  {
   "cell_type": "code",
   "execution_count": null,
   "metadata": {},
   "outputs": [],
   "source": [
    "# from models_indexes.bm25_model import BM25Model\n",
    "# from models_indexes.ance_model import AnceModel\n",
    "# from models_indexes.colbert_model import ColbertModel\n",
    "from models_indexes.marqo_model import MarqoModel\n",
    "# from models_indexes.abstract_model import AbstractModel\n",
    "# from models_indexes.hybrid_model import HybridModel\n",
    "\n",
    "models = {}\n",
    "\n",
    "# for domain in  [\"DIY\"]:\n",
    "for domain in  [\"DIY\", \"COOKING\"]:\n",
    "    print(domain)\n",
    "    models[domain] = {\n",
    "        # \"bm25\" : BM25Model(domain = domain),\n",
    "        # \"bm25+rm3\" : BM25Model(domain = domain, rm3=True),\n",
    "        # \"bm25+t5\" : BM25Model(domain = domain, t5=True),\n",
    "        # \"bm25+rm3+t5\" : BM25Model(domain = domain, rm3=True, t5=True),\n",
    "        # \"ance+t5\": AnceModel(domain = domain, t5=True),\n",
    "        # \"colbert+t5\": ColbertModel(domain = domain, t5=True),\n",
    "        \"marqo\": MarqoModel(domain = domain),\n",
    "        # \"marqo\": MarqoModel(domain = domain),\n",
    "        # \"marqo\": MarqoModel(domain = domain, doc_build=\"separate\"),\n",
    "        # \"hybrid\": HybridModel(domain = domain, rm3=True, t5=True)\n",
    "    }"
   ]
  },
  {
   "cell_type": "code",
   "execution_count": 22,
   "metadata": {},
   "outputs": [
    {
     "name": "stdout",
     "output_type": "stream",
     "text": [
      "query 0/100\n",
      "FILTERS ADDED ['Title', 'Tags']\n"
     ]
    },
    {
     "name": "stderr",
     "output_type": "stream",
     "text": [
      "2023-02-21 19:39:13,035 logger:'marqo' INFO search (tensor): took 0.979s to send query and received 50 results from Marqo (roundtrip). Marqo itself took 0.972s to execute the search.\n",
      "2023-02-21 19:39:13 [INFO] index: search (tensor): took 0.979s to send query and received 50 results from Marqo (roundtrip). Marqo itself took 0.972s to execute the search.\n"
     ]
    },
    {
     "name": "stdout",
     "output_type": "stream",
     "text": [
      "query 1/100\n",
      "FILTERS ADDED ['Title', 'Tags']\n"
     ]
    },
    {
     "name": "stderr",
     "output_type": "stream",
     "text": [
      "2023-02-21 19:39:13,256 logger:'marqo' INFO search (tensor): took 0.220s to send query and received 50 results from Marqo (roundtrip). Marqo itself took 0.215s to execute the search.\n",
      "2023-02-21 19:39:13 [INFO] index: search (tensor): took 0.220s to send query and received 50 results from Marqo (roundtrip). Marqo itself took 0.215s to execute the search.\n",
      "2023-02-21 19:39:13,415 logger:'marqo' INFO search (tensor): took 0.158s to send query and received 50 results from Marqo (roundtrip). Marqo itself took 0.152s to execute the search.\n",
      "2023-02-21 19:39:13 [INFO] index: search (tensor): took 0.158s to send query and received 50 results from Marqo (roundtrip). Marqo itself took 0.152s to execute the search.\n"
     ]
    },
    {
     "name": "stdout",
     "output_type": "stream",
     "text": [
      "query 2/100\n",
      "FILTERS ADDED ['Title', 'Tags']\n",
      "query 3/100\n",
      "FILTERS ADDED ['Title', 'Tags']\n"
     ]
    },
    {
     "name": "stderr",
     "output_type": "stream",
     "text": [
      "2023-02-21 19:39:13,545 logger:'marqo' INFO search (tensor): took 0.129s to send query and received 50 results from Marqo (roundtrip). Marqo itself took 0.124s to execute the search.\n",
      "2023-02-21 19:39:13 [INFO] index: search (tensor): took 0.129s to send query and received 50 results from Marqo (roundtrip). Marqo itself took 0.124s to execute the search.\n",
      "2023-02-21 19:39:13,678 logger:'marqo' INFO search (tensor): took 0.132s to send query and received 50 results from Marqo (roundtrip). Marqo itself took 0.127s to execute the search.\n",
      "2023-02-21 19:39:13 [INFO] index: search (tensor): took 0.132s to send query and received 50 results from Marqo (roundtrip). Marqo itself took 0.127s to execute the search.\n"
     ]
    },
    {
     "name": "stdout",
     "output_type": "stream",
     "text": [
      "query 4/100\n",
      "FILTERS ADDED ['Title', 'Tags']\n",
      "query 5/100\n",
      "FILTERS ADDED ['Title', 'Tags']\n"
     ]
    },
    {
     "name": "stderr",
     "output_type": "stream",
     "text": [
      "2023-02-21 19:39:13,830 logger:'marqo' INFO search (tensor): took 0.150s to send query and received 50 results from Marqo (roundtrip). Marqo itself took 0.145s to execute the search.\n",
      "2023-02-21 19:39:13 [INFO] index: search (tensor): took 0.150s to send query and received 50 results from Marqo (roundtrip). Marqo itself took 0.145s to execute the search.\n",
      "2023-02-21 19:39:13,985 logger:'marqo' INFO search (tensor): took 0.153s to send query and received 50 results from Marqo (roundtrip). Marqo itself took 0.147s to execute the search.\n",
      "2023-02-21 19:39:13 [INFO] index: search (tensor): took 0.153s to send query and received 50 results from Marqo (roundtrip). Marqo itself took 0.147s to execute the search.\n"
     ]
    },
    {
     "name": "stdout",
     "output_type": "stream",
     "text": [
      "query 6/100\n",
      "FILTERS ADDED ['Title', 'Tags']\n",
      "query 7/100\n",
      "FILTERS ADDED ['Title', 'Tags']\n"
     ]
    },
    {
     "name": "stderr",
     "output_type": "stream",
     "text": [
      "2023-02-21 19:39:14,117 logger:'marqo' INFO search (tensor): took 0.131s to send query and received 50 results from Marqo (roundtrip). Marqo itself took 0.126s to execute the search.\n",
      "2023-02-21 19:39:14 [INFO] index: search (tensor): took 0.131s to send query and received 50 results from Marqo (roundtrip). Marqo itself took 0.126s to execute the search.\n"
     ]
    },
    {
     "name": "stdout",
     "output_type": "stream",
     "text": [
      "query 8/100\n",
      "FILTERS ADDED ['Title', 'Tags']\n"
     ]
    },
    {
     "name": "stderr",
     "output_type": "stream",
     "text": [
      "2023-02-21 19:39:14,361 logger:'marqo' INFO search (tensor): took 0.242s to send query and received 50 results from Marqo (roundtrip). Marqo itself took 0.236s to execute the search.\n",
      "2023-02-21 19:39:14 [INFO] index: search (tensor): took 0.242s to send query and received 50 results from Marqo (roundtrip). Marqo itself took 0.236s to execute the search.\n",
      "2023-02-21 19:39:14,496 logger:'marqo' INFO search (tensor): took 0.134s to send query and received 50 results from Marqo (roundtrip). Marqo itself took 0.129s to execute the search.\n",
      "2023-02-21 19:39:14 [INFO] index: search (tensor): took 0.134s to send query and received 50 results from Marqo (roundtrip). Marqo itself took 0.129s to execute the search.\n"
     ]
    },
    {
     "name": "stdout",
     "output_type": "stream",
     "text": [
      "query 9/100\n",
      "FILTERS ADDED ['Title', 'Tags']\n",
      "query 10/100\n",
      "FILTERS ADDED ['Title', 'Tags']\n"
     ]
    },
    {
     "name": "stderr",
     "output_type": "stream",
     "text": [
      "2023-02-21 19:39:14,635 logger:'marqo' INFO search (tensor): took 0.138s to send query and received 50 results from Marqo (roundtrip). Marqo itself took 0.133s to execute the search.\n",
      "2023-02-21 19:39:14 [INFO] index: search (tensor): took 0.138s to send query and received 50 results from Marqo (roundtrip). Marqo itself took 0.133s to execute the search.\n",
      "2023-02-21 19:39:14,786 logger:'marqo' INFO search (tensor): took 0.149s to send query and received 50 results from Marqo (roundtrip). Marqo itself took 0.144s to execute the search.\n",
      "2023-02-21 19:39:14 [INFO] index: search (tensor): took 0.149s to send query and received 50 results from Marqo (roundtrip). Marqo itself took 0.144s to execute the search.\n"
     ]
    },
    {
     "name": "stdout",
     "output_type": "stream",
     "text": [
      "query 11/100\n",
      "FILTERS ADDED ['Title', 'Tags']\n",
      "query 12/100\n",
      "FILTERS ADDED ['Title', 'Tags']\n"
     ]
    },
    {
     "name": "stderr",
     "output_type": "stream",
     "text": [
      "2023-02-21 19:39:14,963 logger:'marqo' INFO search (tensor): took 0.175s to send query and received 50 results from Marqo (roundtrip). Marqo itself took 0.170s to execute the search.\n",
      "2023-02-21 19:39:14 [INFO] index: search (tensor): took 0.175s to send query and received 50 results from Marqo (roundtrip). Marqo itself took 0.170s to execute the search.\n",
      "2023-02-21 19:39:15,091 logger:'marqo' INFO search (tensor): took 0.126s to send query and received 50 results from Marqo (roundtrip). Marqo itself took 0.121s to execute the search.\n",
      "2023-02-21 19:39:15 [INFO] index: search (tensor): took 0.126s to send query and received 50 results from Marqo (roundtrip). Marqo itself took 0.121s to execute the search.\n"
     ]
    },
    {
     "name": "stdout",
     "output_type": "stream",
     "text": [
      "query 13/100\n",
      "FILTERS ADDED ['Title', 'Tags']\n",
      "query 14/100\n",
      "FILTERS ADDED ['Title', 'Tags']\n"
     ]
    },
    {
     "name": "stderr",
     "output_type": "stream",
     "text": [
      "2023-02-21 19:39:15,232 logger:'marqo' INFO search (tensor): took 0.140s to send query and received 50 results from Marqo (roundtrip). Marqo itself took 0.135s to execute the search.\n",
      "2023-02-21 19:39:15 [INFO] index: search (tensor): took 0.140s to send query and received 50 results from Marqo (roundtrip). Marqo itself took 0.135s to execute the search.\n",
      "2023-02-21 19:39:15,344 logger:'marqo' INFO search (tensor): took 0.111s to send query and received 50 results from Marqo (roundtrip). Marqo itself took 0.106s to execute the search.\n",
      "2023-02-21 19:39:15 [INFO] index: search (tensor): took 0.111s to send query and received 50 results from Marqo (roundtrip). Marqo itself took 0.106s to execute the search.\n"
     ]
    },
    {
     "name": "stdout",
     "output_type": "stream",
     "text": [
      "query 15/100\n",
      "FILTERS ADDED ['Title', 'Tags']\n",
      "query 16/100\n",
      "FILTERS ADDED ['Title', 'Tags']\n"
     ]
    },
    {
     "name": "stderr",
     "output_type": "stream",
     "text": [
      "2023-02-21 19:39:15,540 logger:'marqo' INFO search (tensor): took 0.194s to send query and received 50 results from Marqo (roundtrip). Marqo itself took 0.189s to execute the search.\n",
      "2023-02-21 19:39:15 [INFO] index: search (tensor): took 0.194s to send query and received 50 results from Marqo (roundtrip). Marqo itself took 0.189s to execute the search.\n",
      "2023-02-21 19:39:15,654 logger:'marqo' INFO search (tensor): took 0.113s to send query and received 50 results from Marqo (roundtrip). Marqo itself took 0.108s to execute the search.\n",
      "2023-02-21 19:39:15 [INFO] index: search (tensor): took 0.113s to send query and received 50 results from Marqo (roundtrip). Marqo itself took 0.108s to execute the search.\n"
     ]
    },
    {
     "name": "stdout",
     "output_type": "stream",
     "text": [
      "query 17/100\n",
      "FILTERS ADDED ['Title', 'Tags']\n",
      "query 18/100\n",
      "FILTERS ADDED ['Title', 'Tags']\n"
     ]
    },
    {
     "name": "stderr",
     "output_type": "stream",
     "text": [
      "2023-02-21 19:39:15,783 logger:'marqo' INFO search (tensor): took 0.127s to send query and received 50 results from Marqo (roundtrip). Marqo itself took 0.122s to execute the search.\n",
      "2023-02-21 19:39:15 [INFO] index: search (tensor): took 0.127s to send query and received 50 results from Marqo (roundtrip). Marqo itself took 0.122s to execute the search.\n",
      "2023-02-21 19:39:15,927 logger:'marqo' INFO search (tensor): took 0.142s to send query and received 50 results from Marqo (roundtrip). Marqo itself took 0.137s to execute the search.\n",
      "2023-02-21 19:39:15 [INFO] index: search (tensor): took 0.142s to send query and received 50 results from Marqo (roundtrip). Marqo itself took 0.137s to execute the search.\n"
     ]
    },
    {
     "name": "stdout",
     "output_type": "stream",
     "text": [
      "query 19/100\n",
      "FILTERS ADDED ['Title', 'Tags']\n",
      "query 20/100\n",
      "FILTERS ADDED ['Title', 'Tags']\n"
     ]
    },
    {
     "name": "stderr",
     "output_type": "stream",
     "text": [
      "2023-02-21 19:39:16,070 logger:'marqo' INFO search (tensor): took 0.142s to send query and received 50 results from Marqo (roundtrip). Marqo itself took 0.137s to execute the search.\n",
      "2023-02-21 19:39:16 [INFO] index: search (tensor): took 0.142s to send query and received 50 results from Marqo (roundtrip). Marqo itself took 0.137s to execute the search.\n",
      "2023-02-21 19:39:16,196 logger:'marqo' INFO search (tensor): took 0.124s to send query and received 50 results from Marqo (roundtrip). Marqo itself took 0.119s to execute the search.\n",
      "2023-02-21 19:39:16 [INFO] index: search (tensor): took 0.124s to send query and received 50 results from Marqo (roundtrip). Marqo itself took 0.119s to execute the search.\n"
     ]
    },
    {
     "name": "stdout",
     "output_type": "stream",
     "text": [
      "query 21/100\n",
      "FILTERS ADDED ['Title', 'Tags']\n",
      "query 22/100\n",
      "FILTERS ADDED ['Title', 'Tags']\n"
     ]
    },
    {
     "name": "stderr",
     "output_type": "stream",
     "text": [
      "2023-02-21 19:39:16,316 logger:'marqo' INFO search (tensor): took 0.119s to send query and received 50 results from Marqo (roundtrip). Marqo itself took 0.114s to execute the search.\n",
      "2023-02-21 19:39:16 [INFO] index: search (tensor): took 0.119s to send query and received 50 results from Marqo (roundtrip). Marqo itself took 0.114s to execute the search.\n",
      "2023-02-21 19:39:16,433 logger:'marqo' INFO search (tensor): took 0.115s to send query and received 50 results from Marqo (roundtrip). Marqo itself took 0.110s to execute the search.\n",
      "2023-02-21 19:39:16 [INFO] index: search (tensor): took 0.115s to send query and received 50 results from Marqo (roundtrip). Marqo itself took 0.110s to execute the search.\n"
     ]
    },
    {
     "name": "stdout",
     "output_type": "stream",
     "text": [
      "query 23/100\n",
      "FILTERS ADDED ['Title', 'Tags']\n",
      "query 24/100\n",
      "FILTERS ADDED ['Title', 'Tags']\n"
     ]
    },
    {
     "name": "stderr",
     "output_type": "stream",
     "text": [
      "2023-02-21 19:39:16,547 logger:'marqo' INFO search (tensor): took 0.113s to send query and received 50 results from Marqo (roundtrip). Marqo itself took 0.108s to execute the search.\n",
      "2023-02-21 19:39:16 [INFO] index: search (tensor): took 0.113s to send query and received 50 results from Marqo (roundtrip). Marqo itself took 0.108s to execute the search.\n",
      "2023-02-21 19:39:16,707 logger:'marqo' INFO search (tensor): took 0.158s to send query and received 50 results from Marqo (roundtrip). Marqo itself took 0.153s to execute the search.\n",
      "2023-02-21 19:39:16 [INFO] index: search (tensor): took 0.158s to send query and received 50 results from Marqo (roundtrip). Marqo itself took 0.153s to execute the search.\n"
     ]
    },
    {
     "name": "stdout",
     "output_type": "stream",
     "text": [
      "query 25/100\n",
      "FILTERS ADDED ['Title', 'Tags']\n",
      "query 26/100\n",
      "FILTERS ADDED ['Title', 'Tags']\n"
     ]
    },
    {
     "name": "stderr",
     "output_type": "stream",
     "text": [
      "2023-02-21 19:39:16,870 logger:'marqo' INFO search (tensor): took 0.162s to send query and received 50 results from Marqo (roundtrip). Marqo itself took 0.157s to execute the search.\n",
      "2023-02-21 19:39:16 [INFO] index: search (tensor): took 0.162s to send query and received 50 results from Marqo (roundtrip). Marqo itself took 0.157s to execute the search.\n",
      "2023-02-21 19:39:17,024 logger:'marqo' INFO search (tensor): took 0.153s to send query and received 50 results from Marqo (roundtrip). Marqo itself took 0.148s to execute the search.\n",
      "2023-02-21 19:39:17 [INFO] index: search (tensor): took 0.153s to send query and received 50 results from Marqo (roundtrip). Marqo itself took 0.148s to execute the search.\n"
     ]
    },
    {
     "name": "stdout",
     "output_type": "stream",
     "text": [
      "query 27/100\n",
      "FILTERS ADDED ['Title', 'Tags']\n",
      "query 28/100\n",
      "FILTERS ADDED ['Title', 'Tags']\n"
     ]
    },
    {
     "name": "stderr",
     "output_type": "stream",
     "text": [
      "2023-02-21 19:39:17,150 logger:'marqo' INFO search (tensor): took 0.124s to send query and received 50 results from Marqo (roundtrip). Marqo itself took 0.119s to execute the search.\n",
      "2023-02-21 19:39:17 [INFO] index: search (tensor): took 0.124s to send query and received 50 results from Marqo (roundtrip). Marqo itself took 0.119s to execute the search.\n",
      "2023-02-21 19:39:17,297 logger:'marqo' INFO search (tensor): took 0.145s to send query and received 50 results from Marqo (roundtrip). Marqo itself took 0.140s to execute the search.\n",
      "2023-02-21 19:39:17 [INFO] index: search (tensor): took 0.145s to send query and received 50 results from Marqo (roundtrip). Marqo itself took 0.140s to execute the search.\n"
     ]
    },
    {
     "name": "stdout",
     "output_type": "stream",
     "text": [
      "query 29/100\n",
      "FILTERS ADDED ['Title', 'Tags']\n",
      "query 30/100\n",
      "FILTERS ADDED ['Title', 'Tags']\n"
     ]
    },
    {
     "name": "stderr",
     "output_type": "stream",
     "text": [
      "2023-02-21 19:39:17,428 logger:'marqo' INFO search (tensor): took 0.129s to send query and received 50 results from Marqo (roundtrip). Marqo itself took 0.124s to execute the search.\n",
      "2023-02-21 19:39:17 [INFO] index: search (tensor): took 0.129s to send query and received 50 results from Marqo (roundtrip). Marqo itself took 0.124s to execute the search.\n",
      "2023-02-21 19:39:17,563 logger:'marqo' INFO search (tensor): took 0.134s to send query and received 50 results from Marqo (roundtrip). Marqo itself took 0.129s to execute the search.\n",
      "2023-02-21 19:39:17 [INFO] index: search (tensor): took 0.134s to send query and received 50 results from Marqo (roundtrip). Marqo itself took 0.129s to execute the search.\n"
     ]
    },
    {
     "name": "stdout",
     "output_type": "stream",
     "text": [
      "query 31/100\n",
      "FILTERS ADDED ['Title', 'Tags']\n",
      "query 32/100\n",
      "FILTERS ADDED ['Title', 'Tags']\n"
     ]
    },
    {
     "name": "stderr",
     "output_type": "stream",
     "text": [
      "2023-02-21 19:39:17,706 logger:'marqo' INFO search (tensor): took 0.141s to send query and received 50 results from Marqo (roundtrip). Marqo itself took 0.136s to execute the search.\n",
      "2023-02-21 19:39:17 [INFO] index: search (tensor): took 0.141s to send query and received 50 results from Marqo (roundtrip). Marqo itself took 0.136s to execute the search.\n",
      "2023-02-21 19:39:17,856 logger:'marqo' INFO search (tensor): took 0.148s to send query and received 50 results from Marqo (roundtrip). Marqo itself took 0.143s to execute the search.\n",
      "2023-02-21 19:39:17 [INFO] index: search (tensor): took 0.148s to send query and received 50 results from Marqo (roundtrip). Marqo itself took 0.143s to execute the search.\n"
     ]
    },
    {
     "name": "stdout",
     "output_type": "stream",
     "text": [
      "query 33/100\n",
      "FILTERS ADDED ['Title', 'Tags']\n",
      "query 34/100\n",
      "FILTERS ADDED ['Title', 'Tags']\n"
     ]
    },
    {
     "name": "stderr",
     "output_type": "stream",
     "text": [
      "2023-02-21 19:39:17,976 logger:'marqo' INFO search (tensor): took 0.119s to send query and received 50 results from Marqo (roundtrip). Marqo itself took 0.114s to execute the search.\n",
      "2023-02-21 19:39:17 [INFO] index: search (tensor): took 0.119s to send query and received 50 results from Marqo (roundtrip). Marqo itself took 0.114s to execute the search.\n",
      "2023-02-21 19:39:18,110 logger:'marqo' INFO search (tensor): took 0.133s to send query and received 50 results from Marqo (roundtrip). Marqo itself took 0.127s to execute the search.\n",
      "2023-02-21 19:39:18 [INFO] index: search (tensor): took 0.133s to send query and received 50 results from Marqo (roundtrip). Marqo itself took 0.127s to execute the search.\n"
     ]
    },
    {
     "name": "stdout",
     "output_type": "stream",
     "text": [
      "query 35/100\n",
      "FILTERS ADDED ['Title', 'Tags']\n",
      "query 36/100\n",
      "FILTERS ADDED ['Title', 'Tags']\n"
     ]
    },
    {
     "name": "stderr",
     "output_type": "stream",
     "text": [
      "2023-02-21 19:39:18,226 logger:'marqo' INFO search (tensor): took 0.114s to send query and received 50 results from Marqo (roundtrip). Marqo itself took 0.109s to execute the search.\n",
      "2023-02-21 19:39:18 [INFO] index: search (tensor): took 0.114s to send query and received 50 results from Marqo (roundtrip). Marqo itself took 0.109s to execute the search.\n",
      "2023-02-21 19:39:18,375 logger:'marqo' INFO search (tensor): took 0.148s to send query and received 50 results from Marqo (roundtrip). Marqo itself took 0.142s to execute the search.\n",
      "2023-02-21 19:39:18 [INFO] index: search (tensor): took 0.148s to send query and received 50 results from Marqo (roundtrip). Marqo itself took 0.142s to execute the search.\n"
     ]
    },
    {
     "name": "stdout",
     "output_type": "stream",
     "text": [
      "query 37/100\n",
      "FILTERS ADDED ['Title', 'Tags']\n",
      "query 38/100\n",
      "FILTERS ADDED ['Title', 'Tags']\n"
     ]
    },
    {
     "name": "stderr",
     "output_type": "stream",
     "text": [
      "2023-02-21 19:39:18,549 logger:'marqo' INFO search (tensor): took 0.173s to send query and received 50 results from Marqo (roundtrip). Marqo itself took 0.167s to execute the search.\n",
      "2023-02-21 19:39:18 [INFO] index: search (tensor): took 0.173s to send query and received 50 results from Marqo (roundtrip). Marqo itself took 0.167s to execute the search.\n",
      "2023-02-21 19:39:18,670 logger:'marqo' INFO search (tensor): took 0.120s to send query and received 50 results from Marqo (roundtrip). Marqo itself took 0.114s to execute the search.\n",
      "2023-02-21 19:39:18 [INFO] index: search (tensor): took 0.120s to send query and received 50 results from Marqo (roundtrip). Marqo itself took 0.114s to execute the search.\n"
     ]
    },
    {
     "name": "stdout",
     "output_type": "stream",
     "text": [
      "query 39/100\n",
      "FILTERS ADDED ['Title', 'Tags']\n",
      "query 40/100\n",
      "FILTERS ADDED ['Title', 'Tags']\n"
     ]
    },
    {
     "name": "stderr",
     "output_type": "stream",
     "text": [
      "2023-02-21 19:39:18,808 logger:'marqo' INFO search (tensor): took 0.136s to send query and received 50 results from Marqo (roundtrip). Marqo itself took 0.131s to execute the search.\n",
      "2023-02-21 19:39:18 [INFO] index: search (tensor): took 0.136s to send query and received 50 results from Marqo (roundtrip). Marqo itself took 0.131s to execute the search.\n",
      "2023-02-21 19:39:18,945 logger:'marqo' INFO search (tensor): took 0.136s to send query and received 50 results from Marqo (roundtrip). Marqo itself took 0.130s to execute the search.\n",
      "2023-02-21 19:39:18 [INFO] index: search (tensor): took 0.136s to send query and received 50 results from Marqo (roundtrip). Marqo itself took 0.130s to execute the search.\n"
     ]
    },
    {
     "name": "stdout",
     "output_type": "stream",
     "text": [
      "query 41/100\n",
      "FILTERS ADDED ['Title', 'Tags']\n",
      "query 42/100\n",
      "FILTERS ADDED ['Title', 'Tags']\n"
     ]
    },
    {
     "name": "stderr",
     "output_type": "stream",
     "text": [
      "2023-02-21 19:39:19,112 logger:'marqo' INFO search (tensor): took 0.165s to send query and received 50 results from Marqo (roundtrip). Marqo itself took 0.159s to execute the search.\n",
      "2023-02-21 19:39:19 [INFO] index: search (tensor): took 0.165s to send query and received 50 results from Marqo (roundtrip). Marqo itself took 0.159s to execute the search.\n",
      "2023-02-21 19:39:19,280 logger:'marqo' INFO search (tensor): took 0.167s to send query and received 50 results from Marqo (roundtrip). Marqo itself took 0.161s to execute the search.\n",
      "2023-02-21 19:39:19 [INFO] index: search (tensor): took 0.167s to send query and received 50 results from Marqo (roundtrip). Marqo itself took 0.161s to execute the search.\n"
     ]
    },
    {
     "name": "stdout",
     "output_type": "stream",
     "text": [
      "query 43/100\n",
      "FILTERS ADDED ['Title', 'Tags']\n",
      "query 44/100\n",
      "FILTERS ADDED ['Title', 'Tags']\n"
     ]
    },
    {
     "name": "stderr",
     "output_type": "stream",
     "text": [
      "2023-02-21 19:39:19,390 logger:'marqo' INFO search (tensor): took 0.108s to send query and received 50 results from Marqo (roundtrip). Marqo itself took 0.103s to execute the search.\n",
      "2023-02-21 19:39:19 [INFO] index: search (tensor): took 0.108s to send query and received 50 results from Marqo (roundtrip). Marqo itself took 0.103s to execute the search.\n",
      "2023-02-21 19:39:19,524 logger:'marqo' INFO search (tensor): took 0.132s to send query and received 50 results from Marqo (roundtrip). Marqo itself took 0.127s to execute the search.\n",
      "2023-02-21 19:39:19 [INFO] index: search (tensor): took 0.132s to send query and received 50 results from Marqo (roundtrip). Marqo itself took 0.127s to execute the search.\n"
     ]
    },
    {
     "name": "stdout",
     "output_type": "stream",
     "text": [
      "query 45/100\n",
      "FILTERS ADDED ['Title', 'Tags']\n",
      "query 46/100\n",
      "FILTERS ADDED ['Title', 'Tags']\n"
     ]
    },
    {
     "name": "stderr",
     "output_type": "stream",
     "text": [
      "2023-02-21 19:39:19,707 logger:'marqo' INFO search (tensor): took 0.182s to send query and received 50 results from Marqo (roundtrip). Marqo itself took 0.176s to execute the search.\n",
      "2023-02-21 19:39:19 [INFO] index: search (tensor): took 0.182s to send query and received 50 results from Marqo (roundtrip). Marqo itself took 0.176s to execute the search.\n",
      "2023-02-21 19:39:19,831 logger:'marqo' INFO search (tensor): took 0.122s to send query and received 50 results from Marqo (roundtrip). Marqo itself took 0.118s to execute the search.\n",
      "2023-02-21 19:39:19 [INFO] index: search (tensor): took 0.122s to send query and received 50 results from Marqo (roundtrip). Marqo itself took 0.118s to execute the search.\n"
     ]
    },
    {
     "name": "stdout",
     "output_type": "stream",
     "text": [
      "query 47/100\n",
      "FILTERS ADDED ['Title', 'Tags']\n",
      "query 48/100\n",
      "FILTERS ADDED ['Title', 'Tags']\n"
     ]
    },
    {
     "name": "stderr",
     "output_type": "stream",
     "text": [
      "2023-02-21 19:39:19,946 logger:'marqo' INFO search (tensor): took 0.114s to send query and received 50 results from Marqo (roundtrip). Marqo itself took 0.109s to execute the search.\n",
      "2023-02-21 19:39:19 [INFO] index: search (tensor): took 0.114s to send query and received 50 results from Marqo (roundtrip). Marqo itself took 0.109s to execute the search.\n",
      "2023-02-21 19:39:20,064 logger:'marqo' INFO search (tensor): took 0.116s to send query and received 50 results from Marqo (roundtrip). Marqo itself took 0.111s to execute the search.\n",
      "2023-02-21 19:39:20 [INFO] index: search (tensor): took 0.116s to send query and received 50 results from Marqo (roundtrip). Marqo itself took 0.111s to execute the search.\n"
     ]
    },
    {
     "name": "stdout",
     "output_type": "stream",
     "text": [
      "query 49/100\n",
      "FILTERS ADDED ['Title', 'Tags']\n",
      "query 50/100\n",
      "FILTERS ADDED ['Title', 'Tags']\n"
     ]
    },
    {
     "name": "stderr",
     "output_type": "stream",
     "text": [
      "2023-02-21 19:39:20,209 logger:'marqo' INFO search (tensor): took 0.144s to send query and received 50 results from Marqo (roundtrip). Marqo itself took 0.138s to execute the search.\n",
      "2023-02-21 19:39:20 [INFO] index: search (tensor): took 0.144s to send query and received 50 results from Marqo (roundtrip). Marqo itself took 0.138s to execute the search.\n",
      "2023-02-21 19:39:20,396 logger:'marqo' INFO search (tensor): took 0.185s to send query and received 50 results from Marqo (roundtrip). Marqo itself took 0.179s to execute the search.\n",
      "2023-02-21 19:39:20 [INFO] index: search (tensor): took 0.185s to send query and received 50 results from Marqo (roundtrip). Marqo itself took 0.179s to execute the search.\n"
     ]
    },
    {
     "name": "stdout",
     "output_type": "stream",
     "text": [
      "query 51/100\n",
      "FILTERS ADDED ['Title', 'Tags']\n",
      "query 52/100\n",
      "FILTERS ADDED ['Title', 'Tags']\n"
     ]
    },
    {
     "name": "stderr",
     "output_type": "stream",
     "text": [
      "2023-02-21 19:39:20,505 logger:'marqo' INFO search (tensor): took 0.108s to send query and received 50 results from Marqo (roundtrip). Marqo itself took 0.103s to execute the search.\n",
      "2023-02-21 19:39:20 [INFO] index: search (tensor): took 0.108s to send query and received 50 results from Marqo (roundtrip). Marqo itself took 0.103s to execute the search.\n",
      "2023-02-21 19:39:20,629 logger:'marqo' INFO search (tensor): took 0.123s to send query and received 50 results from Marqo (roundtrip). Marqo itself took 0.118s to execute the search.\n",
      "2023-02-21 19:39:20 [INFO] index: search (tensor): took 0.123s to send query and received 50 results from Marqo (roundtrip). Marqo itself took 0.118s to execute the search.\n"
     ]
    },
    {
     "name": "stdout",
     "output_type": "stream",
     "text": [
      "query 53/100\n",
      "FILTERS ADDED ['Title', 'Tags']\n",
      "query 54/100\n",
      "FILTERS ADDED ['Title', 'Tags']\n"
     ]
    },
    {
     "name": "stderr",
     "output_type": "stream",
     "text": [
      "2023-02-21 19:39:20,763 logger:'marqo' INFO search (tensor): took 0.132s to send query and received 50 results from Marqo (roundtrip). Marqo itself took 0.127s to execute the search.\n",
      "2023-02-21 19:39:20 [INFO] index: search (tensor): took 0.132s to send query and received 50 results from Marqo (roundtrip). Marqo itself took 0.127s to execute the search.\n",
      "2023-02-21 19:39:20,902 logger:'marqo' INFO search (tensor): took 0.138s to send query and received 50 results from Marqo (roundtrip). Marqo itself took 0.132s to execute the search.\n",
      "2023-02-21 19:39:20 [INFO] index: search (tensor): took 0.138s to send query and received 50 results from Marqo (roundtrip). Marqo itself took 0.132s to execute the search.\n"
     ]
    },
    {
     "name": "stdout",
     "output_type": "stream",
     "text": [
      "query 55/100\n",
      "FILTERS ADDED ['Title', 'Tags']\n",
      "query 56/100\n",
      "FILTERS ADDED ['Title', 'Tags']\n"
     ]
    },
    {
     "name": "stderr",
     "output_type": "stream",
     "text": [
      "2023-02-21 19:39:21,059 logger:'marqo' INFO search (tensor): took 0.155s to send query and received 50 results from Marqo (roundtrip). Marqo itself took 0.150s to execute the search.\n",
      "2023-02-21 19:39:21 [INFO] index: search (tensor): took 0.155s to send query and received 50 results from Marqo (roundtrip). Marqo itself took 0.150s to execute the search.\n",
      "2023-02-21 19:39:21,172 logger:'marqo' INFO search (tensor): took 0.112s to send query and received 50 results from Marqo (roundtrip). Marqo itself took 0.107s to execute the search.\n",
      "2023-02-21 19:39:21 [INFO] index: search (tensor): took 0.112s to send query and received 50 results from Marqo (roundtrip). Marqo itself took 0.107s to execute the search.\n"
     ]
    },
    {
     "name": "stdout",
     "output_type": "stream",
     "text": [
      "query 57/100\n",
      "FILTERS ADDED ['Title', 'Tags']\n",
      "query 58/100\n",
      "FILTERS ADDED ['Title', 'Tags']\n"
     ]
    },
    {
     "name": "stderr",
     "output_type": "stream",
     "text": [
      "2023-02-21 19:39:21,296 logger:'marqo' INFO search (tensor): took 0.122s to send query and received 50 results from Marqo (roundtrip). Marqo itself took 0.117s to execute the search.\n",
      "2023-02-21 19:39:21 [INFO] index: search (tensor): took 0.122s to send query and received 50 results from Marqo (roundtrip). Marqo itself took 0.117s to execute the search.\n",
      "2023-02-21 19:39:21,414 logger:'marqo' INFO search (tensor): took 0.117s to send query and received 50 results from Marqo (roundtrip). Marqo itself took 0.112s to execute the search.\n",
      "2023-02-21 19:39:21 [INFO] index: search (tensor): took 0.117s to send query and received 50 results from Marqo (roundtrip). Marqo itself took 0.112s to execute the search.\n"
     ]
    },
    {
     "name": "stdout",
     "output_type": "stream",
     "text": [
      "query 59/100\n",
      "FILTERS ADDED ['Title', 'Tags']\n",
      "query 60/100\n",
      "FILTERS ADDED ['Title', 'Tags']\n"
     ]
    },
    {
     "name": "stderr",
     "output_type": "stream",
     "text": [
      "2023-02-21 19:39:21,530 logger:'marqo' INFO search (tensor): took 0.115s to send query and received 50 results from Marqo (roundtrip). Marqo itself took 0.110s to execute the search.\n",
      "2023-02-21 19:39:21 [INFO] index: search (tensor): took 0.115s to send query and received 50 results from Marqo (roundtrip). Marqo itself took 0.110s to execute the search.\n",
      "2023-02-21 19:39:21,654 logger:'marqo' INFO search (tensor): took 0.122s to send query and received 50 results from Marqo (roundtrip). Marqo itself took 0.117s to execute the search.\n",
      "2023-02-21 19:39:21 [INFO] index: search (tensor): took 0.122s to send query and received 50 results from Marqo (roundtrip). Marqo itself took 0.117s to execute the search.\n"
     ]
    },
    {
     "name": "stdout",
     "output_type": "stream",
     "text": [
      "query 61/100\n",
      "FILTERS ADDED ['Title', 'Tags']\n",
      "query 62/100\n",
      "FILTERS ADDED ['Title', 'Tags']\n"
     ]
    },
    {
     "name": "stderr",
     "output_type": "stream",
     "text": [
      "2023-02-21 19:39:21,768 logger:'marqo' INFO search (tensor): took 0.113s to send query and received 50 results from Marqo (roundtrip). Marqo itself took 0.108s to execute the search.\n",
      "2023-02-21 19:39:21 [INFO] index: search (tensor): took 0.113s to send query and received 50 results from Marqo (roundtrip). Marqo itself took 0.108s to execute the search.\n",
      "2023-02-21 19:39:21,907 logger:'marqo' INFO search (tensor): took 0.137s to send query and received 50 results from Marqo (roundtrip). Marqo itself took 0.132s to execute the search.\n",
      "2023-02-21 19:39:21 [INFO] index: search (tensor): took 0.137s to send query and received 50 results from Marqo (roundtrip). Marqo itself took 0.132s to execute the search.\n"
     ]
    },
    {
     "name": "stdout",
     "output_type": "stream",
     "text": [
      "query 63/100\n",
      "FILTERS ADDED ['Title', 'Tags']\n",
      "query 64/100\n",
      "FILTERS ADDED ['Title', 'Tags']\n"
     ]
    },
    {
     "name": "stderr",
     "output_type": "stream",
     "text": [
      "2023-02-21 19:39:22,037 logger:'marqo' INFO search (tensor): took 0.128s to send query and received 50 results from Marqo (roundtrip). Marqo itself took 0.123s to execute the search.\n",
      "2023-02-21 19:39:22 [INFO] index: search (tensor): took 0.128s to send query and received 50 results from Marqo (roundtrip). Marqo itself took 0.123s to execute the search.\n",
      "2023-02-21 19:39:22,143 logger:'marqo' INFO search (tensor): took 0.105s to send query and received 50 results from Marqo (roundtrip). Marqo itself took 0.100s to execute the search.\n",
      "2023-02-21 19:39:22 [INFO] index: search (tensor): took 0.105s to send query and received 50 results from Marqo (roundtrip). Marqo itself took 0.100s to execute the search.\n"
     ]
    },
    {
     "name": "stdout",
     "output_type": "stream",
     "text": [
      "query 65/100\n",
      "FILTERS ADDED ['Title', 'Tags']\n",
      "query 66/100\n",
      "FILTERS ADDED ['Title', 'Tags']\n"
     ]
    },
    {
     "name": "stderr",
     "output_type": "stream",
     "text": [
      "2023-02-21 19:39:22,274 logger:'marqo' INFO search (tensor): took 0.130s to send query and received 50 results from Marqo (roundtrip). Marqo itself took 0.125s to execute the search.\n",
      "2023-02-21 19:39:22 [INFO] index: search (tensor): took 0.130s to send query and received 50 results from Marqo (roundtrip). Marqo itself took 0.125s to execute the search.\n",
      "2023-02-21 19:39:22,447 logger:'marqo' INFO search (tensor): took 0.171s to send query and received 50 results from Marqo (roundtrip). Marqo itself took 0.166s to execute the search.\n",
      "2023-02-21 19:39:22 [INFO] index: search (tensor): took 0.171s to send query and received 50 results from Marqo (roundtrip). Marqo itself took 0.166s to execute the search.\n"
     ]
    },
    {
     "name": "stdout",
     "output_type": "stream",
     "text": [
      "query 67/100\n",
      "FILTERS ADDED ['Title', 'Tags']\n",
      "query 68/100\n",
      "FILTERS ADDED ['Title', 'Tags']\n"
     ]
    },
    {
     "name": "stderr",
     "output_type": "stream",
     "text": [
      "2023-02-21 19:39:22,577 logger:'marqo' INFO search (tensor): took 0.129s to send query and received 50 results from Marqo (roundtrip). Marqo itself took 0.124s to execute the search.\n",
      "2023-02-21 19:39:22 [INFO] index: search (tensor): took 0.129s to send query and received 50 results from Marqo (roundtrip). Marqo itself took 0.124s to execute the search.\n",
      "2023-02-21 19:39:22,681 logger:'marqo' INFO search (tensor): took 0.103s to send query and received 50 results from Marqo (roundtrip). Marqo itself took 0.097s to execute the search.\n",
      "2023-02-21 19:39:22 [INFO] index: search (tensor): took 0.103s to send query and received 50 results from Marqo (roundtrip). Marqo itself took 0.097s to execute the search.\n"
     ]
    },
    {
     "name": "stdout",
     "output_type": "stream",
     "text": [
      "query 69/100\n",
      "FILTERS ADDED ['Title', 'Tags']\n",
      "query 70/100\n",
      "FILTERS ADDED ['Title', 'Tags']\n"
     ]
    },
    {
     "name": "stderr",
     "output_type": "stream",
     "text": [
      "2023-02-21 19:39:22,807 logger:'marqo' INFO search (tensor): took 0.124s to send query and received 50 results from Marqo (roundtrip). Marqo itself took 0.118s to execute the search.\n",
      "2023-02-21 19:39:22 [INFO] index: search (tensor): took 0.124s to send query and received 50 results from Marqo (roundtrip). Marqo itself took 0.118s to execute the search.\n",
      "2023-02-21 19:39:22,932 logger:'marqo' INFO search (tensor): took 0.124s to send query and received 50 results from Marqo (roundtrip). Marqo itself took 0.118s to execute the search.\n",
      "2023-02-21 19:39:22 [INFO] index: search (tensor): took 0.124s to send query and received 50 results from Marqo (roundtrip). Marqo itself took 0.118s to execute the search.\n"
     ]
    },
    {
     "name": "stdout",
     "output_type": "stream",
     "text": [
      "query 71/100\n",
      "FILTERS ADDED ['Title', 'Tags']\n",
      "query 72/100\n",
      "FILTERS ADDED ['Title', 'Tags']\n"
     ]
    },
    {
     "name": "stderr",
     "output_type": "stream",
     "text": [
      "2023-02-21 19:39:23,094 logger:'marqo' INFO search (tensor): took 0.160s to send query and received 50 results from Marqo (roundtrip). Marqo itself took 0.155s to execute the search.\n",
      "2023-02-21 19:39:23 [INFO] index: search (tensor): took 0.160s to send query and received 50 results from Marqo (roundtrip). Marqo itself took 0.155s to execute the search.\n",
      "2023-02-21 19:39:23,218 logger:'marqo' INFO search (tensor): took 0.123s to send query and received 50 results from Marqo (roundtrip). Marqo itself took 0.118s to execute the search.\n",
      "2023-02-21 19:39:23 [INFO] index: search (tensor): took 0.123s to send query and received 50 results from Marqo (roundtrip). Marqo itself took 0.118s to execute the search.\n"
     ]
    },
    {
     "name": "stdout",
     "output_type": "stream",
     "text": [
      "query 73/100\n",
      "FILTERS ADDED ['Title', 'Tags']\n",
      "query 74/100\n",
      "FILTERS ADDED ['Title', 'Tags']\n"
     ]
    },
    {
     "name": "stderr",
     "output_type": "stream",
     "text": [
      "2023-02-21 19:39:23,346 logger:'marqo' INFO search (tensor): took 0.127s to send query and received 50 results from Marqo (roundtrip). Marqo itself took 0.122s to execute the search.\n",
      "2023-02-21 19:39:23 [INFO] index: search (tensor): took 0.127s to send query and received 50 results from Marqo (roundtrip). Marqo itself took 0.122s to execute the search.\n",
      "2023-02-21 19:39:23,468 logger:'marqo' INFO search (tensor): took 0.120s to send query and received 50 results from Marqo (roundtrip). Marqo itself took 0.115s to execute the search.\n",
      "2023-02-21 19:39:23 [INFO] index: search (tensor): took 0.120s to send query and received 50 results from Marqo (roundtrip). Marqo itself took 0.115s to execute the search.\n"
     ]
    },
    {
     "name": "stdout",
     "output_type": "stream",
     "text": [
      "query 75/100\n",
      "FILTERS ADDED ['Title', 'Tags']\n",
      "query 76/100\n",
      "FILTERS ADDED ['Title', 'Tags']\n"
     ]
    },
    {
     "name": "stderr",
     "output_type": "stream",
     "text": [
      "2023-02-21 19:39:23,594 logger:'marqo' INFO search (tensor): took 0.125s to send query and received 50 results from Marqo (roundtrip). Marqo itself took 0.119s to execute the search.\n",
      "2023-02-21 19:39:23 [INFO] index: search (tensor): took 0.125s to send query and received 50 results from Marqo (roundtrip). Marqo itself took 0.119s to execute the search.\n",
      "2023-02-21 19:39:23,710 logger:'marqo' INFO search (tensor): took 0.114s to send query and received 50 results from Marqo (roundtrip). Marqo itself took 0.109s to execute the search.\n",
      "2023-02-21 19:39:23 [INFO] index: search (tensor): took 0.114s to send query and received 50 results from Marqo (roundtrip). Marqo itself took 0.109s to execute the search.\n"
     ]
    },
    {
     "name": "stdout",
     "output_type": "stream",
     "text": [
      "query 77/100\n",
      "FILTERS ADDED ['Title', 'Tags']\n",
      "query 78/100\n",
      "FILTERS ADDED ['Title', 'Tags']\n"
     ]
    },
    {
     "name": "stderr",
     "output_type": "stream",
     "text": [
      "2023-02-21 19:39:23,827 logger:'marqo' INFO search (tensor): took 0.115s to send query and received 50 results from Marqo (roundtrip). Marqo itself took 0.109s to execute the search.\n",
      "2023-02-21 19:39:23 [INFO] index: search (tensor): took 0.115s to send query and received 50 results from Marqo (roundtrip). Marqo itself took 0.109s to execute the search.\n",
      "2023-02-21 19:39:23,977 logger:'marqo' INFO search (tensor): took 0.149s to send query and received 50 results from Marqo (roundtrip). Marqo itself took 0.143s to execute the search.\n",
      "2023-02-21 19:39:23 [INFO] index: search (tensor): took 0.149s to send query and received 50 results from Marqo (roundtrip). Marqo itself took 0.143s to execute the search.\n"
     ]
    },
    {
     "name": "stdout",
     "output_type": "stream",
     "text": [
      "query 79/100\n",
      "FILTERS ADDED ['Title', 'Tags']\n",
      "query 80/100\n",
      "FILTERS ADDED ['Title', 'Tags']\n"
     ]
    },
    {
     "name": "stderr",
     "output_type": "stream",
     "text": [
      "2023-02-21 19:39:24,134 logger:'marqo' INFO search (tensor): took 0.155s to send query and received 50 results from Marqo (roundtrip). Marqo itself took 0.150s to execute the search.\n",
      "2023-02-21 19:39:24 [INFO] index: search (tensor): took 0.155s to send query and received 50 results from Marqo (roundtrip). Marqo itself took 0.150s to execute the search.\n",
      "2023-02-21 19:39:24,245 logger:'marqo' INFO search (tensor): took 0.109s to send query and received 50 results from Marqo (roundtrip). Marqo itself took 0.104s to execute the search.\n",
      "2023-02-21 19:39:24 [INFO] index: search (tensor): took 0.109s to send query and received 50 results from Marqo (roundtrip). Marqo itself took 0.104s to execute the search.\n"
     ]
    },
    {
     "name": "stdout",
     "output_type": "stream",
     "text": [
      "query 81/100\n",
      "FILTERS ADDED ['Title', 'Tags']\n",
      "query 82/100\n",
      "FILTERS ADDED ['Title', 'Tags']\n"
     ]
    },
    {
     "name": "stderr",
     "output_type": "stream",
     "text": [
      "2023-02-21 19:39:24,366 logger:'marqo' INFO search (tensor): took 0.120s to send query and received 50 results from Marqo (roundtrip). Marqo itself took 0.114s to execute the search.\n",
      "2023-02-21 19:39:24 [INFO] index: search (tensor): took 0.120s to send query and received 50 results from Marqo (roundtrip). Marqo itself took 0.114s to execute the search.\n",
      "2023-02-21 19:39:24,490 logger:'marqo' INFO search (tensor): took 0.122s to send query and received 50 results from Marqo (roundtrip). Marqo itself took 0.116s to execute the search.\n",
      "2023-02-21 19:39:24 [INFO] index: search (tensor): took 0.122s to send query and received 50 results from Marqo (roundtrip). Marqo itself took 0.116s to execute the search.\n"
     ]
    },
    {
     "name": "stdout",
     "output_type": "stream",
     "text": [
      "query 83/100\n",
      "FILTERS ADDED ['Title', 'Tags']\n",
      "query 84/100\n",
      "FILTERS ADDED ['Title', 'Tags']\n"
     ]
    },
    {
     "name": "stderr",
     "output_type": "stream",
     "text": [
      "2023-02-21 19:39:24,608 logger:'marqo' INFO search (tensor): took 0.116s to send query and received 50 results from Marqo (roundtrip). Marqo itself took 0.112s to execute the search.\n",
      "2023-02-21 19:39:24 [INFO] index: search (tensor): took 0.116s to send query and received 50 results from Marqo (roundtrip). Marqo itself took 0.112s to execute the search.\n",
      "2023-02-21 19:39:24,793 logger:'marqo' INFO search (tensor): took 0.184s to send query and received 50 results from Marqo (roundtrip). Marqo itself took 0.179s to execute the search.\n",
      "2023-02-21 19:39:24 [INFO] index: search (tensor): took 0.184s to send query and received 50 results from Marqo (roundtrip). Marqo itself took 0.179s to execute the search.\n"
     ]
    },
    {
     "name": "stdout",
     "output_type": "stream",
     "text": [
      "query 85/100\n",
      "FILTERS ADDED ['Title', 'Tags']\n",
      "query 86/100\n",
      "FILTERS ADDED ['Title', 'Tags']\n"
     ]
    },
    {
     "name": "stderr",
     "output_type": "stream",
     "text": [
      "2023-02-21 19:39:24,898 logger:'marqo' INFO search (tensor): took 0.104s to send query and received 50 results from Marqo (roundtrip). Marqo itself took 0.099s to execute the search.\n",
      "2023-02-21 19:39:24 [INFO] index: search (tensor): took 0.104s to send query and received 50 results from Marqo (roundtrip). Marqo itself took 0.099s to execute the search.\n",
      "2023-02-21 19:39:25,056 logger:'marqo' INFO search (tensor): took 0.157s to send query and received 50 results from Marqo (roundtrip). Marqo itself took 0.151s to execute the search.\n",
      "2023-02-21 19:39:25 [INFO] index: search (tensor): took 0.157s to send query and received 50 results from Marqo (roundtrip). Marqo itself took 0.151s to execute the search.\n"
     ]
    },
    {
     "name": "stdout",
     "output_type": "stream",
     "text": [
      "query 87/100\n",
      "FILTERS ADDED ['Title', 'Tags']\n",
      "query 88/100\n",
      "FILTERS ADDED ['Title', 'Tags']\n"
     ]
    },
    {
     "name": "stderr",
     "output_type": "stream",
     "text": [
      "2023-02-21 19:39:25,188 logger:'marqo' INFO search (tensor): took 0.130s to send query and received 50 results from Marqo (roundtrip). Marqo itself took 0.125s to execute the search.\n",
      "2023-02-21 19:39:25 [INFO] index: search (tensor): took 0.130s to send query and received 50 results from Marqo (roundtrip). Marqo itself took 0.125s to execute the search.\n",
      "2023-02-21 19:39:25,319 logger:'marqo' INFO search (tensor): took 0.129s to send query and received 50 results from Marqo (roundtrip). Marqo itself took 0.124s to execute the search.\n",
      "2023-02-21 19:39:25 [INFO] index: search (tensor): took 0.129s to send query and received 50 results from Marqo (roundtrip). Marqo itself took 0.124s to execute the search.\n"
     ]
    },
    {
     "name": "stdout",
     "output_type": "stream",
     "text": [
      "query 89/100\n",
      "FILTERS ADDED ['Title', 'Tags']\n",
      "query 90/100\n",
      "FILTERS ADDED ['Title', 'Tags']\n"
     ]
    },
    {
     "name": "stderr",
     "output_type": "stream",
     "text": [
      "2023-02-21 19:39:25,434 logger:'marqo' INFO search (tensor): took 0.114s to send query and received 50 results from Marqo (roundtrip). Marqo itself took 0.109s to execute the search.\n",
      "2023-02-21 19:39:25 [INFO] index: search (tensor): took 0.114s to send query and received 50 results from Marqo (roundtrip). Marqo itself took 0.109s to execute the search.\n",
      "2023-02-21 19:39:25,557 logger:'marqo' INFO search (tensor): took 0.121s to send query and received 50 results from Marqo (roundtrip). Marqo itself took 0.117s to execute the search.\n",
      "2023-02-21 19:39:25 [INFO] index: search (tensor): took 0.121s to send query and received 50 results from Marqo (roundtrip). Marqo itself took 0.117s to execute the search.\n"
     ]
    },
    {
     "name": "stdout",
     "output_type": "stream",
     "text": [
      "query 91/100\n",
      "FILTERS ADDED ['Title', 'Tags']\n",
      "query 92/100\n",
      "FILTERS ADDED ['Title', 'Tags']\n"
     ]
    },
    {
     "name": "stderr",
     "output_type": "stream",
     "text": [
      "2023-02-21 19:39:25,750 logger:'marqo' INFO search (tensor): took 0.192s to send query and received 50 results from Marqo (roundtrip). Marqo itself took 0.187s to execute the search.\n",
      "2023-02-21 19:39:25 [INFO] index: search (tensor): took 0.192s to send query and received 50 results from Marqo (roundtrip). Marqo itself took 0.187s to execute the search.\n",
      "2023-02-21 19:39:25,871 logger:'marqo' INFO search (tensor): took 0.119s to send query and received 50 results from Marqo (roundtrip). Marqo itself took 0.114s to execute the search.\n",
      "2023-02-21 19:39:25 [INFO] index: search (tensor): took 0.119s to send query and received 50 results from Marqo (roundtrip). Marqo itself took 0.114s to execute the search.\n"
     ]
    },
    {
     "name": "stdout",
     "output_type": "stream",
     "text": [
      "query 93/100\n",
      "FILTERS ADDED ['Title', 'Tags']\n",
      "query 94/100\n",
      "FILTERS ADDED ['Title', 'Tags']\n"
     ]
    },
    {
     "name": "stderr",
     "output_type": "stream",
     "text": [
      "2023-02-21 19:39:25,980 logger:'marqo' INFO search (tensor): took 0.108s to send query and received 50 results from Marqo (roundtrip). Marqo itself took 0.103s to execute the search.\n",
      "2023-02-21 19:39:25 [INFO] index: search (tensor): took 0.108s to send query and received 50 results from Marqo (roundtrip). Marqo itself took 0.103s to execute the search.\n",
      "2023-02-21 19:39:26,118 logger:'marqo' INFO search (tensor): took 0.137s to send query and received 50 results from Marqo (roundtrip). Marqo itself took 0.132s to execute the search.\n",
      "2023-02-21 19:39:26 [INFO] index: search (tensor): took 0.137s to send query and received 50 results from Marqo (roundtrip). Marqo itself took 0.132s to execute the search.\n"
     ]
    },
    {
     "name": "stdout",
     "output_type": "stream",
     "text": [
      "query 95/100\n",
      "FILTERS ADDED ['Title', 'Tags']\n",
      "query 96/100\n",
      "FILTERS ADDED ['Title', 'Tags']\n"
     ]
    },
    {
     "name": "stderr",
     "output_type": "stream",
     "text": [
      "2023-02-21 19:39:26,252 logger:'marqo' INFO search (tensor): took 0.132s to send query and received 50 results from Marqo (roundtrip). Marqo itself took 0.126s to execute the search.\n",
      "2023-02-21 19:39:26 [INFO] index: search (tensor): took 0.132s to send query and received 50 results from Marqo (roundtrip). Marqo itself took 0.126s to execute the search.\n",
      "2023-02-21 19:39:26,362 logger:'marqo' INFO search (tensor): took 0.108s to send query and received 50 results from Marqo (roundtrip). Marqo itself took 0.103s to execute the search.\n",
      "2023-02-21 19:39:26 [INFO] index: search (tensor): took 0.108s to send query and received 50 results from Marqo (roundtrip). Marqo itself took 0.103s to execute the search.\n"
     ]
    },
    {
     "name": "stdout",
     "output_type": "stream",
     "text": [
      "query 97/100\n",
      "FILTERS ADDED ['Title', 'Tags']\n",
      "query 98/100\n",
      "FILTERS ADDED ['Title', 'Tags']\n"
     ]
    },
    {
     "name": "stderr",
     "output_type": "stream",
     "text": [
      "2023-02-21 19:39:26,487 logger:'marqo' INFO search (tensor): took 0.124s to send query and received 50 results from Marqo (roundtrip). Marqo itself took 0.119s to execute the search.\n",
      "2023-02-21 19:39:26 [INFO] index: search (tensor): took 0.124s to send query and received 50 results from Marqo (roundtrip). Marqo itself took 0.119s to execute the search.\n",
      "2023-02-21 19:39:26,606 logger:'marqo' INFO search (tensor): took 0.118s to send query and received 50 results from Marqo (roundtrip). Marqo itself took 0.113s to execute the search.\n",
      "2023-02-21 19:39:26 [INFO] index: search (tensor): took 0.118s to send query and received 50 results from Marqo (roundtrip). Marqo itself took 0.113s to execute the search.\n"
     ]
    },
    {
     "name": "stdout",
     "output_type": "stream",
     "text": [
      "query 99/100\n",
      "FILTERS ADDED ['Title', 'Tags']\n",
      "Run file saved at /home/ubuntu/task-search-quality/measurements/diy/run_files/marqo-filters/Title-Tags.run\n"
     ]
    }
   ],
   "source": [
    "            # \"_id\": taskmap.taskmap_id,\n",
    "            # \"Title\": taskmap.title,\n",
    "            # \"Date\": taskmap.date,\n",
    "            # \"Steps\": self.__parse_steps(taskmap),\n",
    "            # \"Tags\": self.__parse_tags(taskmap),\n",
    "            # \"Requirements\": self.__parse_requirements(taskmap),\n",
    "            # \"Domain\": taskmap.domain_name,\n",
    "            # \"Description\": taskmap.description,\n",
    "from models_indexes.marqo_model import MarqoModel\n",
    "model = MarqoModel(domain = \"COOKING\", t5 = False)\n",
    "qs = queries[\"COOKING\"]\n",
    "\n",
    "# # model.convert_search_results_to_run(qs)\n",
    "# resp1 = model.search(\"pasta\")\n",
    "# resp2 = model.search(\"fix kitchen\",[\"Title\"])\n",
    "# resp2\n",
    "\n",
    "# model.convert_search_results_to_run_attributes(qs, filters=[\"Tags\"])\n",
    "# model.convert_search_results_to_run_attributes(qs, filters=[\"Tags\", \"Steps\"])\n",
    "# model.convert_search_results_to_run_attributes(qs, filters=[\"Tags\", \"Steps\", \"Title\"])\n",
    "model.convert_search_results_to_run_attributes(qs, filters=[ \"Title\", \"Steps\"])\n",
    "model.convert_search_results_to_run_attributes(qs, filters=[ \"Title\", \"Requirements\"])\n",
    "model.convert_search_results_to_run_attributes(qs, filters=[ \"Title\", \"Steps\" ,\"Requirements\"])\n",
    "model.convert_search_results_to_run_attributes(qs, filters=[ \"Steps\" ,\"Requirements\"])\n",
    "# model.convert_search_results_to_run_attributes(qs, filters=[\"Steps\"])\n",
    "# model.convert_search_results_to_run_attributes(qs, filters=[\"Steps\", \"Title\"])\n",
    "# model.convert_search_results_to_run_attributes(qs, filters=[\"Title\"])\n",
    "\n"
   ]
  },
  {
   "cell_type": "code",
   "execution_count": null,
   "metadata": {},
   "outputs": [],
   "source": [
    "from models_indexes.bm25_model import BM25Model\n",
    "\n",
    "model = BM25Model(domain = \"DIY\")\n",
    "\n",
    "model.search_best(\"clean bathroom\")"
   ]
  },
  {
   "cell_type": "code",
   "execution_count": null,
   "metadata": {},
   "outputs": [],
   "source": [
    "resp2\n",
    "# build indexes\n",
    "# print(\"Build indexes\")\n",
    "# for domain, index_models in models.items():\n",
    "#     for model_name, model in index_models.items():\n",
    "#         model.build_index()"
   ]
  },
  {
   "cell_type": "code",
   "execution_count": null,
   "metadata": {},
   "outputs": [],
   "source": [
    "# create run files\n",
    "print(\"Creating run files \")\n",
    "for domain, index_models in models.items():\n",
    "    qs = queries[domain]\n",
    "    print(f\"DOMAIN {domain}\")\n",
    "    for model_name, model in index_models.items():\n",
    "        model.convert_search_results_to_run(qs)"
   ]
  },
  {
   "cell_type": "code",
   "execution_count": null,
   "metadata": {},
   "outputs": [],
   "source": []
  }
 ],
 "metadata": {
  "kernelspec": {
   "display_name": "env",
   "language": "python",
   "name": "python3"
  },
  "language_info": {
   "codemirror_mode": {
    "name": "ipython",
    "version": 3
   },
   "file_extension": ".py",
   "mimetype": "text/x-python",
   "name": "python",
   "nbconvert_exporter": "python",
   "pygments_lexer": "ipython3",
   "version": "3.8.10"
  },
  "orig_nbformat": 4,
  "vscode": {
   "interpreter": {
    "hash": "e524aa708618ab8d8f753ac1f2022f3e8661ea3a5ed96feef0a7d789cff7a903"
   }
  }
 },
 "nbformat": 4,
 "nbformat_minor": 2
}
