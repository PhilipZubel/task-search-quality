{
 "cells": [
  {
   "cell_type": "code",
   "execution_count": null,
   "metadata": {},
   "outputs": [],
   "source": [
    "import os\n",
    "import sys\n",
    "\n",
    "sys.path.insert(0, './compiled_protobufs')\n",
    "\n",
    "from index_builder.pyserini_index_builder import PyseriniIndexBuilder\n",
    "from index_builder.abstract_index_builder import AbstractIndexBuilder\n"
   ]
  },
  {
   "cell_type": "code",
   "execution_count": null,
   "metadata": {},
   "outputs": [],
   "source": [
    "dataset_names = [\"seriouseats\", \"wikihow\"]\n",
    "dataset_paths = [os.path.join(os.getcwd(), \"bin\", dataset,\"taskmap\") for dataset in dataset_names]\n",
    "\n",
    "IndexBuilder = PyseriniIndexBuilder()\n",
    "output_temp_dir = os.path.join(os.getcwd(), \"temp\", \"system_index\")\n",
    "output_temp_dir_dense = os.path.join(os.getcwd(), \"temp\", \"system_index_dense\")\n",
    "output_index_dir = os.path.join(os.getcwd(), \"indexes\", \"system_index\")\n",
    "output_index_dir_dense = os.path.join(os.getcwd(), \"indexes\", \"system_index_dense\")"
   ]
  },
  {
   "cell_type": "code",
   "execution_count": null,
   "metadata": {},
   "outputs": [],
   "source": [
    "for taskmap_dir, dataset_name in zip(dataset_paths, dataset_names):\n",
    "    IndexBuilder.build_json_docs(input_dir=taskmap_dir,\n",
    "                                    output_dir=output_temp_dir,\n",
    "                                    dataset_name=dataset_name)\n",
    "\n",
    "    IndexBuilder.build_json_docs_dense(input_dir=taskmap_dir,\n",
    "                                        output_dir=output_temp_dir_dense,\n",
    "                                        dataset_name=dataset_name)\n",
    "        \n",
    "# Generate index.\n",
    "IndexBuilder.build_index(input_dir=output_temp_dir,\n",
    "                                    output_dir=output_index_dir)\n",
    "# Generate Dense index.\n",
    "IndexBuilder.build_index_dense(input_dir=output_temp_dir_dense,\n",
    "                                output_dir=output_index_dir_dense)\n",
    " "
   ]
  }
 ],
 "metadata": {
  "language_info": {
   "name": "python"
  },
  "orig_nbformat": 4
 },
 "nbformat": 4,
 "nbformat_minor": 2
}
