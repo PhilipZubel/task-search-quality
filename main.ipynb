{
 "cells": [
  {
   "cell_type": "code",
   "execution_count": 1,
   "metadata": {},
   "outputs": [],
   "source": [
    "import sys\n",
    "\n",
    "sys.path.insert(0, 'compiled_protobufs')"
   ]
  },
  {
   "cell_type": "code",
   "execution_count": null,
   "metadata": {},
   "outputs": [],
   "source": [
    "# import IPython\n",
    "# import sys\n",
    "# from pygaggle.rerank.transformer import MonoT5\n",
    "# !{sys.executable} -m pip install -r pygaggle/requirements.txt\n",
    "# IPython.Application.instance().kernel.do_shutdown(True)  "
   ]
  },
  {
   "cell_type": "code",
   "execution_count": null,
   "metadata": {},
   "outputs": [],
   "source": [
    "# \"\"\" Generate Taskgraphs from datasets \"\"\"\n",
    "\n",
    "# from models_datasets.recipe_1m_model import AbstractModelDataset\n",
    "# from models_datasets.recipe_1m_model import Recipe1MModel\n",
    "# from models_datasets.wikihow_model import WikihowModel\n",
    "\n",
    "# dataset_models = {\n",
    "#     \"COOKING\" : Recipe1MModel,\n",
    "#     \"DIY\": WikihowModel,\n",
    "# }\n",
    "\n",
    "# for model_name, model in dataset_models.items():\n",
    "#     dataset_model: AbstractModelDataset = model()\n",
    "#     print(f\"Dataset Model: {model_name}\")\n",
    "#     dataset_model.convert_to_taskgraphs()"
   ]
  },
  {
   "cell_type": "code",
   "execution_count": 3,
   "metadata": {},
   "outputs": [
    {
     "data": {
      "text/html": [
       "<div>\n",
       "<style scoped>\n",
       "    .dataframe tbody tr th:only-of-type {\n",
       "        vertical-align: middle;\n",
       "    }\n",
       "\n",
       "    .dataframe tbody tr th {\n",
       "        vertical-align: top;\n",
       "    }\n",
       "\n",
       "    .dataframe thead th {\n",
       "        text-align: right;\n",
       "    }\n",
       "</style>\n",
       "<table border=\"1\" class=\"dataframe\">\n",
       "  <thead>\n",
       "    <tr style=\"text-align: right;\">\n",
       "      <th></th>\n",
       "      <th>id</th>\n",
       "      <th>raw query</th>\n",
       "      <th>domain</th>\n",
       "      <th>knowledge</th>\n",
       "      <th>complex</th>\n",
       "      <th>many points of view</th>\n",
       "      <th>different key entities</th>\n",
       "      <th>seasonal</th>\n",
       "      <th>regional</th>\n",
       "      <th>target query</th>\n",
       "      <th>short query</th>\n",
       "    </tr>\n",
       "  </thead>\n",
       "  <tbody>\n",
       "    <tr>\n",
       "      <th>0</th>\n",
       "      <td>query-0</td>\n",
       "      <td>how to spatchcock a turkey</td>\n",
       "      <td>cooking</td>\n",
       "      <td>n</td>\n",
       "      <td>y</td>\n",
       "      <td>n</td>\n",
       "      <td>n</td>\n",
       "      <td>y</td>\n",
       "      <td>usa</td>\n",
       "      <td>spatchcock turkey</td>\n",
       "      <td>spatchcock a turkey</td>\n",
       "    </tr>\n",
       "    <tr>\n",
       "      <th>1</th>\n",
       "      <td>query-1</td>\n",
       "      <td>I want an easy to make dessert for christmas</td>\n",
       "      <td>cooking</td>\n",
       "      <td>n</td>\n",
       "      <td>y</td>\n",
       "      <td>y</td>\n",
       "      <td>n</td>\n",
       "      <td>y</td>\n",
       "      <td>-</td>\n",
       "      <td>easi dessert christma</td>\n",
       "      <td>easy to make dessert for christmas</td>\n",
       "    </tr>\n",
       "    <tr>\n",
       "      <th>2</th>\n",
       "      <td>query-2</td>\n",
       "      <td>any recommendations for a gluten free appetizer</td>\n",
       "      <td>cooking</td>\n",
       "      <td>y</td>\n",
       "      <td>n</td>\n",
       "      <td>y</td>\n",
       "      <td>y</td>\n",
       "      <td>n</td>\n",
       "      <td>-</td>\n",
       "      <td>gluten free appet</td>\n",
       "      <td>gluten free appetizer</td>\n",
       "    </tr>\n",
       "    <tr>\n",
       "      <th>3</th>\n",
       "      <td>query-3</td>\n",
       "      <td>how to make a green goddess salad</td>\n",
       "      <td>cooking</td>\n",
       "      <td>y</td>\n",
       "      <td>y</td>\n",
       "      <td>n</td>\n",
       "      <td>y</td>\n",
       "      <td>n</td>\n",
       "      <td>usa</td>\n",
       "      <td>green goddess salad</td>\n",
       "      <td>green goddess salad</td>\n",
       "    </tr>\n",
       "    <tr>\n",
       "      <th>4</th>\n",
       "      <td>query-4</td>\n",
       "      <td>how to make a classic english trifle</td>\n",
       "      <td>cooking</td>\n",
       "      <td>y</td>\n",
       "      <td>n</td>\n",
       "      <td>n</td>\n",
       "      <td>y</td>\n",
       "      <td>y</td>\n",
       "      <td>uk</td>\n",
       "      <td>classic english trifl</td>\n",
       "      <td>classic english trifle</td>\n",
       "    </tr>\n",
       "  </tbody>\n",
       "</table>\n",
       "</div>"
      ],
      "text/plain": [
       "        id                                        raw query   domain  \\\n",
       "0  query-0                       how to spatchcock a turkey  cooking   \n",
       "1  query-1     I want an easy to make dessert for christmas  cooking   \n",
       "2  query-2  any recommendations for a gluten free appetizer  cooking   \n",
       "3  query-3                how to make a green goddess salad  cooking   \n",
       "4  query-4             how to make a classic english trifle  cooking   \n",
       "\n",
       "  knowledge complex many points of view different key entities seasonal  \\\n",
       "0         n       y                   n                      n        y   \n",
       "1         n       y                   y                      n        y   \n",
       "2         y       n                   y                      y        n   \n",
       "3         y       y                   n                      y        n   \n",
       "4         y       n                   n                      y        y   \n",
       "\n",
       "  regional           target query                         short query  \n",
       "0      usa      spatchcock turkey                 spatchcock a turkey  \n",
       "1        -  easi dessert christma  easy to make dessert for christmas  \n",
       "2        -      gluten free appet               gluten free appetizer  \n",
       "3      usa    green goddess salad                 green goddess salad  \n",
       "4       uk  classic english trifl              classic english trifle  "
      ]
     },
     "execution_count": 3,
     "metadata": {},
     "output_type": "execute_result"
    }
   ],
   "source": [
    "import pandas as pd\n",
    "\n",
    "\"\"\" Preprocess and load queries \"\"\"\n",
    "\n",
    "# from query_pipeline import query_pipeline\n",
    "# query_pipeline.preprocess_queries()\n",
    "\n",
    "queries = {\n",
    "    \"COOKING\" : pd.read_csv('queries/cooking.csv'),\n",
    "    \"DIY\": pd.read_csv('queries/diy.csv'),\n",
    "}\n",
    "\n",
    "queries[\"COOKING\"].head()"
   ]
  },
  {
   "cell_type": "code",
   "execution_count": 2,
   "metadata": {},
   "outputs": [
    {
     "ename": "NameError",
     "evalue": "name 'queries' is not defined",
     "output_type": "error",
     "traceback": [
      "\u001b[0;31m---------------------------------------------------------------------------\u001b[0m",
      "\u001b[0;31mNameError\u001b[0m                                 Traceback (most recent call last)",
      "Cell \u001b[0;32mIn[2], line 17\u001b[0m\n\u001b[1;32m      6\u001b[0m \u001b[39mfor\u001b[39;00m domain \u001b[39min\u001b[39;00m [\u001b[39m\"\u001b[39m\u001b[39mDIY\u001b[39m\u001b[39m\"\u001b[39m, \u001b[39m\"\u001b[39m\u001b[39mCOOKING\u001b[39m\u001b[39m\"\u001b[39m]:\n\u001b[1;32m      7\u001b[0m \n\u001b[1;32m      8\u001b[0m     \u001b[39m# Define the parameter grid to search over\u001b[39;00m\n\u001b[1;32m      9\u001b[0m     param_grid \u001b[39m=\u001b[39m {\n\u001b[1;32m     10\u001b[0m         \u001b[39m'\u001b[39m\u001b[39mk1\u001b[39m\u001b[39m'\u001b[39m: np\u001b[39m.\u001b[39marange(\u001b[39m0.1\u001b[39m, \u001b[39m5.0\u001b[39m, \u001b[39m0.1\u001b[39m),\n\u001b[1;32m     11\u001b[0m         \u001b[39m'\u001b[39m\u001b[39mb\u001b[39m\u001b[39m'\u001b[39m: np\u001b[39m.\u001b[39marange(\u001b[39m0.1\u001b[39m, \u001b[39m1.0\u001b[39m, \u001b[39m0.1\u001b[39m),\n\u001b[0;32m   (...)\u001b[0m\n\u001b[1;32m     14\u001b[0m         \u001b[39m'\u001b[39m\u001b[39moriginal_query_weight\u001b[39m\u001b[39m'\u001b[39m: np\u001b[39m.\u001b[39marange(\u001b[39m0.1\u001b[39m, \u001b[39m1\u001b[39m, \u001b[39m0.1\u001b[39m),\n\u001b[1;32m     15\u001b[0m     }\n\u001b[0;32m---> 17\u001b[0m     grid_search \u001b[39m=\u001b[39m GridSearchCV(domain \u001b[39m=\u001b[39m domain, queries \u001b[39m=\u001b[39m queries[domain], params \u001b[39m=\u001b[39m param_grid, cv\u001b[39m=\u001b[39m\u001b[39m5\u001b[39m)\n\u001b[1;32m     18\u001b[0m     best_params[domain] \u001b[39m=\u001b[39m grid_search\u001b[39m.\u001b[39mpredict()\n\u001b[1;32m     20\u001b[0m     \u001b[39mprint\u001b[39m(\u001b[39mf\u001b[39m\u001b[39m'\u001b[39m\u001b[39mBest parameters for \u001b[39m\u001b[39m{\u001b[39;00mdomain\u001b[39m}\u001b[39;00m\u001b[39m: k1 = \u001b[39m\u001b[39m{\u001b[39;00mgrid_search\u001b[39m.\u001b[39mbest_k1\u001b[39m}\u001b[39;00m\u001b[39m, b = \u001b[39m\u001b[39m{\u001b[39;00mgrid_search\u001b[39m.\u001b[39mbest_b\u001b[39m}\u001b[39;00m\u001b[39m'\u001b[39m)\n",
      "\u001b[0;31mNameError\u001b[0m: name 'queries' is not defined"
     ]
    }
   ],
   "source": [
    "import numpy as np\n",
    "from models_indexes.bm25_grid_search import GridSearchCV\n",
    "\n",
    "best_params = {}\n",
    "\n",
    "for domain in [\"DIY\", \"COOKING\"]:\n",
    "\n",
    "    # Define the parameter grid to search over\n",
    "    param_grid = {\n",
    "        'k1': np.arange(0.1, 5.0, 0.1),\n",
    "        'b': np.arange(0.1, 1.0, 0.1),\n",
    "        'fb_terms': range(5, 101, 5),\n",
    "        'fb_docs': range(5, 51, 5),\n",
    "        'original_query_weight': np.arange(0.1, 1, 0.1),\n",
    "    }\n",
    "\n",
    "    grid_search = GridSearchCV(domain = domain, queries = queries[domain], params = param_grid, cv=5)\n",
    "    best_params[domain] = grid_search.predict()\n",
    "\n",
    "    print(f'Best parameters for {domain}: k1 = {grid_search.best_k1}, b = {grid_search.best_b}')\n",
    "\n",
    "best_params"
   ]
  },
  {
   "cell_type": "code",
   "execution_count": 7,
   "metadata": {},
   "outputs": [],
   "source": [
    "best_params_bm25 = {\n",
    "    'DIY': {'best_k1': 2.4, 'best_b': 0.58},\n",
    "    'COOKING': {'best_k1': 0.62, 'best_b': 0.4}\n",
    "}\n",
    "\n",
    "best_params_bm25_rm3 = {\n",
    "    'DIY': {'best_k1': 2.4, 'best_b': 0.58, 'best_fb_terms': 57.0, 'best_fb_docs': 9.0, 'best_original_query_weight': 0.48},\n",
    "    'COOKING': {'best_k1': 0.62, 'best_b': 0.4, 'best_fb_terms': 88.0, 'best_fb_docs': 11.0, 'best_original_query_weight': 0.7}}"
   ]
  },
  {
   "cell_type": "code",
   "execution_count": 11,
   "metadata": {},
   "outputs": [
    {
     "name": "stdout",
     "output_type": "stream",
     "text": [
      "DIY\n",
      "COOKING\n"
     ]
    }
   ],
   "source": [
    "from models_indexes.bm25_model import BM25Model\n",
    "# from models_indexes.ance_model import AnceModel\n",
    "# from models_indexes.colbert_model import ColbertModel\n",
    "from models_indexes.marqo_model import MarqoModel\n",
    "# from models_indexes.abstract_model import AbstractModel\n",
    "# from models_indexes.hybrid_model import HybridModel\n",
    "\n",
    "models = {}\n",
    "\n",
    "# for domain in  [\"DIY\"]:\n",
    "for domain in  [\"DIY\", \"COOKING\"]:\n",
    "    print(domain)\n",
    "    models[domain] = {\n",
    "        # \"bm25\" : BM25Model(domain = domain),\n",
    "        # \"bm25-tuned\" : BM25Model(domain = domain, params = best_params[domain]),\n",
    "        # \"bm25+rm3\" : BM25Model(domain = domain, rm3=True),\n",
    "        # \"bm25+t5\" : BM25Model(domain = domain, t5=True),\n",
    "        # \"bm25+rm3-tuned\" : BM25Model(domain = domain, rm3=True, params = best_params_bm25_rm3[domain]),\n",
    "        # \"ance+t5\": AnceModel(domain = domain, t5=True),\n",
    "        # \"colbert+t5\": ColbertModel(domain = domain, t5=True),\n",
    "        \"marqo\": MarqoModel(domain = domain),\n",
    "        # \"marqo\": MarqoModel(domain = domain),\n",
    "        # \"marqo\": MarqoModel(domain = domain, doc_build=\"separate\"),\n",
    "        # \"hybrid\": HybridModel(domain = domain, rm3=True, t5=True)\n",
    "    }"
   ]
  },
  {
   "cell_type": "code",
   "execution_count": 14,
   "metadata": {},
   "outputs": [],
   "source": [
    "# from models_indexes.marqo_model import MarqoModel\n",
    "# model = MarqoModel(domain = \"COOKING\", t5 = False)\n",
    "# qs = queries[\"COOKING\"]\n",
    "\n",
    "# # # model.convert_search_results_to_run(qs)\n",
    "# # resp1 = model.search(\"pasta\")\n",
    "# # resp2 = model.search(\"fix kitchen\",[\"Title\"])\n",
    "# # resp2\n",
    "\n",
    "# # model.convert_search_results_to_run_attributes(qs, filters=[\"Tags\"])\n",
    "# # model.convert_search_results_to_run_attributes(qs, filters=[\"Tags\", \"Steps\"])\n",
    "# # model.convert_search_results_to_run_attributes(qs, filters=[\"Tags\", \"Steps\", \"Title\"])\n",
    "# model.convert_search_results_to_run_attributes(qs, filters=[ \"Title\", \"Steps\"])\n",
    "# model.convert_search_results_to_run_attributes(qs, filters=[ \"Title\", \"Requirements\"])\n",
    "# model.convert_search_results_to_run_attributes(qs, filters=[ \"Title\", \"Steps\" ,\"Requirements\"])\n",
    "# model.convert_search_results_to_run_attributes(qs, filters=[ \"Steps\" ,\"Requirements\"])\n",
    "# # model.convert_search_results_to_run_attributes(qs, filters=[\"Steps\"])\n",
    "# # model.convert_search_results_to_run_attributes(qs, filters=[\"Steps\", \"Title\"])\n",
    "# # model.convert_search_results_to_run_attributes(qs, filters=[\"Title\"])\n"
   ]
  },
  {
   "cell_type": "code",
   "execution_count": null,
   "metadata": {},
   "outputs": [],
   "source": [
    "\n",
    "# build indexes\n",
    "# print(\"Build indexes\")\n",
    "# for domain, index_models in models.items():\n",
    "#     for model_name, model in index_models.items():\n",
    "#         model.build_index()"
   ]
  },
  {
   "cell_type": "code",
   "execution_count": 9,
   "metadata": {},
   "outputs": [
    {
     "name": "stdout",
     "output_type": "stream",
     "text": [
      "Creating run files \n",
      "DOMAIN DIY\n",
      "DOMAIN COOKING\n"
     ]
    }
   ],
   "source": [
    "# create run files\n",
    "print(\"Creating run files \")\n",
    "for domain, index_models in models.items():\n",
    "    qs = queries[domain]\n",
    "    print(f\"DOMAIN {domain}\")\n",
    "    for model_name, model in index_models.items():\n",
    "        model.convert_search_results_to_run(qs)"
   ]
  },
  {
   "cell_type": "code",
   "execution_count": null,
   "metadata": {},
   "outputs": [],
   "source": []
  }
 ],
 "metadata": {
  "kernelspec": {
   "display_name": "env",
   "language": "python",
   "name": "python3"
  },
  "language_info": {
   "codemirror_mode": {
    "name": "ipython",
    "version": 3
   },
   "file_extension": ".py",
   "mimetype": "text/x-python",
   "name": "python",
   "nbconvert_exporter": "python",
   "pygments_lexer": "ipython3",
   "version": "3.8.10"
  },
  "orig_nbformat": 4,
  "vscode": {
   "interpreter": {
    "hash": "e524aa708618ab8d8f753ac1f2022f3e8661ea3a5ed96feef0a7d789cff7a903"
   }
  }
 },
 "nbformat": 4,
 "nbformat_minor": 2
}
