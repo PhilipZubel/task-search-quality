{
 "cells": [
  {
   "cell_type": "code",
   "execution_count": 3,
   "metadata": {},
   "outputs": [],
   "source": [
    "import sys\n",
    "\n",
    "\"\"\"Fetch protobuffs\"\"\"\n",
    "sys.path.insert(0, 'compiled_protobufs')"
   ]
  },
  {
   "cell_type": "code",
   "execution_count": 4,
   "metadata": {},
   "outputs": [],
   "source": [
    "\"\"\"Install pygaggle requirements\"\"\"\n",
    "\n",
    "import IPython\n",
    "import sys\n",
    "from pygaggle.rerank.transformer import MonoT5\n",
    "!{sys.executable} -m pip install -r pygaggle/requirements.txt\n",
    "IPython.Application.instance().kernel.do_shutdown(True)  "
   ]
  },
  {
   "attachments": {},
   "cell_type": "markdown",
   "metadata": {},
   "source": [
    "## Initialize dataset"
   ]
  },
  {
   "cell_type": "code",
   "execution_count": null,
   "metadata": {},
   "outputs": [],
   "source": [
    "\"\"\" Generate Taskgraphs from Datasets\"\"\"\n",
    "\n",
    "from models_datasets.recipe_1m_model import AbstractModelDataset\n",
    "from models_datasets.recipe_1m_model import Recipe1MModel\n",
    "from models_datasets.wikihow_model import WikihowModel\n",
    "\n",
    "dataset_models = {\n",
    "    \"COOKING\" : Recipe1MModel,\n",
    "    \"DIY\": WikihowModel,\n",
    "}\n",
    "\n",
    "for model_name, model in dataset_models.items():\n",
    "    dataset_model: AbstractModelDataset = model()\n",
    "    print(f\"Dataset Model: {model_name}\")\n",
    "    dataset_model.convert_to_taskgraphs()"
   ]
  },
  {
   "cell_type": "code",
   "execution_count": 5,
   "metadata": {},
   "outputs": [
    {
     "data": {
      "text/html": [
       "<div>\n",
       "<style scoped>\n",
       "    .dataframe tbody tr th:only-of-type {\n",
       "        vertical-align: middle;\n",
       "    }\n",
       "\n",
       "    .dataframe tbody tr th {\n",
       "        vertical-align: top;\n",
       "    }\n",
       "\n",
       "    .dataframe thead th {\n",
       "        text-align: right;\n",
       "    }\n",
       "</style>\n",
       "<table border=\"1\" class=\"dataframe\">\n",
       "  <thead>\n",
       "    <tr style=\"text-align: right;\">\n",
       "      <th></th>\n",
       "      <th>id</th>\n",
       "      <th>raw query</th>\n",
       "      <th>domain</th>\n",
       "      <th>knowledge</th>\n",
       "      <th>complex</th>\n",
       "      <th>many points of view</th>\n",
       "      <th>different key entities</th>\n",
       "      <th>seasonal</th>\n",
       "      <th>regional</th>\n",
       "      <th>target query</th>\n",
       "      <th>short query</th>\n",
       "    </tr>\n",
       "  </thead>\n",
       "  <tbody>\n",
       "    <tr>\n",
       "      <th>0</th>\n",
       "      <td>query-0</td>\n",
       "      <td>how to spatchcock a turkey</td>\n",
       "      <td>cooking</td>\n",
       "      <td>n</td>\n",
       "      <td>y</td>\n",
       "      <td>n</td>\n",
       "      <td>n</td>\n",
       "      <td>y</td>\n",
       "      <td>usa</td>\n",
       "      <td>spatchcock turkey</td>\n",
       "      <td>spatchcock a turkey</td>\n",
       "    </tr>\n",
       "    <tr>\n",
       "      <th>1</th>\n",
       "      <td>query-1</td>\n",
       "      <td>i want an easy to make dessert for christmas</td>\n",
       "      <td>cooking</td>\n",
       "      <td>n</td>\n",
       "      <td>y</td>\n",
       "      <td>y</td>\n",
       "      <td>n</td>\n",
       "      <td>y</td>\n",
       "      <td>-</td>\n",
       "      <td>easi dessert christma</td>\n",
       "      <td>easy to make dessert for christmas</td>\n",
       "    </tr>\n",
       "    <tr>\n",
       "      <th>2</th>\n",
       "      <td>query-2</td>\n",
       "      <td>any recommendations for a gluten free appetizer</td>\n",
       "      <td>cooking</td>\n",
       "      <td>y</td>\n",
       "      <td>n</td>\n",
       "      <td>y</td>\n",
       "      <td>y</td>\n",
       "      <td>n</td>\n",
       "      <td>-</td>\n",
       "      <td>gluten free appet</td>\n",
       "      <td>gluten free appetizer</td>\n",
       "    </tr>\n",
       "    <tr>\n",
       "      <th>3</th>\n",
       "      <td>query-3</td>\n",
       "      <td>how to make a green goddess salad</td>\n",
       "      <td>cooking</td>\n",
       "      <td>y</td>\n",
       "      <td>y</td>\n",
       "      <td>n</td>\n",
       "      <td>y</td>\n",
       "      <td>n</td>\n",
       "      <td>usa</td>\n",
       "      <td>green goddess salad</td>\n",
       "      <td>green goddess salad</td>\n",
       "    </tr>\n",
       "    <tr>\n",
       "      <th>4</th>\n",
       "      <td>query-4</td>\n",
       "      <td>how to make a classic english trifle</td>\n",
       "      <td>cooking</td>\n",
       "      <td>y</td>\n",
       "      <td>n</td>\n",
       "      <td>n</td>\n",
       "      <td>y</td>\n",
       "      <td>y</td>\n",
       "      <td>uk</td>\n",
       "      <td>classic english trifl</td>\n",
       "      <td>classic english trifle</td>\n",
       "    </tr>\n",
       "  </tbody>\n",
       "</table>\n",
       "</div>"
      ],
      "text/plain": [
       "        id                                        raw query   domain  \\\n",
       "0  query-0                       how to spatchcock a turkey  cooking   \n",
       "1  query-1     i want an easy to make dessert for christmas  cooking   \n",
       "2  query-2  any recommendations for a gluten free appetizer  cooking   \n",
       "3  query-3                how to make a green goddess salad  cooking   \n",
       "4  query-4             how to make a classic english trifle  cooking   \n",
       "\n",
       "  knowledge complex many points of view different key entities seasonal  \\\n",
       "0         n       y                   n                      n        y   \n",
       "1         n       y                   y                      n        y   \n",
       "2         y       n                   y                      y        n   \n",
       "3         y       y                   n                      y        n   \n",
       "4         y       n                   n                      y        y   \n",
       "\n",
       "  regional           target query                         short query  \n",
       "0      usa      spatchcock turkey                 spatchcock a turkey  \n",
       "1        -  easi dessert christma  easy to make dessert for christmas  \n",
       "2        -      gluten free appet               gluten free appetizer  \n",
       "3      usa    green goddess salad                 green goddess salad  \n",
       "4       uk  classic english trifl              classic english trifle  "
      ]
     },
     "execution_count": 5,
     "metadata": {},
     "output_type": "execute_result"
    }
   ],
   "source": [
    "import pandas as pd\n",
    "\n",
    "\"\"\" Preprocess and Load Queries \"\"\"\n",
    "\n",
    "# from query_pipeline import query_pipeline\n",
    "# query_pipeline.preprocess_queries()\n",
    "\n",
    "queries = {\n",
    "    \"COOKING\" : pd.read_csv('queries/cooking.csv'),\n",
    "    \"DIY\": pd.read_csv('queries/diy.csv'),\n",
    "}\n",
    "\n",
    "queries[\"COOKING\"].head()"
   ]
  },
  {
   "attachments": {},
   "cell_type": "markdown",
   "metadata": {},
   "source": [
    "## Initialize Models and Generate Runs"
   ]
  },
  {
   "cell_type": "code",
   "execution_count": 3,
   "metadata": {},
   "outputs": [
    {
     "name": "stderr",
     "output_type": "stream",
     "text": [
      "/home/ubuntu/task-search-quality/env/lib/python3.10/site-packages/tqdm/auto.py:22: TqdmWarning: IProgress not found. Please update jupyter and ipywidgets. See https://ipywidgets.readthedocs.io/en/stable/user_install.html\n",
      "  from .autonotebook import tqdm as notebook_tqdm\n",
      "2023-03-16 20:42:09.030311: I tensorflow/core/platform/cpu_feature_guard.cc:193] This TensorFlow binary is optimized with oneAPI Deep Neural Network Library (oneDNN) to use the following CPU instructions in performance-critical operations:  AVX2 FMA\n",
      "To enable them in other operations, rebuild TensorFlow with the appropriate compiler flags.\n",
      "2023-03-16 20:42:10.014539: W tensorflow/compiler/xla/stream_executor/platform/default/dso_loader.cc:64] Could not load dynamic library 'libnvinfer.so.7'; dlerror: libnvinfer.so.7: cannot open shared object file: No such file or directory\n",
      "2023-03-16 20:42:10.014636: W tensorflow/compiler/xla/stream_executor/platform/default/dso_loader.cc:64] Could not load dynamic library 'libnvinfer_plugin.so.7'; dlerror: libnvinfer_plugin.so.7: cannot open shared object file: No such file or directory\n",
      "2023-03-16 20:42:10.014648: W tensorflow/compiler/tf2tensorrt/utils/py_utils.cc:38] TF-TRT Warning: Cannot dlopen some TensorRT libraries. If you would like to use Nvidia GPU with TensorRT, please make sure the missing libraries mentioned above are installed properly.\n"
     ]
    },
    {
     "name": "stdout",
     "output_type": "stream",
     "text": [
      "Generating run... k1=0.9, b=0.1\n",
      "MAP scores: [0.15242315472663948, 0.15242969618158728, 0.15956860220448485, 0.14421153820853308, 0.152348027859856]\n",
      "Generating run... k1=0.9, b=0.2\n",
      "MAP scores: [0.1603446157896936, 0.16148065933437442, 0.1680478058027824, 0.15292824929830232, 0.1584846810193088]\n",
      "Generating run... k1=0.9, b=0.30000000000000004\n",
      "MAP scores: [0.16651991709636424, 0.1683681991952717, 0.17454891438932937, 0.15994263522605148, 0.16399935893960083]\n",
      "Generating run... k1=0.9, b=0.4\n"
     ]
    }
   ],
   "source": [
    "\"\"\" Optimize BM25 + RM3\"\"\"\n",
    "\n",
    "import numpy as np\n",
    "from models_indexes.bm25_grid_search import GridSearchCV\n",
    "\n",
    "best_params = {}\n",
    "\n",
    "# for domain in [\"DIY\", \"COOKING\"]:\n",
    "for domain in [\"COOKING\"]:\n",
    "\n",
    "    # Define the parameter grid to search over\n",
    "    param_grid = {\n",
    "        'k1': np.arange(0.1, 5.0, 0.1),\n",
    "        'b': np.arange(0.1, 1.0, 0.1),\n",
    "        'fb_terms': range(5, 101, 5),\n",
    "        'fb_docs': range(5, 51, 5),\n",
    "        'original_query_weight': np.arange(0.1, 1, 0.1),\n",
    "    }\n",
    "\n",
    "    grid_search = GridSearchCV(domain = domain, queries = queries[domain], params = param_grid, cv=5)\n",
    "    best_params[domain] = grid_search.predict()\n",
    "\n",
    "    print(f'Best parameters for {domain}: k1 = {grid_search.best_k1}, b = {grid_search.best_b}')\n",
    "\n",
    "best_params"
   ]
  },
  {
   "cell_type": "code",
   "execution_count": 4,
   "metadata": {},
   "outputs": [],
   "source": [
    "\"\"\"\"Best parameters for BM25 + RM3\"\"\"\n",
    "\n",
    "best_params_bm25 = {\n",
    "    'DIY': {'best_k1': 2.4, 'best_b': 0.58},\n",
    "    'COOKING': {'best_k1': 0.6, 'best_b': 0.4}\n",
    "}\n",
    "\n",
    "best_params_bm25_rm3 = {\n",
    "    'DIY': {'best_k1': 2.4, 'best_b': 0.58, 'best_fb_terms': 57.0, 'best_fb_docs': 9.0, 'best_original_query_weight': 0.48},\n",
    "    'COOKING': {'best_k1': 0.6, 'best_b': 0.4, 'best_fb_terms': 79.0, 'best_fb_docs': 16.0, 'best_original_query_weight': 0.68}\n",
    "}"
   ]
  },
  {
   "cell_type": "code",
   "execution_count": 5,
   "metadata": {},
   "outputs": [],
   "source": [
    "from models_indexes.bm25_model import BM25Model\n",
    "from models_indexes.ance_model import AnceModel\n",
    "from models_indexes.colbert_model import ColbertModel\n",
    "from models_indexes.marqo_model import MarqoModel\n",
    "from models_indexes.abstract_model import AbstractModel\n",
    "from models_indexes.hybrid_model import HybridModel\n",
    "\n",
    "\n",
    "\"\"\"\"Initialize Models\"\"\"\n",
    "\n",
    "models = {}\n",
    "for domain in  [\"DIY\", \"COOKING\"]:\n",
    "    models[domain] = {\n",
    "        \"bm25\" : BM25Model(domain = domain),\n",
    "        \"bm25-tuned\" : BM25Model(domain = domain, params = best_params[domain]),\n",
    "        \"bm25+rm3\" : BM25Model(domain = domain, rm3=True),\n",
    "        \"bm25+rm3-tuned\" : BM25Model(domain = domain, rm3=True, params = best_params_bm25_rm3[domain]),\n",
    "        \"bm25+t5\" : BM25Model(domain = domain, t5=True),\n",
    "        \"bm25+rm3+t5\" : BM25Model(domain = domain, rm3=True, t5=True),\n",
    "        \"ance+t5\": AnceModel(domain = domain, t5=True),\n",
    "        \"colbert+t5\": ColbertModel(domain = domain, t5=True),\n",
    "        \"marqo\": MarqoModel(domain = domain),\n",
    "        \"marqo+t5\": MarqoModel(domain = domain, t5=True),\n",
    "        \"hybrid\": HybridModel(domain = domain, rm3=True, t5=False),\n",
    "        \"hybrid+t5\": HybridModel(domain = domain, rm3=True, t5=True)\n",
    "    }"
   ]
  },
  {
   "cell_type": "code",
   "execution_count": 9,
   "metadata": {},
   "outputs": [
    {
     "data": {
      "text/plain": [
       "'Build indexes'"
      ]
     },
     "execution_count": 9,
     "metadata": {},
     "output_type": "execute_result"
    }
   ],
   "source": [
    "\"\"\"Build Indexes\"\"\"\n",
    "for domain, index_models in models.items():\n",
    "    for model_name, model in index_models.items():\n",
    "        model.build_index()"
   ]
  },
  {
   "cell_type": "code",
   "execution_count": 8,
   "metadata": {},
   "outputs": [
    {
     "data": {
      "text/plain": [
       "'Create run files simulation'"
      ]
     },
     "execution_count": 8,
     "metadata": {},
     "output_type": "execute_result"
    }
   ],
   "source": [
    "\"\"\"Create run files simulation\"\"\"\n",
    "print(\"Creating run files \")\n",
    "for domain, index_models in models.items():\n",
    "    qs = queries[domain]\n",
    "    print(f\"DOMAIN {domain}\")\n",
    "    for model_name, model in index_models.items():\n",
    "        model.convert_search_results_to_run(qs)"
   ]
  },
  {
   "cell_type": "code",
   "execution_count": null,
   "metadata": {},
   "outputs": [],
   "source": [
    "\"\"\"\"Fielded retrieval with Marqo\"\"\"\n",
    "\n",
    "fields = {\n",
    "    \"DIY\": [\"Title\", \"Steps\", \"Tags\"],\n",
    "    \"COOKING\": [\"Title\", \"Steps\", \"Requirements\"],\n",
    "}\n",
    "\n",
    "for domain in  [\"DIY\", \"COOKING\"]:\n",
    "    model = MarqoModel(domain = \"COOKING\", t5 = False)\n",
    "    model.build_index()\n",
    "    qs = queries[domain]\n",
    "\n",
    "    field1, field2, field3 = fields[domain]\n",
    "    model.convert_search_results_to_run_attributes(qs, filters=[field1])\n",
    "    model.convert_search_results_to_run_attributes(qs, filters=[field2])\n",
    "    model.convert_search_results_to_run_attributes(qs, filters=[field3])\n",
    "    model.convert_search_results_to_run_attributes(qs, filters=[field1, field2])\n",
    "    model.convert_search_results_to_run_attributes(qs, filters=[field1, field3])\n",
    "    model.convert_search_results_to_run_attributes(qs, filters=[field2, field3])\n",
    "    model.convert_search_results_to_run_attributes(qs, filters=fields[domain])"
   ]
  }
 ],
 "metadata": {
  "kernelspec": {
   "display_name": "env",
   "language": "python",
   "name": "python3"
  },
  "language_info": {
   "codemirror_mode": {
    "name": "ipython",
    "version": 3
   },
   "file_extension": ".py",
   "mimetype": "text/x-python",
   "name": "python",
   "nbconvert_exporter": "python",
   "pygments_lexer": "ipython3",
   "version": "3.10.6"
  },
  "orig_nbformat": 4
 },
 "nbformat": 4,
 "nbformat_minor": 2
}
