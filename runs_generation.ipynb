{
 "cells": [
  {
   "cell_type": "code",
   "execution_count": null,
   "metadata": {},
   "outputs": [],
   "source": [
    "import sys\n",
    "\n",
    "\"\"\"Fetch protobuffs\"\"\"\n",
    "sys.path.insert(0, 'compiled_protobufs')"
   ]
  },
  {
   "cell_type": "code",
   "execution_count": null,
   "metadata": {},
   "outputs": [],
   "source": [
    "\"\"\"Install pygaggle requirements\"\"\"\n",
    "\n",
    "import IPython\n",
    "import sys\n",
    "from pygaggle.rerank.transformer import MonoT5\n",
    "!{sys.executable} -m pip install -r pygaggle/requirements.txt\n",
    "IPython.Application.instance().kernel.do_shutdown(True)  "
   ]
  },
  {
   "attachments": {},
   "cell_type": "markdown",
   "metadata": {},
   "source": [
    "## Initialize dataset"
   ]
  },
  {
   "cell_type": "code",
   "execution_count": null,
   "metadata": {},
   "outputs": [],
   "source": [
    "\"\"\" Generate Taskgraphs from Datasets\"\"\"\n",
    "\n",
    "from models_datasets.recipe_1m_model import AbstractModelDataset\n",
    "from models_datasets.recipe_1m_model import Recipe1MModel\n",
    "from models_datasets.wikihow_model import WikihowModel\n",
    "\n",
    "dataset_models = {\n",
    "    \"COOKING\" : Recipe1MModel,\n",
    "    \"DIY\": WikihowModel,\n",
    "}\n",
    "\n",
    "for model_name, model in dataset_models.items():\n",
    "    dataset_model: AbstractModelDataset = model()\n",
    "    print(f\"Dataset Model: {model_name}\")\n",
    "    dataset_model.convert_to_taskgraphs()"
   ]
  },
  {
   "cell_type": "code",
   "execution_count": null,
   "metadata": {},
   "outputs": [],
   "source": [
    "import pandas as pd\n",
    "\n",
    "\"\"\" Preprocess and Load Queries \"\"\"\n",
    "\n",
    "# from query_pipeline import query_pipeline\n",
    "# query_pipeline.preprocess_queries()\n",
    "\n",
    "queries = {\n",
    "    \"COOKING\" : pd.read_csv('queries/cooking.csv'),\n",
    "    \"DIY\": pd.read_csv('queries/diy.csv'),\n",
    "}\n",
    "\n",
    "queries[\"COOKING\"].head()"
   ]
  },
  {
   "attachments": {},
   "cell_type": "markdown",
   "metadata": {},
   "source": [
    "## Initialize Models and Generate Runs"
   ]
  },
  {
   "cell_type": "code",
   "execution_count": null,
   "metadata": {},
   "outputs": [],
   "source": [
    "\"\"\" Optimize BM25 + RM3\"\"\"\n",
    "\n",
    "import numpy as np\n",
    "from models_indexes.bm25_grid_search import GridSearchCV\n",
    "\n",
    "best_params = {}\n",
    "\n",
    "# for domain in [\"DIY\", \"COOKING\"]:\n",
    "for domain in [\"COOKING\"]:\n",
    "\n",
    "    # Define the parameter grid to search over\n",
    "    param_grid = {\n",
    "        'k1': np.arange(0.1, 5.0, 0.1),\n",
    "        'b': np.arange(0.1, 1.0, 0.1),\n",
    "        'fb_terms': range(5, 101, 5),\n",
    "        'fb_docs': range(5, 51, 5),\n",
    "        'original_query_weight': np.arange(0.1, 1, 0.1),\n",
    "    }\n",
    "\n",
    "    grid_search = GridSearchCV(domain = domain, queries = queries[domain], params = param_grid, cv=5)\n",
    "    best_params[domain] = grid_search.predict()\n",
    "\n",
    "    print(f'Best parameters for {domain}: k1 = {grid_search.best_k1}, b = {grid_search.best_b}')\n",
    "\n",
    "best_params"
   ]
  },
  {
   "cell_type": "code",
   "execution_count": null,
   "metadata": {},
   "outputs": [],
   "source": [
    "\"\"\"\"Best parameters for BM25 + RM3\"\"\"\n",
    "\n",
    "best_params_bm25 = {\n",
    "    'DIY': {'best_k1': 2.4, 'best_b': 0.58},\n",
    "    'COOKING': {'best_k1': 0.6, 'best_b': 0.4}\n",
    "}\n",
    "\n",
    "best_params_bm25_rm3 = {\n",
    "    'DIY': {'best_k1': 2.4, 'best_b': 0.58, 'best_fb_terms': 57.0, 'best_fb_docs': 9.0, 'best_original_query_weight': 0.48},\n",
    "    'COOKING': {'best_k1': 0.6, 'best_b': 0.4, 'best_fb_terms': 79.0, 'best_fb_docs': 16.0, 'best_original_query_weight': 0.68}\n",
    "}"
   ]
  },
  {
   "cell_type": "code",
   "execution_count": null,
   "metadata": {},
   "outputs": [],
   "source": [
    "from models_indexes.bm25_model import BM25Model\n",
    "from models_indexes.ance_model import AnceModel\n",
    "from models_indexes.colbert_model import ColbertModel\n",
    "from models_indexes.marqo_model import MarqoModel\n",
    "from models_indexes.abstract_model import AbstractModel\n",
    "from models_indexes.hybrid_model import HybridModel\n",
    "\n",
    "\n",
    "\"\"\"\"Initialize Models\"\"\"\n",
    "\n",
    "models = {}\n",
    "for domain in  [\"DIY\", \"COOKING\"]:\n",
    "    models[domain] = {\n",
    "        \"bm25\" : BM25Model(domain = domain),\n",
    "        \"bm25-tuned\" : BM25Model(domain = domain, params = best_params[domain]),\n",
    "        \"bm25+rm3\" : BM25Model(domain = domain, rm3=True),\n",
    "        \"bm25+rm3-tuned\" : BM25Model(domain = domain, rm3=True, params = best_params_bm25_rm3[domain]),\n",
    "        \"bm25+t5\" : BM25Model(domain = domain, t5=True),\n",
    "        \"bm25+rm3+t5\" : BM25Model(domain = domain, rm3=True, t5=True),\n",
    "        \"ance+t5\": AnceModel(domain = domain, t5=True),\n",
    "        \"colbert+t5\": ColbertModel(domain = domain, t5=True),\n",
    "        \"marqo\": MarqoModel(domain = domain),\n",
    "        \"marqo+t5\": MarqoModel(domain = domain, t5=True),\n",
    "        \"hybrid\": HybridModel(domain = domain, rm3=True, t5=False),\n",
    "        \"hybrid+t5\": HybridModel(domain = domain, rm3=True, t5=True)\n",
    "    }"
   ]
  },
  {
   "cell_type": "code",
   "execution_count": null,
   "metadata": {},
   "outputs": [],
   "source": [
    "\"\"\"Build Indexes\"\"\"\n",
    "for domain, index_models in models.items():\n",
    "    for model_name, model in index_models.items():\n",
    "        model.build_index()"
   ]
  },
  {
   "cell_type": "code",
   "execution_count": null,
   "metadata": {},
   "outputs": [],
   "source": [
    "\"\"\"Create run files simulation\"\"\"\n",
    "print(\"Creating run files \")\n",
    "for domain, index_models in models.items():\n",
    "    qs = queries[domain]\n",
    "    print(f\"DOMAIN {domain}\")\n",
    "    for model_name, model in index_models.items():\n",
    "        model.convert_search_results_to_run(qs)"
   ]
  },
  {
   "cell_type": "code",
   "execution_count": null,
   "metadata": {},
   "outputs": [],
   "source": [
    "\"\"\"\"Fielded retrieval with Marqo\"\"\"\n",
    "\n",
    "fields = {\n",
    "    \"DIY\": [\"Title\", \"Steps\", \"Tags\"],\n",
    "    \"COOKING\": [\"Title\", \"Steps\", \"Requirements\"],\n",
    "}\n",
    "\n",
    "for domain in  [\"DIY\", \"COOKING\"]:\n",
    "    model = MarqoModel(domain = \"COOKING\", t5 = False)\n",
    "    model.build_index()\n",
    "    qs = queries[domain]\n",
    "\n",
    "    field1, field2, field3 = fields[domain]\n",
    "    model.convert_search_results_to_run_attributes(qs, filters=[field1])\n",
    "    model.convert_search_results_to_run_attributes(qs, filters=[field2])\n",
    "    model.convert_search_results_to_run_attributes(qs, filters=[field3])\n",
    "    model.convert_search_results_to_run_attributes(qs, filters=[field1, field2])\n",
    "    model.convert_search_results_to_run_attributes(qs, filters=[field1, field3])\n",
    "    model.convert_search_results_to_run_attributes(qs, filters=[field2, field3])\n",
    "    model.convert_search_results_to_run_attributes(qs, filters=fields[domain])"
   ]
  }
 ],
 "metadata": {
  "kernelspec": {
   "display_name": "env",
   "language": "python",
   "name": "python3"
  },
  "language_info": {
   "codemirror_mode": {
    "name": "ipython",
    "version": 3
   },
   "file_extension": ".py",
   "mimetype": "text/x-python",
   "name": "python",
   "nbconvert_exporter": "python",
   "pygments_lexer": "ipython3",
   "version": "3.10.6"
  },
  "orig_nbformat": 4
 },
 "nbformat": 4,
 "nbformat_minor": 2
}
