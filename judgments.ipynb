{
 "cells": [
  {
   "cell_type": "code",
   "execution_count": 1,
   "metadata": {},
   "outputs": [
    {
     "name": "stderr",
     "output_type": "stream",
     "text": [
      "/home/ubuntu/task-search-quality/env/lib/python3.10/site-packages/tqdm/auto.py:22: TqdmWarning: IProgress not found. Please update jupyter and ipywidgets. See https://ipywidgets.readthedocs.io/en/stable/user_install.html\n",
      "  from .autonotebook import tqdm as notebook_tqdm\n",
      "2023-02-08 19:12:07.979190: I tensorflow/core/platform/cpu_feature_guard.cc:193] This TensorFlow binary is optimized with oneAPI Deep Neural Network Library (oneDNN) to use the following CPU instructions in performance-critical operations:  AVX2 FMA\n",
      "To enable them in other operations, rebuild TensorFlow with the appropriate compiler flags.\n",
      "2023-02-08 19:12:12.470216: W tensorflow/compiler/xla/stream_executor/platform/default/dso_loader.cc:64] Could not load dynamic library 'libnvinfer.so.7'; dlerror: libnvinfer.so.7: cannot open shared object file: No such file or directory\n",
      "2023-02-08 19:12:12.470440: W tensorflow/compiler/xla/stream_executor/platform/default/dso_loader.cc:64] Could not load dynamic library 'libnvinfer_plugin.so.7'; dlerror: libnvinfer_plugin.so.7: cannot open shared object file: No such file or directory\n",
      "2023-02-08 19:12:12.470456: W tensorflow/compiler/tf2tensorrt/utils/py_utils.cc:38] TF-TRT Warning: Cannot dlopen some TensorRT libraries. If you would like to use Nvidia GPU with TensorRT, please make sure the missing libraries mentioned above are installed properly.\n"
     ]
    }
   ],
   "source": [
    "import sys\n",
    "import os\n",
    "\n",
    "sys.path.insert(0, 'compiled_protobufs')\n",
    "\n",
    "\n",
    "import json\n",
    "from draw import get_taksgraph_visualization\n",
    "from google.protobuf.json_format import MessageToDict\n",
    "import json\n",
    "from google.protobuf.json_format import Parse\n",
    "from pyserini.search import LuceneSearcher\n",
    "\n",
    "from taskmap_pb2 import TaskMap"
   ]
  },
  {
   "cell_type": "code",
   "execution_count": 15,
   "metadata": {},
   "outputs": [
    {
     "name": "stdout",
     "output_type": "stream",
     "text": [
      "Number of annotations for diy: 853\n"
     ]
    }
   ],
   "source": [
    "import time\n",
    "\n",
    "# from models_indexes.bm25_model import BM25Model\n",
    "\n",
    "# model = BM25Model(domain=\"COOKING\")\n",
    "\n",
    "# model.search(\"chicken soup with homemade broth\", 10)\n",
    "\n",
    "def get_taskgraph(id, domain):\n",
    "    # print(os.path.join(os.getcwd(), \"indexes\", domain, \"system_index_sparse\"))\n",
    "    taskmap_index_path = os.path.join(os.getcwd(), \"indexes\", domain, \"system_index_sparse\")\n",
    "    searcher = LuceneSearcher(index_dir=taskmap_index_path)\n",
    "    id = id.replace('\\n','')\n",
    "    doc = searcher.doc(docid=id)\n",
    "    taskmap_json = json.loads(doc.raw())['recipe_document_json']\n",
    "    taskmap = Parse(json.dumps(taskmap_json), TaskMap())\n",
    "    return taskmap\n",
    "    \n",
    "\n",
    "domains = [\"diy\"]\n",
    "# domains = [\"cooking\"]\n",
    "k = 10\n",
    "for domain in domains:\n",
    "    empty_annotations = f\"measurements/{domain}/empty_annotations/difference-empty_annotations-{k}.csv\"\n",
    "    qrels = f\"measurements/judgments/{domain}-updated.qrels\"\n",
    "    with open(qrels, \"r\") as f_qrles:\n",
    "        qrles = [q for q in f_qrles]\n",
    "        done_annoations_count = len(qrles)\n",
    "        print(f\"Number of annotations for {domain}:\", len(qrles))\n",
    "    with open(empty_annotations, \"r\") as f_empty:\n",
    "        annotations = [annotation for annotation in f_empty]\n",
    "        annotaitons_count = len(annotations)\n",
    "\n",
    "    annotations_tracker = done_annoations_count\n",
    "    for annotation in annotations[done_annoations_count+1:]:\n",
    "\n",
    "        annnotation = annotations[annotations_tracker+1]\n",
    "        query_id, target_query, doc_id = annnotation.split(\",\")\n",
    "        doc_id = doc_id.replace('\\n','')\n",
    "        taskmap = get_taskgraph(doc_id, domain)\n",
    "        \n",
    "        print(f\"Annotation for {domain} number {annotations_tracker}/{annotaitons_count}\", flush = True)\n",
    "        print(\"Query: \", target_query , flush = True)\n",
    "        print(taskmap.title, taskmap.source_url, flush = True)\n",
    "        time.sleep(0.05)\n",
    "\n",
    "        rating = int(input(\"Relevance rating:\"))\n",
    "        print(\"Rating:\", rating)\n",
    "        with open(qrels, \"a\") as f_qrles:\n",
    "            # print(query_id, target_query, id)\n",
    "            f_qrles.write(f\"{query_id} Q0 {doc_id} {rating}\\n\")\n",
    "        annotations_tracker += 1\n",
    "        \n",
    "\n",
    "        \n"
   ]
  },
  {
   "cell_type": "code",
   "execution_count": null,
   "metadata": {},
   "outputs": [],
   "source": []
  },
  {
   "cell_type": "code",
   "execution_count": null,
   "metadata": {},
   "outputs": [],
   "source": []
  }
 ],
 "metadata": {
  "kernelspec": {
   "display_name": "env",
   "language": "python",
   "name": "env"
  },
  "language_info": {
   "codemirror_mode": {
    "name": "ipython",
    "version": 3
   },
   "file_extension": ".py",
   "mimetype": "text/x-python",
   "name": "python",
   "nbconvert_exporter": "python",
   "pygments_lexer": "ipython3",
   "version": "3.10.6"
  },
  "orig_nbformat": 4,
  "vscode": {
   "interpreter": {
    "hash": "5fc5ba0db375a557a527168d68cfbe4f022bc62df7af9d8f86e24130294f8f8e"
   }
  }
 },
 "nbformat": 4,
 "nbformat_minor": 2
}
