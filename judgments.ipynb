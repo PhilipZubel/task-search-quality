{
 "cells": [
  {
   "cell_type": "code",
   "execution_count": 1,
   "metadata": {},
   "outputs": [],
   "source": [
    "import sys\n",
    "\n",
    "sys.path.insert(0, 'compiled_protobufs')"
   ]
  },
  {
   "cell_type": "code",
   "execution_count": 34,
   "metadata": {},
   "outputs": [
    {
     "name": "stdout",
     "output_type": "stream",
     "text": [
      "Judgment: chicken soup homemade broth http://www.food.com/recipe/mexican-chicken-and-vegetable-soup-homemade-gourmet-214604\n",
      "Judgment: chicken soup homemade broth http://www.epicurious.com/recipes/food/views/traditional-king-ranch-casserole-378233\n",
      "Judgment: chicken soup homemade broth http://www.food.com/recipe/refried-bean-soup-450830\n",
      "Judgment: chicken soup homemade broth http://www.food.com/recipe/homemade-condensed-cream-of-chicken-or-mushroom-or-celery-soup-397758\n",
      "Judgment: chicken soup homemade broth http://www.food.com/recipe/homemade-chicken-noodle-soup-459632\n",
      "Judgment: chicken soup homemade broth http://cookeatshare.com/recipes/easy-chicken-noodles-36059\n",
      "Judgment: chicken soup homemade broth http://tastykitchen.com/recipes/soups/almost-homemade-chicken-noodle-soup/\n",
      "Judgment: chicken soup homemade broth http://tastykitchen.com/recipes/soups/chicken-and-wild-rice-soup-2/\n",
      "Judgment: chicken soup homemade broth http://cookeatshare.com/recipes/easy-chicken-and-noodles-36065\n",
      "Judgment: chicken soup homemade broth http://www.food.com/recipe/slow-cooker-chicken-barley-vegetable-soup-268234\n"
     ]
    }
   ],
   "source": [
    "from models_indexes.bm25_model import BM25Model\n",
    "\n",
    "model = BM25Model(domain=\"COOKING\")\n",
    "\n",
    "model.search(\"chicken soup with homemade broth\", 10)"
   ]
  },
  {
   "cell_type": "code",
   "execution_count": null,
   "metadata": {},
   "outputs": [],
   "source": []
  }
 ],
 "metadata": {
  "kernelspec": {
   "display_name": "env",
   "language": "python",
   "name": "python3"
  },
  "language_info": {
   "codemirror_mode": {
    "name": "ipython",
    "version": 3
   },
   "file_extension": ".py",
   "mimetype": "text/x-python",
   "name": "python",
   "nbconvert_exporter": "python",
   "pygments_lexer": "ipython3",
   "version": "3.9.2"
  },
  "orig_nbformat": 4,
  "vscode": {
   "interpreter": {
    "hash": "5fc5ba0db375a557a527168d68cfbe4f022bc62df7af9d8f86e24130294f8f8e"
   }
  }
 },
 "nbformat": 4,
 "nbformat_minor": 2
}
