{
 "cells": [
  {
   "cell_type": "code",
   "execution_count": null,
   "metadata": {},
   "outputs": [],
   "source": [
    "import sys\n",
    "import os\n",
    "import json\n",
    "\n",
    "sys.path.insert(0, 'compiled_protobufs')\n",
    "\n",
    "from draw import get_taksgraph_visualization\n",
    "from google.protobuf.json_format import MessageToDict\n",
    "import json\n",
    "from google.protobuf.json_format import Parse\n",
    "from pyserini.search import LuceneSearcher\n",
    "\n",
    "from taskmap_pb2 import TaskMap"
   ]
  },
  {
   "attachments": {},
   "cell_type": "markdown",
   "metadata": {},
   "source": [
    "## Annotation Notebook"
   ]
  },
  {
   "cell_type": "code",
   "execution_count": null,
   "metadata": {},
   "outputs": [],
   "source": [
    "import time\n",
    "\n",
    "def get_taskgraph(id, domain):\n",
    "    # print(os.path.join(os.getcwd(), \"indexes\", domain, \"system_index_sparse\"))\n",
    "    taskmap_index_path = os.path.join(os.getcwd(), \"indexes\", domain, \"system_index_sparse\")\n",
    "    searcher = LuceneSearcher(index_dir=taskmap_index_path)\n",
    "    id = id.replace('\\n','')\n",
    "    doc = searcher.doc(docid=id)\n",
    "    taskmap_json = json.loads(doc.raw())['recipe_document_json']\n",
    "    taskmap = Parse(json.dumps(taskmap_json), TaskMap())\n",
    "    return taskmap\n",
    "    \n",
    "\n",
    "# domains = []\n",
    "domains = [\"cooking,\", \"diy\"]\n",
    "k = 10\n",
    "for domain in domains:\n",
    "    empty_annotations = f\"measurements/{domain}/empty_annotations/empty_annotations-{k}.csv\"\n",
    "    qrels = f\"measurements/judgments/{domain}.qrels\"\n",
    "    with open(qrels, \"r\") as f_qrles:\n",
    "        qrles = [q for q in f_qrles]\n",
    "        done_annoations_count = len(qrles)\n",
    "        print(f\"Number of annotations for {domain}:\", len(qrles))\n",
    "    with open(empty_annotations, \"r\") as f_empty:\n",
    "        annotations = [annotation for annotation in f_empty]\n",
    "        annotaitons_count = len(annotations)\n",
    "\n",
    "    annotations_tracker = done_annoations_count\n",
    "    for annotation in annotations[done_annoations_count+1:]:\n",
    "\n",
    "        annnotation = annotations[annotations_tracker+1]\n",
    "        query_id, target_query, doc_id = annnotation.split(\",\")\n",
    "        doc_id = doc_id.replace('\\n','')\n",
    "        taskmap = get_taskgraph(doc_id, domain)\n",
    "        \n",
    "        print(f\"Annotation for {domain} number {annotations_tracker}/{annotaitons_count}\", flush = True)\n",
    "        print(\"Query: \", target_query , flush = True)\n",
    "        print(taskmap.title, taskmap.source_url, flush = True)\n",
    "        time.sleep(0.05)\n",
    "\n",
    "        rating = int(input(\"Relevance rating:\"))\n",
    "        print(\"Rating:\", rating)\n",
    "        with open(qrels, \"a\") as f_qrles:\n",
    "            # print(query_id, target_query, id)\n",
    "            f_qrles.write(f\"{query_id} Q0 {doc_id} {rating}\\n\")\n",
    "        annotations_tracker += 1\n",
    "        \n",
    "\n",
    "        \n"
   ]
  },
  {
   "cell_type": "code",
   "execution_count": null,
   "metadata": {},
   "outputs": [],
   "source": [
    "# convert csv to qrels\n",
    "\n",
    "path_from = \"/home/ubuntu/task-search-quality/measurements/cooking/filled_annotations/cooking_judgments.csv\"\n",
    "path_to = \"/home/ubuntu/task-search-quality/measurements/judgments/cooking-all.qrels\"\n"
   ]
  },
  {
   "cell_type": "code",
   "execution_count": null,
   "metadata": {},
   "outputs": [],
   "source": [
    "with open(path_from, \"r\") as f:\n",
    "    rows = [r.replace('\\n','').split(',') for r in f]\n",
    "\n",
    "qrels = []\n",
    "for row in rows:\n",
    "    qrels.append(f\"{row[0]} Q0 {row[1]} {rows[3]}\\n\")\n",
    "\n",
    "with open(path_to, \"w\") as f:\n",
    "    f.writelines(qrels)\n"
   ]
  },
  {
   "cell_type": "code",
   "execution_count": null,
   "metadata": {},
   "outputs": [],
   "source": []
  }
 ],
 "metadata": {
  "kernelspec": {
   "display_name": "env",
   "language": "python",
   "name": "python3"
  },
  "language_info": {
   "codemirror_mode": {
    "name": "ipython",
    "version": 3
   },
   "file_extension": ".py",
   "mimetype": "text/x-python",
   "name": "python",
   "nbconvert_exporter": "python",
   "pygments_lexer": "ipython3",
   "version": "3.10.6"
  },
  "orig_nbformat": 4,
  "vscode": {
   "interpreter": {
    "hash": "e524aa708618ab8d8f753ac1f2022f3e8661ea3a5ed96feef0a7d789cff7a903"
   }
  }
 },
 "nbformat": 4,
 "nbformat_minor": 2
}
