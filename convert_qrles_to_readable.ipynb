{
 "cells": [
  {
   "cell_type": "code",
   "execution_count": 18,
   "metadata": {},
   "outputs": [],
   "source": [
    "import sys\n",
    "import os\n",
    "\n",
    "sys.path.insert(0, 'compiled_protobufs')\n",
    "\n",
    "import pandas as pd\n",
    "qrels = \"/home/ubuntu/task-search-quality/measurements/judgments/diy.qrels\"\n",
    "\n",
    "diy_queries = pd.read_csv('queries/diy.csv')\n",
    "\n",
    "from google.protobuf.json_format import MessageToDict\n",
    "import json\n",
    "from google.protobuf.json_format import Parse\n",
    "from pyserini.search import LuceneSearcher\n",
    "from taskmap_pb2 import TaskMap"
   ]
  },
  {
   "cell_type": "code",
   "execution_count": 25,
   "metadata": {},
   "outputs": [],
   "source": [
    "def get_taskgraph(id, domain):\n",
    "    taskmap_index_path = os.path.join(os.getcwd(), \"indexes\", domain, \"system_index_sparse\")\n",
    "    searcher = LuceneSearcher(index_dir=taskmap_index_path)\n",
    "    id = id.replace('\\n','')\n",
    "    doc = searcher.doc(docid=id)\n",
    "    taskmap_json = json.loads(doc.raw())['recipe_document_json']\n",
    "    taskmap = Parse(json.dumps(taskmap_json), TaskMap())\n",
    "    return taskmap"
   ]
  },
  {
   "cell_type": "code",
   "execution_count": 27,
   "metadata": {},
   "outputs": [],
   "source": [
    "with open(qrels, \"r\") as f:\n",
    "    lines = []\n",
    "    for line in f:\n",
    "        lines.append(line.strip().split(\" \"))\n",
    "    df = pd.DataFrame(lines, columns=[\"qid\", \"run\", \"docid\", \"relevance\"])\n",
    "    \n",
    "def get_raw(x):\n",
    "    qid = x[\"qid\"]\n",
    "    query_info = diy_queries[diy_queries[\"id\"] == qid].iloc[0]\n",
    "    return query_info[\"raw query\"]\n",
    "\n",
    "def get_title(x):\n",
    "    taskmap = get_taskgraph(x[\"docid\"], \"diy\")\n",
    "    return taskmap.title\n",
    "\n",
    "def get_url(x):\n",
    "    taskmap = get_taskgraph(x[\"docid\"], \"diy\")\n",
    "    return taskmap.source_url\n",
    "\n",
    "df[\"query_raw\"] = df.apply(lambda x: get_raw(x), axis=1)\n",
    "df[\"doc_title\"] = df.apply(lambda x: get_title(x), axis=1)\n",
    "df[\"doc_url\"] = df.apply(lambda x: get_url(x), axis=1)\n",
    "df.head()\n",
    "df.to_csv(\"/home/ubuntu/task-search-quality/measurements/diy/completed_annotations/judged_annotatotins.csv\", index=False)"
   ]
  },
  {
   "cell_type": "code",
   "execution_count": 12,
   "metadata": {},
   "outputs": [
    {
     "name": "stdout",
     "output_type": "stream",
     "text": [
      "['query-0', 'cooking+recipe1m+06c38e07b3533c34738b86f379aafe5c', 'how to cook a spatchcocked turkey', 'Turducken Moist and Flavorful Good Eats!', '0']\n"
     ]
    }
   ],
   "source": [
    "path = \"/home/ubuntu/task-search-quality/measurements/cooking/filled_annotations/cooking_annotations.csv\"\n",
    "qrels_path = \"/home/ubuntu/task-search-quality/measurements/judgments/cooking.qrels\"\n",
    "\n",
    "with open(path, \"r\") as f:\n",
    "    annotations = [a.strip().split(',') for a in f]\n",
    "\n",
    "with open(qrels_path, \"w\") as f:\n",
    "    for a in annotations[1:]:\n",
    "        q_id, doc_id = a[0], a[1]\n",
    "        rel = a[-1]\n",
    "        f.write(f'{q_id} Q0 {doc_id} {rel}\\n')"
   ]
  },
  {
   "cell_type": "code",
   "execution_count": null,
   "metadata": {},
   "outputs": [],
   "source": []
  }
 ],
 "metadata": {
  "kernelspec": {
   "display_name": "env",
   "language": "python",
   "name": "python3"
  },
  "language_info": {
   "codemirror_mode": {
    "name": "ipython",
    "version": 3
   },
   "file_extension": ".py",
   "mimetype": "text/x-python",
   "name": "python",
   "nbconvert_exporter": "python",
   "pygments_lexer": "ipython3",
   "version": "3.10.6"
  },
  "orig_nbformat": 4,
  "vscode": {
   "interpreter": {
    "hash": "e524aa708618ab8d8f753ac1f2022f3e8661ea3a5ed96feef0a7d789cff7a903"
   }
  }
 },
 "nbformat": 4,
 "nbformat_minor": 2
}
