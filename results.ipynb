{
 "cells": [
  {
   "cell_type": "code",
   "execution_count": 4,
   "metadata": {},
   "outputs": [],
   "source": [
    "import os\n",
    "import pandas as pd\n",
    "import sys\n",
    "import json\n",
    "from google.protobuf.json_format import Parse\n",
    "\n",
    "sys.path.insert(0, 'compiled_protobufs')\n",
    "from taskmap_pb2 import TaskMap\n",
    "\n",
    "qrels_folder = os.path.join(os.getcwd(), 'measurements', 'judgments')\n",
    "run_cooking_folder = os.path.join(os.getcwd(), 'measurements', 'cooking', 'run_files')\n",
    "run_diy_folder = os.path.join(os.getcwd(), 'measurements', 'diy', 'run_files')\n"
   ]
  },
  {
   "cell_type": "code",
   "execution_count": 34,
   "metadata": {},
   "outputs": [],
   "source": [
    "# ## save qrels files\n",
    "\n",
    "# with open(qrels_path, \"w\") as f:\n",
    "#     pd_annotations = pd.read_csv(annotations_path)\n",
    "#     lines = []\n",
    "#     # print(pd_annotations.head())\n",
    "#     for idx, annotation in pd_annotations.iterrows():\n",
    "#         q_id, doc_id, score = annotation[\"query-id\"], annotation[\"doc-id\"], annotation[\"relevance\"]\n",
    "#         lines.append(f'{q_id} Q0 {doc_id} {score}\\n')\n",
    "#     lines[-1] = lines[-1].replace(\"\\n\",\"\")\n",
    "#     f.writelines(lines)\n",
    "    "
   ]
  },
  {
   "cell_type": "code",
   "execution_count": 54,
   "metadata": {},
   "outputs": [],
   "source": [
    "# run_path = os.path.join(os.getcwd(), 'datasets', 'qrles')\n",
    "# taskmap_cooking_index_path = os.path.join(os.getcwd(), \"indexes\", \"food\", \"system_index_sparse\")\n"
   ]
  },
  {
   "cell_type": "code",
   "execution_count": 69,
   "metadata": {},
   "outputs": [],
   "source": [
    "\n",
    "# from pygaggle.rerank.base import Query, Text, hits_to_texts\n",
    "# from pygaggle.rerank.transformer import MonoT5\n",
    "\n",
    "# config = [\n",
    "#     \"bm25\",\n",
    "#     \"bm25+rm3\",\n",
    "#     \"bm25+t5\",\n",
    "#     \"bm25+rm3+t5\",\n",
    "# ]"
   ]
  },
  {
   "cell_type": "code",
   "execution_count": 1,
   "metadata": {},
   "outputs": [],
   "source": [
    "\n",
    "\n",
    "# cooking_queries = pd.read_csv(queries_path).iloc[:10]\n",
    "# reranker =  MonoT5()\n",
    "\n",
    "# def get_searcher(search_model):\n",
    "#     if search_model == \"bm25\" or search_model == \"bm25+t5\":\n",
    "#         searcher = LuceneSearcher(index_dir=taskmap_cooking_index_path)\n",
    "#         searcher.set_bm25(b=0.4, k1=0.9)\n",
    "#     if search_model == \"bm25+rm3\" or search_model == \"bm25+rm3+t5\":\n",
    "#         searcher = LuceneSearcher(index_dir=taskmap_cooking_index_path)\n",
    "#         searcher.set_bm25(b=0.4, k1=0.9)\n",
    "#         searcher.set_rm3(fb_terms=10, fb_docs=10, original_query_weight=0.5)\n",
    "#     return searcher\n",
    "\n",
    "# for model in config:\n",
    "#     lines = []\n",
    "#     for idx, query in cooking_queries.iterrows():\n",
    "#         print(f\"Initialize searcher {model}\")\n",
    "#         searcher = get_searcher(model)\n",
    "#         hits = searcher.search(q=query[\"target query\"], k=50)\n",
    "#         if \"t5\" in model:\n",
    "#             hits = reranker.rerank(Query(query[\"target query\"]), hits_to_texts(hits))\n",
    "#         for rank, hit in enumerate(hits):\n",
    "#             if type(hit) == Text:\n",
    "#                 doc_json = json.loads(hit.text)\n",
    "#             else:\n",
    "#                 doc_json = json.loads(hit.raw)\n",
    "#             taskmap_json = doc_json['recipe_document_json']\n",
    "#             taskmap = Parse(json.dumps(taskmap_json), TaskMap())\n",
    "#             doc_id = taskmap.taskmap_id\n",
    "#             line = f'query-{idx} Q0 {doc_id} {rank+1} {hit.score} bm25\\n'\n",
    "#             lines.append(line)\n",
    "#     lines[-1] = lines[-1].replace(\"\\n\",\"\")\n",
    "\n",
    "#     with open(os.path.join(run_path, model+\".run\"), \"w\") as f:\n",
    "#         f.writelines(lines)\n",
    "        \n",
    "\n"
   ]
  },
  {
   "cell_type": "code",
   "execution_count": 22,
   "metadata": {},
   "outputs": [],
   "source": [
    "import ir_measures\n",
    "from ir_measures import *\n",
    "\n",
    "# qrles = ir_measures.read_trec_qrels('qrels/qrls.qrles')\n",
    "# run = ir_measures.read_trec_run('qrels.run')\n",
    "\n",
    "# for model in config:\n",
    "#     print(os.path.join(run_path, model+\".run\"))\n",
    "#     qrles = ir_measures.read_trec_qrels(qrels_path)\n",
    "#     run = ir_measures.read_trec_run(os.path.join(run_path, model+\".run\"))\n",
    "#     accuracy = ir_measures.calc_aggregate([nDCG@3, Precision@3, Recall@3], qrles, run)\n",
    "#     print(f\"{model}: {accuracy}\")\n",
    "\n",
    "def get_accuracy(run_filepath, qrles_filepath):\n",
    "    run = ir_measures.read_trec_run(run_filepath)\n",
    "    qrles = ir_measures.read_trec_qrels(qrles_filepath)\n",
    "    accuracy = ir_measures.calc_aggregate([nDCG@10, Precision@3, Precision@5, Precision@10, MAP], qrles, run)\n",
    "    return accuracy\n",
    "    \n",
    "#     accuracy = ir_measures.calc_aggregate([nDCG@3, Precision@3, Recall@3], qrles, run)"
   ]
  },
  {
   "cell_type": "code",
   "execution_count": 18,
   "metadata": {},
   "outputs": [
    {
     "name": "stdout",
     "output_type": "stream",
     "text": [
      "bm25+rm3 {nDCG@3: nan, P@3: nan, R@3: nan}\n",
      "marqo {nDCG@3: nan, P@3: nan, R@3: nan}\n",
      "marqo-target {nDCG@3: nan, P@3: nan, R@3: nan}\n",
      "bm25+rm3+t5 {nDCG@3: nan, P@3: nan, R@3: nan}\n",
      "ance {nDCG@3: nan, P@3: nan, R@3: nan}\n",
      "bm25 {nDCG@3: nan, P@3: nan, R@3: nan}\n",
      "bm25+t5 {nDCG@3: nan, P@3: nan, R@3: nan}\n",
      "tct-colbertv2 {nDCG@3: nan, P@3: nan, R@3: nan}\n"
     ]
    }
   ],
   "source": [
    "cooking_runs = os.listdir(run_cooking_folder)\n",
    "cooking_qrles = os.path.join(qrels_folder, \"cooking.qrles\")\n",
    "\n",
    "for searcher in cooking_runs:\n",
    "    run = os.path.join(run_cooking_folder, searcher)\n",
    "    searcher_name = searcher[:-4].lower()\n",
    "    # print(searcher_name, run)\n",
    "    accuracy = get_accuracy(run, cooking_qrles)\n",
    "    print(searcher_name, accuracy)\n",
    "    "
   ]
  },
  {
   "cell_type": "code",
   "execution_count": 24,
   "metadata": {},
   "outputs": [
    {
     "name": "stdout",
     "output_type": "stream",
     "text": [
      "bm25+rm3 {P@5: 0.7019999999999998, AP: 0.5433643060232928, P@3: 0.7433333333333332, P@10: 0.6169999999999998, nDCG@10: 0.6170839613009708}\n",
      "<class 'dict'>\n",
      "marqo {P@5: 0.6599999999999998, AP: 0.4710119913660888, P@3: 0.7099999999999999, P@10: 0.5479999999999997, nDCG@10: 0.5797733430156824}\n",
      "<class 'dict'>\n",
      "marqo-target {P@5: 0.4340000000000001, AP: 0.3173515739176255, P@3: 0.44666666666666655, P@10: 0.3850000000000001, nDCG@10: 0.3858630486447604}\n",
      "<class 'dict'>\n",
      "bm25+rm3+t5 {P@5: 0.7819999999999996, AP: 0.6134608423061272, P@3: 0.8100000000000003, P@10: 0.7010000000000001, nDCG@10: 0.7214809440436319}\n",
      "<class 'dict'>\n",
      "ance {P@5: 0.5559999999999998, AP: 0.3333787621853429, P@3: 0.6499999999999997, P@10: 0.45500000000000007, nDCG@10: 0.5005271397466523}\n",
      "<class 'dict'>\n",
      "bm25 {P@5: 0.6919999999999998, AP: 0.5214069760454759, P@3: 0.7299999999999995, P@10: 0.5860000000000002, nDCG@10: 0.5968774759791069}\n",
      "<class 'dict'>\n",
      "bm25+t5 {P@5: 0.7679999999999997, AP: 0.5984733186917751, P@3: 0.79, P@10: 0.6840000000000002, nDCG@10: 0.7107907323107908}\n",
      "<class 'dict'>\n",
      "tct-colbertv2 {P@5: 0.5139999999999998, AP: 0.3634480842795803, P@3: 0.5399999999999998, P@10: 0.45600000000000007, nDCG@10: 0.4675462474763472}\n",
      "<class 'dict'>\n"
     ]
    }
   ],
   "source": [
    "diy_runs = os.listdir(run_diy_folder)\n",
    "diy_qrles = os.path.join(qrels_folder, \"diy.qrles\")\n",
    "\n",
    "results = {}\n",
    "for searcher in diy_runs:\n",
    "    run = os.path.join(run_diy_folder, searcher)\n",
    "    searcher_name = searcher[:-4].lower()\n",
    "    # print(searcher_name, run)\n",
    "    accuracy = get_accuracy(run, diy_qrles)\n",
    "    results[searcher_name] = accuracy\n",
    "    print(searcher_name, accuracy)\n",
    "    print(type(accuracy))\n",
    "    "
   ]
  },
  {
   "cell_type": "code",
   "execution_count": null,
   "metadata": {},
   "outputs": [],
   "source": []
  }
 ],
 "metadata": {
  "kernelspec": {
   "display_name": "env",
   "language": "python",
   "name": "env"
  },
  "language_info": {
   "codemirror_mode": {
    "name": "ipython",
    "version": 3
   },
   "file_extension": ".py",
   "mimetype": "text/x-python",
   "name": "python",
   "nbconvert_exporter": "python",
   "pygments_lexer": "ipython3",
   "version": "3.10.6"
  },
  "orig_nbformat": 4,
  "vscode": {
   "interpreter": {
    "hash": "5fc5ba0db375a557a527168d68cfbe4f022bc62df7af9d8f86e24130294f8f8e"
   }
  }
 },
 "nbformat": 4,
 "nbformat_minor": 2
}
