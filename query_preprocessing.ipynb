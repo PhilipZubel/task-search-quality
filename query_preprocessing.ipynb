{
 "cells": [
  {
   "cell_type": "code",
   "execution_count": 4,
   "metadata": {},
   "outputs": [],
   "source": [
    "# python -m spacy download en_core_web_sm\n",
    "\n",
    "import spacy\n",
    "import pandas as pd\n",
    "import nltk\n",
    "from nltk.stem.snowball import SnowballStemmer\n",
    "from spellchecker import SpellChecker"
   ]
  },
  {
   "cell_type": "code",
   "execution_count": 5,
   "metadata": {},
   "outputs": [],
   "source": [
    "df_cooking = pd.read_csv(\"queries/cooking.csv\")"
   ]
  },
  {
   "cell_type": "code",
   "execution_count": 18,
   "metadata": {},
   "outputs": [],
   "source": [
    "def stopword_removal(text):\n",
    "    my_file = open(\"stopwords.txt\", \"r\")\n",
    "    stopword_list = my_file.read().split(\"\\n\")\n",
    "    # print(\"stopwords\")\n",
    "    # print(stopword_list)\n",
    "    my_file.close()\n",
    "\n",
    "    tokens = []\n",
    "    # tokenization\n",
    "    doc = nlp(text, disable=[\"tagger\", \"parser\", \"attribute_ruler\", \"tok2vec\", ])\n",
    "    # stop word removal\n",
    "    for t in doc:\n",
    "        if not t.is_stop and not t.is_punct and not t.is_space:\n",
    "            if not str(t) in stopword_list:\n",
    "                tokens.append(t.lemma_.lower())\n",
    "    return tokens\n",
    "\n",
    "def stemming(tokens):\n",
    "    stemmer = SnowballStemmer(language='english')\n",
    "    return [stemmer.stem(token) for token in tokens]\n",
    "\n",
    "def spell_check(tokens):\n",
    "    spell = SpellChecker()\n",
    "    misspelled = spell.unknown(tokens)\n",
    "    words = []\n",
    "    # print(\"misspelled\", misspelled)\n",
    "    for word in tokens:\n",
    "        if word in misspelled:\n",
    "            if not spell.correction(word) is None:\n",
    "                words.append(spell.correction(word))\n",
    "            else:\n",
    "                words.append(word)\n",
    "        else:\n",
    "            words.append(word)\n",
    "    return words\n",
    "\n",
    "def key_words(tokens):\n",
    "    tokens = nlp(\" \".join(tokens))\n",
    "    # for t in tokens:\n",
    "    #     print(t.text, t.pos_)\n",
    "    pos_tag = ['PROPN', 'ADJ', 'NOUN', 'VERB', '']\n",
    "    return [token.text for token in tokens if token.pos_ in pos_tag]\n",
    "\n",
    "def preprocess_query(query):    \n",
    "    tokens = stopword_removal(query)\n",
    "    # print(\"stop\", tokens)\n",
    "    tokens = spell_check(tokens)\n",
    "    # print(\"spell\", tokens)\n",
    "    tokens = stemming(tokens)\n",
    "    # print(\"stem\", tokens)\n",
    "    tokens = key_words(tokens)\n",
    "    # print(\"key\", tokens)\n",
    "    parsed_query = \" \".join(tokens)\n",
    "    # print(query, \" - \", parsed_query)\n",
    "    return parsed_query"
   ]
  },
  {
   "cell_type": "code",
   "execution_count": 19,
   "metadata": {},
   "outputs": [],
   "source": [
    "nlp = spacy.load('en_core_web_sm', disable=['ner'])\n",
    "df_cooking[\"parsed query\"] = df_cooking[\"raw query\"].apply(lambda x: preprocess_query(x))"
   ]
  },
  {
   "cell_type": "code",
   "execution_count": null,
   "metadata": {},
   "outputs": [],
   "source": []
  },
  {
   "cell_type": "code",
   "execution_count": null,
   "metadata": {},
   "outputs": [],
   "source": []
  }
 ],
 "metadata": {
  "kernelspec": {
   "display_name": "env",
   "language": "python",
   "name": "python3"
  },
  "language_info": {
   "codemirror_mode": {
    "name": "ipython",
    "version": 3
   },
   "file_extension": ".py",
   "mimetype": "text/x-python",
   "name": "python",
   "nbconvert_exporter": "python",
   "pygments_lexer": "ipython3",
   "version": "3.9.2"
  },
  "orig_nbformat": 4,
  "vscode": {
   "interpreter": {
    "hash": "5fc5ba0db375a557a527168d68cfbe4f022bc62df7af9d8f86e24130294f8f8e"
   }
  }
 },
 "nbformat": 4,
 "nbformat_minor": 2
}
