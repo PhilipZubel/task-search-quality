{
 "cells": [
  {
   "cell_type": "code",
   "execution_count": 1,
   "metadata": {},
   "outputs": [
    {
     "name": "stdout",
     "output_type": "stream",
     "text": [
      "annotations per topic 60.21\n",
      "annotations per topic 33.46\n"
     ]
    }
   ],
   "source": [
    "import os\n",
    "import pandas as pd\n",
    "\n",
    "domains = [\"cooking\", \"diy\"]\n",
    "\n",
    "k = 10\n",
    "\n",
    "for domain in domains:\n",
    "\n",
    "    run_files_path = f\"measurements/{domain}/run_files\"\n",
    "    run_files = os.listdir(run_files_path)\n",
    "\n",
    "    annotation_set = set()\n",
    "\n",
    "    for file in run_files:\n",
    "        with open(os.path.join(os.getcwd(), run_files_path, file), \"r\") as f:\n",
    "            # runs = [run for run in f]\n",
    "            for run in f:\n",
    "                run_components = \" \".join(run.split(' ')[0:3])\n",
    "                # print(run)\n",
    "                if int(run.split(' ')[3]) <= k:\n",
    "                    annotation_set.add(run_components)\n",
    "\n",
    "    empty_annotations = sorted(annotation_set)\n",
    "\n",
    "    queries = pd.read_csv(f'queries/{domain}.csv')\n",
    "\n",
    "    print(\"annotations per topic\", len(empty_annotations) / 100)\n",
    "\n",
    "    annotations_list = []\n",
    "\n",
    "    for annotations in empty_annotations:\n",
    "        query_id, _, taskgraph_id = annotations.split(' ')\n",
    "        # print(query_id)\n",
    "        raw_query = queries[queries[\"id\"] == query_id].iloc[0][\"raw query\"]\n",
    "        annotations_list.append({\n",
    "            \"query-id\": query_id,\n",
    "            \"raw query\": raw_query,\n",
    "            \"taskgraph-id\": taskgraph_id,\n",
    "        })\n",
    "\n",
    "    empty_annotations_path = f\"measurements/{domain}/empty_annotations\"\n",
    "    df = pd.DataFrame(annotations_list)\n",
    "    df.to_csv(os.path.join(os.getcwd(), empty_annotations_path, f\"updated-empty_annotations-{k}.csv\"), index=False)\n",
    "# queries[\"id\"]\n",
    "\n",
    "# with open(os.path.join(os.getcwd(), empty_annotations_path, 'combined_annotations.csv'), \"r\") as f:\n",
    "        \n"
   ]
  },
  {
   "cell_type": "code",
   "execution_count": 9,
   "metadata": {},
   "outputs": [],
   "source": [
    "# get missing annotations\n",
    "import csv \n",
    "updated_annotations_path = \"measurements/diy/empty_annotations/updated-empty_annotations-10.csv\"\n",
    "new_annotations_path = \"measurements/diy/empty_annotations/empty_annotations-10.csv\"\n",
    "\n",
    "with open(updated_annotations_path, \"r\") as f:\n",
    "    updated_annotations = {line for line in f}\n",
    "    \n",
    "with open(new_annotations_path, \"r\") as f:\n",
    "    annotations = {line for line in f}\n",
    "diff_annotations =  list(updated_annotations.difference(annotations))\n",
    "diff_annotations = [a.strip().split(',') for a in diff_annotations]\n",
    "with open('measurements/diy/empty_annotations/difference-empty_annotations-10.csv','w') as result_file:\n",
    "    wr = csv.writer(result_file, delimiter=',')\n",
    "    wr.writerows(diff_annotations)\n",
    "# print(diff_annotations)\n",
    "\n",
    "# len(diff_annotations)\n"
   ]
  },
  {
   "cell_type": "code",
   "execution_count": 32,
   "metadata": {},
   "outputs": [],
   "source": [
    "import sys\n",
    "\n",
    "sys.path.insert(0, 'compiled_protobufs')"
   ]
  },
  {
   "cell_type": "code",
   "execution_count": 36,
   "metadata": {},
   "outputs": [
    {
     "data": {
      "text/plain": [
       "{'hits': [], 'processingTimeMs': 35, 'query': 'fix a fridge', 'limit': 10}"
      ]
     },
     "execution_count": 36,
     "metadata": {},
     "output_type": "execute_result"
    }
   ],
   "source": [
    "from models_indexes.marqo_model import MarqoModel\n",
    "from models_indexes.abstract_model import AbstractModel\n",
    "\n",
    "models = {}\n",
    "\n",
    "# for domain in  [\"DIY\", \"COOKING\"]:\n",
    "for domain in  [\"DIY\"]:\n",
    "    models[domain] = {\n",
    "        # \"bm25\" : BM25Model(domain = domain),\n",
    "        # \"bm25+rm3\" : BM25Model(domain = domain, rm3=True),\n",
    "        # \"bm25+t5\" : BM25Model(domain = domain, t5=True),\n",
    "        # \"bm25+rm3+t5\" : BM25Model(domain = domain, rm3=True, t5=True),\n",
    "        # \"ance\": AnceModel(domain = domain),\n",
    "        # \"colbert\": ColbertModel(domain = domain),\n",
    "        \"marqo\": MarqoModel(domain = domain),\n",
    "    }\n",
    "    \n",
    "models[\"DIY\"][\"marqo\"].search(\"fix a fridge\")\n",
    "# models[\"DIY\"][\"marqo\"].search(\"fridge\")\n",
    "# models[\"DIY\"][\"marqo\"].get_stats()\n",
    "models[\"DIY\"][\"marqo\"].get_single_document(\"diy+wikihow-offline+4e3c05e275eed0c1b2572ac770139c52\")\n",
    "# print(\"Creating run files \")\n",
    "# for domain, index_models in models.items():\n",
    "#     qs = queries[domain]\n",
    "#     print(f\"DOMAIN {domain}\")\n",
    "#     for model_name, model in index_models.items():\n",
    "#         model.convert_search_results_to_run(qs)"
   ]
  },
  {
   "cell_type": "code",
   "execution_count": 17,
   "metadata": {},
   "outputs": [
    {
     "name": "stdout",
     "output_type": "stream",
     "text": [
      "query-6 Q0 diy+wikihow-offline+3f5716a7d0530fcb662a9cc257419c7f 0\n",
      "query-43 Q0 diy+wikihow-offline+5275a81226a3568e6b8559c77ce16c98 0\n",
      "{('query-6', 'diy+wikihow-offline+3f5716a7d0530fcb662a9cc257419c7f'), ('query-43', 'diy+wikihow-offline+5275a81226a3568e6b8559c77ce16c98')}\n"
     ]
    }
   ],
   "source": [
    "run_file = \"/home/ubuntu/task-search-quality/measurements/diy/run_files/ance.run\"\n",
    "qrels_file = \"/home/ubuntu/task-search-quality/measurements/judgments/diy.qrels\"\n",
    "\n",
    "def find_missing_runs(run_file, qrels_file, k = 10):\n",
    "    with open(run_file, \"r\") as f:\n",
    "        runs = [line.strip().split(\" \") for line in f]\n",
    "        for run in runs:\n",
    "            run[3] = int(run[3])\n",
    "            run[4] = float(run[4])\n",
    "        runs = [run for run in runs if run[3] <= 10]\n",
    "        runs = {(run[0],run[2]) for run in runs}\n",
    "    # print(runs[:10])\n",
    "        \n",
    "    with open(qrels_file, \"r\") as f:\n",
    "        qrels = [line.strip().split(\" \") for line in f]\n",
    "        qrels = {(qrel[0], qrel[2]) for qrel in qrels}\n",
    "    # print(qrels[:10])\n",
    "    dif = runs.difference(qrels)\n",
    "    for d in dif:\n",
    "        print(f'{d[0]} Q0 {d[1]} 0')\n",
    "    print(dif)\n",
    "    \n",
    "find_missing_runs(run_file, qrels_file)\n",
    "        "
   ]
  },
  {
   "cell_type": "code",
   "execution_count": null,
   "metadata": {},
   "outputs": [],
   "source": []
  }
 ],
 "metadata": {
  "kernelspec": {
   "display_name": "env",
   "language": "python",
   "name": "env"
  },
  "language_info": {
   "codemirror_mode": {
    "name": "ipython",
    "version": 3
   },
   "file_extension": ".py",
   "mimetype": "text/x-python",
   "name": "python",
   "nbconvert_exporter": "python",
   "pygments_lexer": "ipython3",
   "version": "3.10.6"
  },
  "orig_nbformat": 4,
  "vscode": {
   "interpreter": {
    "hash": "5fc5ba0db375a557a527168d68cfbe4f022bc62df7af9d8f86e24130294f8f8e"
   }
  }
 },
 "nbformat": 4,
 "nbformat_minor": 2
}
